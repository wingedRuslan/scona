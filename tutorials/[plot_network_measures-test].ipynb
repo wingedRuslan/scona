{
 "cells": [
  {
   "cell_type": "markdown",
   "metadata": {},
   "source": [
    "# Examples of using visualisation tools"
   ]
  },
  {
   "cell_type": "code",
   "execution_count": 1,
   "metadata": {
    "collapsed": true
   },
   "outputs": [],
   "source": [
    "import scona as scn\n",
    "import scona.datasets as datasets\n",
    "import numpy as np\n",
    "import networkx as nx\n",
    "import pandas as pd"
   ]
  },
  {
   "cell_type": "code",
   "execution_count": 2,
   "metadata": {
    "collapsed": true
   },
   "outputs": [],
   "source": [
    "# Read in sample data from the NSPN WhitakerVertes PNAS 2016 paper.\n",
    "df, names, covars, centroids = datasets.NSPN_WhitakerVertes_PNAS2016.import_data()\n",
    "\n",
    "# calculate residuals of the matrix df for the columns of names\n",
    "df_res = scn.create_residuals_df(df, names, covars)\n",
    "\n",
    "# create a correlation matrix over the columns of df_res\n",
    "M = scn.create_corrmat(df_res, method='pearson')\n",
    "\n",
    "# Initialise a weighted graph G from the correlation matrix M\n",
    "G = scn.BrainNetwork(network=M, parcellation=names, centroids=centroids)\n",
    "\n",
    "# make threshold\n",
    "H = G.threshold(10)"
   ]
  },
  {
   "cell_type": "code",
   "execution_count": 3,
   "metadata": {
    "collapsed": true
   },
   "outputs": [],
   "source": [
    "import matplotlib.pylab as plt\n",
    "import seaborn as sns\n",
    "%matplotlib inline\n",
    "from scipy import stats"
   ]
  },
  {
   "cell_type": "markdown",
   "metadata": {},
   "source": [
    "## Network Measures Implementations with *GRAPHBundle*"
   ]
  },
  {
   "cell_type": "code",
   "execution_count": 5,
   "metadata": {
    "collapsed": true
   },
   "outputs": [],
   "source": [
    "bundleGraphs = scn.GraphBundle([H], ['Real Network'])"
   ]
  },
  {
   "cell_type": "code",
   "execution_count": 6,
   "metadata": {},
   "outputs": [
    {
     "data": {
      "text/plain": [
       "{'Real Network': <scona.classes.BrainNetwork at 0x7f356ecd6e10>}"
      ]
     },
     "execution_count": 6,
     "metadata": {},
     "output_type": "execute_result"
    }
   ],
   "source": [
    "bundleGraphs"
   ]
  },
  {
   "cell_type": "code",
   "execution_count": 7,
   "metadata": {},
   "outputs": [
    {
     "name": "stdout",
     "output_type": "stream",
     "text": [
      "        Creating 10 random graphs - may take a little while\n"
     ]
    }
   ],
   "source": [
    "# Note that 10 is not usually a sufficient number of random graphs to do meaningful analysis,\n",
    "# it is used here for time considerations\n",
    "bundleGraphs.create_random_graphs('Real Network', 10)"
   ]
  },
  {
   "cell_type": "code",
   "execution_count": 8,
   "metadata": {},
   "outputs": [
    {
     "data": {
      "text/plain": [
       "{'Real Network': <scona.classes.BrainNetwork at 0x7f356ecd6e10>,\n",
       " 'Real Network_R0': <scona.classes.BrainNetwork at 0x7f356d3c12e8>,\n",
       " 'Real Network_R1': <scona.classes.BrainNetwork at 0x7f356d327e48>,\n",
       " 'Real Network_R2': <scona.classes.BrainNetwork at 0x7f356d327e80>,\n",
       " 'Real Network_R3': <scona.classes.BrainNetwork at 0x7f356ee37fd0>,\n",
       " 'Real Network_R4': <scona.classes.BrainNetwork at 0x7f356d3c1240>,\n",
       " 'Real Network_R5': <scona.classes.BrainNetwork at 0x7f356d3c12b0>,\n",
       " 'Real Network_R6': <scona.classes.BrainNetwork at 0x7f356d3c1128>,\n",
       " 'Real Network_R7': <scona.classes.BrainNetwork at 0x7f356d3c1278>,\n",
       " 'Real Network_R8': <scona.classes.BrainNetwork at 0x7f356d3c1320>,\n",
       " 'Real Network_R9': <scona.classes.BrainNetwork at 0x7f356d3c1358>}"
      ]
     },
     "execution_count": 8,
     "metadata": {},
     "output_type": "execute_result"
    }
   ],
   "source": [
    "bundleGraphs"
   ]
  },
  {
   "cell_type": "code",
   "execution_count": 9,
   "metadata": {},
   "outputs": [
    {
     "data": {
      "text/plain": [
       "11"
      ]
     },
     "execution_count": 9,
     "metadata": {},
     "output_type": "execute_result"
    }
   ],
   "source": [
    "len(bundleGraphs)"
   ]
  },
  {
   "cell_type": "markdown",
   "metadata": {},
   "source": [
    "### Input has been made - now function implementation"
   ]
  },
  {
   "cell_type": "code",
   "execution_count": 4,
   "metadata": {},
   "outputs": [
    {
     "ename": "NameError",
     "evalue": "name 'bundleGraphs' is not defined",
     "output_type": "error",
     "traceback": [
      "\u001b[0;31m-----------------------------------------------------------------------\u001b[0m",
      "\u001b[0;31mNameError\u001b[0m                             Traceback (most recent call last)",
      "\u001b[0;32m<ipython-input-4-1e7bc212de9f>\u001b[0m in \u001b[0;36m<module>\u001b[0;34m()\u001b[0m\n\u001b[0;32m----> 1\u001b[0;31m \u001b[0mbundleGraphs_measures\u001b[0m \u001b[0;34m=\u001b[0m \u001b[0mbundleGraphs\u001b[0m\u001b[0;34m.\u001b[0m\u001b[0mreport_global_measures\u001b[0m\u001b[0;34m(\u001b[0m\u001b[0;34m)\u001b[0m\u001b[0;34m\u001b[0m\u001b[0;34m\u001b[0m\u001b[0m\n\u001b[0m",
      "\u001b[0;31mNameError\u001b[0m: name 'bundleGraphs' is not defined"
     ]
    }
   ],
   "source": [
    "bundleGraphs_measures = bundleGraphs.report_global_measures()"
   ]
  },
  {
   "cell_type": "code",
   "execution_count": null,
   "metadata": {
    "collapsed": true
   },
   "outputs": [],
   "source": [
    "bundleGraphs_measures"
   ]
  },
  {
   "cell_type": "code",
   "execution_count": null,
   "metadata": {
    "collapsed": true
   },
   "outputs": [],
   "source": [
    "len(bundleGraphs_measures)"
   ]
  },
  {
   "cell_type": "code",
   "execution_count": null,
   "metadata": {
    "collapsed": true
   },
   "outputs": [],
   "source": [
    "# see the global measures of 1 Graph\n",
    "\n",
    "bundleGraphs[\"Real Network\"].graph[\"global_measures\"]"
   ]
  },
  {
   "cell_type": "code",
   "execution_count": null,
   "metadata": {
    "collapsed": true
   },
   "outputs": [],
   "source": [
    "# could be usefule to check if GraPhBundle has global measures for each graph\n",
    "# ну и не нужно, так как graph_measures/calculate_global_measure не будет считать если эти параметры уже есть"
   ]
  },
  {
   "cell_type": "code",
   "execution_count": null,
   "metadata": {
    "collapsed": true
   },
   "outputs": [],
   "source": [
    "bundleGraphs.keys()"
   ]
  },
  {
   "cell_type": "code",
   "execution_count": null,
   "metadata": {
    "collapsed": true
   },
   "outputs": [],
   "source": [
    "bundleGraphs['Real Network'].graph['global_measures']"
   ]
  },
  {
   "cell_type": "code",
   "execution_count": null,
   "metadata": {
    "collapsed": true
   },
   "outputs": [],
   "source": []
  },
  {
   "cell_type": "code",
   "execution_count": null,
   "metadata": {
    "collapsed": true
   },
   "outputs": [],
   "source": []
  },
  {
   "cell_type": "code",
   "execution_count": null,
   "metadata": {
    "collapsed": true
   },
   "outputs": [],
   "source": []
  },
  {
   "cell_type": "code",
   "execution_count": null,
   "metadata": {
    "collapsed": true
   },
   "outputs": [],
   "source": []
  },
  {
   "cell_type": "code",
   "execution_count": null,
   "metadata": {
    "collapsed": true
   },
   "outputs": [],
   "source": []
  },
  {
   "cell_type": "code",
   "execution_count": null,
   "metadata": {
    "collapsed": true
   },
   "outputs": [],
   "source": []
  },
  {
   "cell_type": "code",
   "execution_count": null,
   "metadata": {
    "collapsed": true
   },
   "outputs": [],
   "source": [
    "sorted_net_measures = sorted(bundleGraphs_measures.columns.values)"
   ]
  },
  {
   "cell_type": "code",
   "execution_count": null,
   "metadata": {
    "collapsed": true
   },
   "outputs": [],
   "source": [
    "sorted_net_measures"
   ]
  },
  {
   "cell_type": "code",
   "execution_count": null,
   "metadata": {
    "collapsed": true
   },
   "outputs": [],
   "source": [
    "real_network = \"Real Network\""
   ]
  },
  {
   "cell_type": "code",
   "execution_count": null,
   "metadata": {
    "collapsed": true
   },
   "outputs": [],
   "source": [
    "list(bundleGraphs_measures.loc[real_network])"
   ]
  },
  {
   "cell_type": "code",
   "execution_count": null,
   "metadata": {
    "collapsed": true
   },
   "outputs": [],
   "source": [
    "bundleGraphs_measures.loc[real_network, 'assortativity']"
   ]
  },
  {
   "cell_type": "code",
   "execution_count": null,
   "metadata": {
    "collapsed": true
   },
   "outputs": [],
   "source": [
    "bundleGraphs[\"Real Network\"]"
   ]
  },
  {
   "cell_type": "code",
   "execution_count": null,
   "metadata": {
    "collapsed": true
   },
   "outputs": [],
   "source": [
    "try:\n",
    "    real_measures = bundleGraphs_measures.loc[real_network, 'assortativity']\n",
    "except KeyError:\n",
    "    raise KeyError(\"The name of the real Graph you passed to the function - \\\"{}\\\", does not exist in GraphBundle. Please provide a true name of real Graph (represented as a key in GraphBundle)\".format(real_network))"
   ]
  },
  {
   "cell_type": "code",
   "execution_count": null,
   "metadata": {
    "collapsed": true
   },
   "outputs": [],
   "source": [
    "real_measures"
   ]
  },
  {
   "cell_type": "code",
   "execution_count": null,
   "metadata": {
    "collapsed": true
   },
   "outputs": [],
   "source": [
    "real_net_values = []\n",
    "for i in sorted_net_measures:\n",
    "    real_net_values.append(real_measures[i])"
   ]
  },
  {
   "cell_type": "code",
   "execution_count": null,
   "metadata": {
    "collapsed": true
   },
   "outputs": [],
   "source": [
    "real_net_values"
   ]
  },
  {
   "cell_type": "code",
   "execution_count": null,
   "metadata": {
    "collapsed": true
   },
   "outputs": [],
   "source": [
    "sorted_net_measures"
   ]
  },
  {
   "cell_type": "markdown",
   "metadata": {},
   "source": [
    "** Now values of measures for random graphs **"
   ]
  },
  {
   "cell_type": "code",
   "execution_count": null,
   "metadata": {
    "collapsed": true
   },
   "outputs": [],
   "source": [
    "bundleGraphs_measures"
   ]
  },
  {
   "cell_type": "code",
   "execution_count": null,
   "metadata": {
    "collapsed": true
   },
   "outputs": [],
   "source": [
    "random_df = bundleGraphs_measures.drop(real_network)"
   ]
  },
  {
   "cell_type": "code",
   "execution_count": null,
   "metadata": {
    "collapsed": true
   },
   "outputs": [],
   "source": [
    "random_df"
   ]
  },
  {
   "cell_type": "code",
   "execution_count": null,
   "metadata": {
    "collapsed": true
   },
   "outputs": [],
   "source": []
  },
  {
   "cell_type": "code",
   "execution_count": null,
   "metadata": {
    "collapsed": true
   },
   "outputs": [],
   "source": []
  },
  {
   "cell_type": "code",
   "execution_count": null,
   "metadata": {
    "collapsed": true
   },
   "outputs": [],
   "source": []
  },
  {
   "cell_type": "code",
   "execution_count": null,
   "metadata": {
    "collapsed": true
   },
   "outputs": [],
   "source": []
  },
  {
   "cell_type": "markdown",
   "metadata": {},
   "source": [
    "# Make Fucking Plot"
   ]
  },
  {
   "cell_type": "code",
   "execution_count": null,
   "metadata": {
    "collapsed": true
   },
   "outputs": [],
   "source": [
    "tips = sns.load_dataset(\"tips\")"
   ]
  },
  {
   "cell_type": "code",
   "execution_count": null,
   "metadata": {
    "collapsed": true
   },
   "outputs": [],
   "source": [
    "tips.head()"
   ]
  },
  {
   "cell_type": "code",
   "execution_count": null,
   "metadata": {
    "collapsed": true
   },
   "outputs": [],
   "source": [
    "ax = sns.barplot(x=\"day\", y=\"total_bill\", hue=\"sex\", data=tips)"
   ]
  },
  {
   "cell_type": "markdown",
   "metadata": {},
   "source": [
    "## Build the dataframe to later use for plotting"
   ]
  },
  {
   "cell_type": "code",
   "execution_count": null,
   "metadata": {
    "collapsed": true
   },
   "outputs": [],
   "source": [
    "bundleGraphs_measures = bundleGraphs.report_global_measures()"
   ]
  },
  {
   "cell_type": "code",
   "execution_count": null,
   "metadata": {
    "collapsed": true
   },
   "outputs": [],
   "source": [
    "bundleGraphs_measures"
   ]
  },
  {
   "cell_type": "code",
   "execution_count": null,
   "metadata": {
    "collapsed": true
   },
   "outputs": [],
   "source": [
    "sorted_network_measures = sorted(bundleGraphs_measures.columns.values)"
   ]
  },
  {
   "cell_type": "code",
   "execution_count": null,
   "metadata": {
    "collapsed": true
   },
   "outputs": [],
   "source": [
    "# get the sorted columns of dataframe \n",
    "\n",
    "sorted_network_measures"
   ]
  },
  {
   "cell_type": "code",
   "execution_count": null,
   "metadata": {
    "collapsed": true
   },
   "outputs": [],
   "source": [
    "# set abbreviations for measures\n",
    "abbreviation = {'assortativity': 'a', 'average_clustering': 'C',\n",
    "                'average_shortest_path_length': 'L',\n",
    "                'efficiency': 'E', 'modularity': 'M'}"
   ]
  },
  {
   "cell_type": "code",
   "execution_count": null,
   "metadata": {
    "collapsed": true
   },
   "outputs": [],
   "source": [
    "# set columns for our new dataframe\n",
    "\n",
    "new_columns = [\"measure\", \"value\", \"TypeNetwork\"]"
   ]
  },
  {
   "cell_type": "code",
   "execution_count": null,
   "metadata": {
    "collapsed": true
   },
   "outputs": [],
   "source": [
    "new_columns"
   ]
  },
  {
   "cell_type": "code",
   "execution_count": null,
   "metadata": {
    "collapsed": true
   },
   "outputs": [],
   "source": [
    "# set number of rows (indexes)\n",
    "\n",
    "no_columns_old = len(bundleGraphs_measures.columns)\n",
    "no_rows_old = len(bundleGraphs_measures.index)\n",
    "\n",
    "total_rows = no_columns_old * no_rows_old"
   ]
  },
  {
   "cell_type": "code",
   "execution_count": null,
   "metadata": {
    "collapsed": true
   },
   "outputs": [],
   "source": [
    "total_rows"
   ]
  },
  {
   "cell_type": "code",
   "execution_count": null,
   "metadata": {
    "collapsed": true
   },
   "outputs": [],
   "source": [
    "index = [i for i in range(1, total_rows+1)]"
   ]
  },
  {
   "cell_type": "code",
   "execution_count": null,
   "metadata": {
    "collapsed": true
   },
   "outputs": [],
   "source": [
    "len(index)"
   ]
  },
  {
   "cell_type": "code",
   "execution_count": null,
   "metadata": {
    "collapsed": true
   },
   "outputs": [],
   "source": [
    "# now start redesigning the old dataframe"
   ]
  },
  {
   "cell_type": "code",
   "execution_count": null,
   "metadata": {
    "collapsed": true
   },
   "outputs": [],
   "source": [
    "real_network_name = \"Real Network\""
   ]
  },
  {
   "cell_type": "code",
   "execution_count": null,
   "metadata": {
    "collapsed": true
   },
   "outputs": [],
   "source": [
    "bundleGraphs_measures"
   ]
  },
  {
   "cell_type": "code",
   "execution_count": null,
   "metadata": {
    "collapsed": true
   },
   "outputs": [],
   "source": [
    "data_array = list()"
   ]
  },
  {
   "cell_type": "code",
   "execution_count": null,
   "metadata": {
    "collapsed": true
   },
   "outputs": [],
   "source": [
    "data_array"
   ]
  },
  {
   "cell_type": "code",
   "execution_count": null,
   "metadata": {
    "collapsed": true
   },
   "outputs": [],
   "source": [
    "# 1) JUST THE REAL NETWORK STORE in THAT ARRAY"
   ]
  },
  {
   "cell_type": "code",
   "execution_count": null,
   "metadata": {
    "collapsed": true
   },
   "outputs": [],
   "source": [
    "for i in bundleGraphs_measures.columns:\n",
    "    \n",
    "    value = bundleGraphs_measures.loc[real_network_name, i]    # the name of the real network, and column name\n",
    "    measure = abbreviation[i]                                  # get the abbreviation for measure and use this abb\n",
    "    TypeNetwork = \"Real Network\"\n",
    "    \n",
    "    tmp = [measure, value, TypeNetwork]\n",
    "    \n",
    "    data_array.append(tmp)"
   ]
  },
  {
   "cell_type": "code",
   "execution_count": null,
   "metadata": {
    "collapsed": true
   },
   "outputs": [],
   "source": [
    "bundleGraphs_measures[\"assortativity\"][\"Real Network\"]"
   ]
  },
  {
   "cell_type": "code",
   "execution_count": null,
   "metadata": {
    "collapsed": true
   },
   "outputs": [],
   "source": []
  },
  {
   "cell_type": "code",
   "execution_count": null,
   "metadata": {
    "collapsed": true
   },
   "outputs": [],
   "source": [
    "bundleGraphs_measures.loc[\"Real Network\", \"assortativity\"]"
   ]
  },
  {
   "cell_type": "code",
   "execution_count": null,
   "metadata": {
    "collapsed": true
   },
   "outputs": [],
   "source": []
  },
  {
   "cell_type": "code",
   "execution_count": null,
   "metadata": {
    "collapsed": true
   },
   "outputs": [],
   "source": [
    "tmp"
   ]
  },
  {
   "cell_type": "code",
   "execution_count": null,
   "metadata": {
    "collapsed": true
   },
   "outputs": [],
   "source": [
    "data_array"
   ]
  },
  {
   "cell_type": "code",
   "execution_count": null,
   "metadata": {
    "collapsed": true
   },
   "outputs": [],
   "source": [
    "# 2) AND NOW FOR THE RANDOM NETWORKs AND STORE in THAT ARRAY"
   ]
  },
  {
   "cell_type": "code",
   "execution_count": null,
   "metadata": {
    "collapsed": true
   },
   "outputs": [],
   "source": [
    "# drop real network and make dataframe of only random networks\n",
    "\n",
    "random_df = bundleGraphs_measures.drop(real_network_name)"
   ]
  },
  {
   "cell_type": "code",
   "execution_count": null,
   "metadata": {
    "collapsed": true
   },
   "outputs": [],
   "source": [
    "random_df"
   ]
  },
  {
   "cell_type": "code",
   "execution_count": null,
   "metadata": {
    "collapsed": true
   },
   "outputs": [],
   "source": [
    "rand_array = []"
   ]
  },
  {
   "cell_type": "code",
   "execution_count": null,
   "metadata": {
    "collapsed": true
   },
   "outputs": [],
   "source": [
    "rand_array"
   ]
  },
  {
   "cell_type": "code",
   "execution_count": null,
   "metadata": {
    "collapsed": true
   },
   "outputs": [],
   "source": [
    "for measure in random_df.columns:\n",
    "    for rand_graph in random_df.index:\n",
    "        value = random_df[measure][rand_graph]\n",
    "        measure_short = abbreviation[measure]\n",
    "        TypeNetwork = \"Random Network\"\n",
    "        \n",
    "        tmp = [measure_short, value, TypeNetwork]\n",
    "        \n",
    "        data_array.append(tmp)"
   ]
  },
  {
   "cell_type": "code",
   "execution_count": 128,
   "metadata": {},
   "outputs": [
    {
     "data": {
      "text/plain": [
       "Index(['assortativity', 'average_clustering', 'average_shortest_path_length',\n",
       "       'efficiency', 'modularity'],\n",
       "      dtype='object')"
      ]
     },
     "execution_count": 128,
     "metadata": {},
     "output_type": "execute_result"
    }
   ],
   "source": [
    "random_df.columns"
   ]
  },
  {
   "cell_type": "code",
   "execution_count": 129,
   "metadata": {},
   "outputs": [
    {
     "data": {
      "text/plain": [
       "Index(['Real Network_R0', 'Real Network_R1', 'Real Network_R2',\n",
       "       'Real Network_R3', 'Real Network_R4', 'Real Network_R5',\n",
       "       'Real Network_R6', 'Real Network_R7', 'Real Network_R8',\n",
       "       'Real Network_R9'],\n",
       "      dtype='object')"
      ]
     },
     "execution_count": 129,
     "metadata": {},
     "output_type": "execute_result"
    }
   ],
   "source": [
    "random_df.index"
   ]
  },
  {
   "cell_type": "code",
   "execution_count": null,
   "metadata": {
    "collapsed": true
   },
   "outputs": [],
   "source": [
    "data_array"
   ]
  },
  {
   "cell_type": "code",
   "execution_count": null,
   "metadata": {
    "collapsed": true
   },
   "outputs": [],
   "source": [
    "len(data_array)"
   ]
  },
  {
   "cell_type": "code",
   "execution_count": null,
   "metadata": {
    "collapsed": true
   },
   "outputs": [],
   "source": []
  },
  {
   "cell_type": "code",
   "execution_count": null,
   "metadata": {
    "collapsed": true
   },
   "outputs": [],
   "source": [
    "# total array\n",
    "data = data_array + rand_array"
   ]
  },
  {
   "cell_type": "code",
   "execution_count": null,
   "metadata": {
    "collapsed": true
   },
   "outputs": [],
   "source": [
    "data"
   ]
  },
  {
   "cell_type": "code",
   "execution_count": null,
   "metadata": {
    "collapsed": true
   },
   "outputs": [],
   "source": [
    "len(data)"
   ]
  },
  {
   "cell_type": "code",
   "execution_count": null,
   "metadata": {
    "collapsed": true
   },
   "outputs": [],
   "source": [
    "NewDataFrame = pd.DataFrame(data=data_array, index=index, columns=new_columns)"
   ]
  },
  {
   "cell_type": "code",
   "execution_count": null,
   "metadata": {
    "collapsed": true
   },
   "outputs": [],
   "source": [
    "NewDataFrame"
   ]
  },
  {
   "cell_type": "code",
   "execution_count": null,
   "metadata": {
    "collapsed": true
   },
   "outputs": [],
   "source": [
    "bundleGraphs_measures"
   ]
  },
  {
   "cell_type": "code",
   "execution_count": null,
   "metadata": {
    "collapsed": true
   },
   "outputs": [],
   "source": []
  },
  {
   "cell_type": "code",
   "execution_count": null,
   "metadata": {
    "collapsed": true
   },
   "outputs": [],
   "source": []
  },
  {
   "cell_type": "code",
   "execution_count": 131,
   "metadata": {
    "collapsed": true
   },
   "outputs": [],
   "source": [
    "small_worlds = bundleGraphs.report_small_world(\"Real Network\")"
   ]
  },
  {
   "cell_type": "code",
   "execution_count": 133,
   "metadata": {},
   "outputs": [
    {
     "data": {
      "text/plain": [
       "{'Real Network': 1.0,\n",
       " 'Real Network_R0': 1.6565957947535912,\n",
       " 'Real Network_R1': 1.650735119721434,\n",
       " 'Real Network_R2': 1.7635001523458032,\n",
       " 'Real Network_R3': 1.760155578596434,\n",
       " 'Real Network_R4': 1.709162790297258,\n",
       " 'Real Network_R5': 1.7640603642845916,\n",
       " 'Real Network_R6': 1.821642854899903,\n",
       " 'Real Network_R7': 1.705754346325304,\n",
       " 'Real Network_R8': 1.7517894829659157,\n",
       " 'Real Network_R9': 1.7183823244651244}"
      ]
     },
     "execution_count": 133,
     "metadata": {},
     "output_type": "execute_result"
    }
   ],
   "source": [
    "small_worlds"
   ]
  },
  {
   "cell_type": "code",
   "execution_count": 134,
   "metadata": {},
   "outputs": [
    {
     "data": {
      "text/plain": [
       "[1.0,\n",
       " 1.6565957947535912,\n",
       " 1.650735119721434,\n",
       " 1.7635001523458032,\n",
       " 1.760155578596434,\n",
       " 1.709162790297258,\n",
       " 1.7640603642845916,\n",
       " 1.821642854899903,\n",
       " 1.705754346325304,\n",
       " 1.7517894829659157,\n",
       " 1.7183823244651244]"
      ]
     },
     "execution_count": 134,
     "metadata": {},
     "output_type": "execute_result"
    }
   ],
   "source": [
    "list(small_worlds.values())"
   ]
  },
  {
   "cell_type": "code",
   "execution_count": 136,
   "metadata": {},
   "outputs": [
    {
     "data": {
      "text/plain": [
       "11"
      ]
     },
     "execution_count": 136,
     "metadata": {},
     "output_type": "execute_result"
    }
   ],
   "source": [
    "len(bundleGraphs)"
   ]
  },
  {
   "cell_type": "code",
   "execution_count": null,
   "metadata": {
    "collapsed": true
   },
   "outputs": [],
   "source": []
  },
  {
   "cell_type": "code",
   "execution_count": null,
   "metadata": {
    "collapsed": true
   },
   "outputs": [],
   "source": []
  },
  {
   "cell_type": "code",
   "execution_count": null,
   "metadata": {
    "collapsed": true
   },
   "outputs": [],
   "source": []
  },
  {
   "cell_type": "code",
   "execution_count": null,
   "metadata": {
    "collapsed": true
   },
   "outputs": [],
   "source": []
  },
  {
   "cell_type": "code",
   "execution_count": null,
   "metadata": {
    "collapsed": true
   },
   "outputs": [],
   "source": [
    "columns = [\"a\", \"b\", \"c\"]"
   ]
  },
  {
   "cell_type": "code",
   "execution_count": null,
   "metadata": {
    "collapsed": true
   },
   "outputs": [],
   "source": [
    "index = [1,2,3]"
   ]
  },
  {
   "cell_type": "code",
   "execution_count": null,
   "metadata": {
    "collapsed": true
   },
   "outputs": [],
   "source": [
    "data = np.array([[1,2,3], [4,5,6], [7,8,9]])"
   ]
  },
  {
   "cell_type": "code",
   "execution_count": null,
   "metadata": {
    "collapsed": true
   },
   "outputs": [],
   "source": [
    "data"
   ]
  },
  {
   "cell_type": "code",
   "execution_count": null,
   "metadata": {
    "collapsed": true
   },
   "outputs": [],
   "source": [
    "ll = [[11,12,13], [14,15,16], [17,18,19]]"
   ]
  },
  {
   "cell_type": "code",
   "execution_count": null,
   "metadata": {
    "collapsed": true
   },
   "outputs": [],
   "source": [
    "test = pd.DataFrame(ll, index=index, columns=columns)"
   ]
  },
  {
   "cell_type": "code",
   "execution_count": null,
   "metadata": {
    "collapsed": true
   },
   "outputs": [],
   "source": [
    "test"
   ]
  },
  {
   "cell_type": "code",
   "execution_count": null,
   "metadata": {
    "collapsed": true
   },
   "outputs": [],
   "source": []
  },
  {
   "cell_type": "code",
   "execution_count": null,
   "metadata": {
    "collapsed": true
   },
   "outputs": [],
   "source": [
    "sns.set(style=\"white\")\n",
    "sns.set_context(\"poster\", font_scale=1)"
   ]
  },
  {
   "cell_type": "code",
   "execution_count": null,
   "metadata": {
    "collapsed": true
   },
   "outputs": [],
   "source": [
    "color = [sns.color_palette()[0], \"lightgrey\"]"
   ]
  },
  {
   "cell_type": "code",
   "execution_count": null,
   "metadata": {
    "collapsed": true
   },
   "outputs": [],
   "source": [
    "fig, ax = plt.subplots(figsize=(8, 6))\n",
    "\n",
    "ax = sns.barplot(x=\"measure\", y=\"value\", hue=\"TypeNetwork\", data=NewDataFrame, \n",
    "                 palette=[color[0],color[1]], ci=\"sd\")\n",
    "\n",
    "# make a line at y=0\n",
    "ax.axhline(0, linewidth=0.8, color='black')\n",
    "\n",
    "# set labels for y axix\n",
    "ax.set_ylabel(\"Global network measures\")\n",
    "ax.set_xlabel(\"\")\n",
    "\n",
    "# create a legend\n",
    "ax.legend(fontsize=\"xx-small\")\n",
    "\n",
    "# remove the top and right spines from plot\n",
    "sns.despine()\n",
    "\n",
    "# adjust subplot params so that the subplot fits in to the figure area\n",
    "plt.tight_layout()"
   ]
  },
  {
   "cell_type": "code",
   "execution_count": null,
   "metadata": {
    "collapsed": true
   },
   "outputs": [],
   "source": []
  },
  {
   "cell_type": "markdown",
   "metadata": {},
   "source": [
    "#### Small World"
   ]
  },
  {
   "cell_type": "code",
   "execution_count": 138,
   "metadata": {},
   "outputs": [
    {
     "data": {
      "text/plain": [
       "{'Real Network': 1.0,\n",
       " 'Real Network_R0': 1.6565957947535912,\n",
       " 'Real Network_R1': 1.650735119721434,\n",
       " 'Real Network_R2': 1.7635001523458032,\n",
       " 'Real Network_R3': 1.760155578596434,\n",
       " 'Real Network_R4': 1.709162790297258,\n",
       " 'Real Network_R5': 1.7640603642845916,\n",
       " 'Real Network_R6': 1.821642854899903,\n",
       " 'Real Network_R7': 1.705754346325304,\n",
       " 'Real Network_R8': 1.7517894829659157,\n",
       " 'Real Network_R9': 1.7183823244651244}"
      ]
     },
     "execution_count": 138,
     "metadata": {},
     "output_type": "execute_result"
    }
   ],
   "source": [
    "small_worlds"
   ]
  },
  {
   "cell_type": "code",
   "execution_count": 150,
   "metadata": {
    "collapsed": true
   },
   "outputs": [],
   "source": [
    "NewSmallDataFrame = NewDataFrame.copy()"
   ]
  },
  {
   "cell_type": "code",
   "execution_count": null,
   "metadata": {
    "collapsed": true
   },
   "outputs": [],
   "source": [
    "NewSmallDataFrame.append(aaa, ignore_index=True)"
   ]
  },
  {
   "cell_type": "code",
   "execution_count": 93,
   "metadata": {
    "collapsed": true
   },
   "outputs": [],
   "source": [
    "aaa = {'measure' : 'sigma' , 'value' : 1.6565957947535912, 'TypeNetwork': \"Real Network\"}"
   ]
  },
  {
   "cell_type": "code",
   "execution_count": 94,
   "metadata": {},
   "outputs": [
    {
     "data": {
      "text/plain": [
       "{'TypeNetwork': 'Real Network',\n",
       " 'measure': 'sigma',\n",
       " 'value': 1.6565957947535912}"
      ]
     },
     "execution_count": 94,
     "metadata": {},
     "output_type": "execute_result"
    }
   ],
   "source": [
    "aaa"
   ]
  },
  {
   "cell_type": "code",
   "execution_count": 95,
   "metadata": {
    "collapsed": true
   },
   "outputs": [],
   "source": [
    "bbb = [{'measure' : 'sigma' , 'value' : 1.6565957947535912, 'TypeNetwork': \"Real Network\"}, \n",
    "       {'measure' : 'sigma' , 'value' : 1.650735119721434, 'TypeNetwork': \"Real Network\"}]"
   ]
  },
  {
   "cell_type": "code",
   "execution_count": 96,
   "metadata": {},
   "outputs": [
    {
     "data": {
      "text/plain": [
       "[{'TypeNetwork': 'Real Network',\n",
       "  'measure': 'sigma',\n",
       "  'value': 1.6565957947535912},\n",
       " {'TypeNetwork': 'Real Network',\n",
       "  'measure': 'sigma',\n",
       "  'value': 1.650735119721434}]"
      ]
     },
     "execution_count": 96,
     "metadata": {},
     "output_type": "execute_result"
    }
   ],
   "source": [
    "bbb"
   ]
  },
  {
   "cell_type": "code",
   "execution_count": null,
   "metadata": {
    "collapsed": true
   },
   "outputs": [],
   "source": [
    "NewSmallDataFrame.append(bbb, ignore_index=True)"
   ]
  },
  {
   "cell_type": "code",
   "execution_count": 139,
   "metadata": {
    "collapsed": true
   },
   "outputs": [],
   "source": [
    "del small_worlds[\"Real Network\"]"
   ]
  },
  {
   "cell_type": "code",
   "execution_count": 140,
   "metadata": {},
   "outputs": [
    {
     "data": {
      "text/plain": [
       "{'Real Network_R0': 1.6565957947535912,\n",
       " 'Real Network_R1': 1.650735119721434,\n",
       " 'Real Network_R2': 1.7635001523458032,\n",
       " 'Real Network_R3': 1.760155578596434,\n",
       " 'Real Network_R4': 1.709162790297258,\n",
       " 'Real Network_R5': 1.7640603642845916,\n",
       " 'Real Network_R6': 1.821642854899903,\n",
       " 'Real Network_R7': 1.705754346325304,\n",
       " 'Real Network_R8': 1.7517894829659157,\n",
       " 'Real Network_R9': 1.7183823244651244}"
      ]
     },
     "execution_count": 140,
     "metadata": {},
     "output_type": "execute_result"
    }
   ],
   "source": [
    "small_worlds"
   ]
  },
  {
   "cell_type": "code",
   "execution_count": 151,
   "metadata": {
    "collapsed": true
   },
   "outputs": [],
   "source": [
    "df_small_world = []\n",
    "\n",
    "for i in list(small_worlds.values()):\n",
    "    aaa = {'measure' : 'sigma' , 'value' : i, 'TypeNetwork': \"Real Network\"}\n",
    "        \n",
    "    df_small_world.append(aaa)"
   ]
  },
  {
   "cell_type": "code",
   "execution_count": 155,
   "metadata": {
    "collapsed": true
   },
   "outputs": [],
   "source": [
    "NewSmallDataFrame = NewDataFrame.append(df_small_world, ignore_index=True)"
   ]
  },
  {
   "cell_type": "code",
   "execution_count": 156,
   "metadata": {},
   "outputs": [
    {
     "data": {
      "text/html": [
       "<div>\n",
       "<style>\n",
       "    .dataframe thead tr:only-child th {\n",
       "        text-align: right;\n",
       "    }\n",
       "\n",
       "    .dataframe thead th {\n",
       "        text-align: left;\n",
       "    }\n",
       "\n",
       "    .dataframe tbody tr th {\n",
       "        vertical-align: top;\n",
       "    }\n",
       "</style>\n",
       "<table border=\"1\" class=\"dataframe\">\n",
       "  <thead>\n",
       "    <tr style=\"text-align: right;\">\n",
       "      <th></th>\n",
       "      <th>measure</th>\n",
       "      <th>value</th>\n",
       "      <th>TypeNetwork</th>\n",
       "    </tr>\n",
       "  </thead>\n",
       "  <tbody>\n",
       "    <tr>\n",
       "      <th>0</th>\n",
       "      <td>a</td>\n",
       "      <td>0.090769</td>\n",
       "      <td>Real Network</td>\n",
       "    </tr>\n",
       "    <tr>\n",
       "      <th>1</th>\n",
       "      <td>C</td>\n",
       "      <td>0.449889</td>\n",
       "      <td>Real Network</td>\n",
       "    </tr>\n",
       "    <tr>\n",
       "      <th>2</th>\n",
       "      <td>L</td>\n",
       "      <td>2.376243</td>\n",
       "      <td>Real Network</td>\n",
       "    </tr>\n",
       "    <tr>\n",
       "      <th>3</th>\n",
       "      <td>E</td>\n",
       "      <td>0.479840</td>\n",
       "      <td>Real Network</td>\n",
       "    </tr>\n",
       "    <tr>\n",
       "      <th>4</th>\n",
       "      <td>M</td>\n",
       "      <td>0.382855</td>\n",
       "      <td>Real Network</td>\n",
       "    </tr>\n",
       "    <tr>\n",
       "      <th>5</th>\n",
       "      <td>a</td>\n",
       "      <td>-0.057194</td>\n",
       "      <td>Random Network</td>\n",
       "    </tr>\n",
       "    <tr>\n",
       "      <th>6</th>\n",
       "      <td>a</td>\n",
       "      <td>-0.092502</td>\n",
       "      <td>Random Network</td>\n",
       "    </tr>\n",
       "    <tr>\n",
       "      <th>7</th>\n",
       "      <td>a</td>\n",
       "      <td>-0.055859</td>\n",
       "      <td>Random Network</td>\n",
       "    </tr>\n",
       "    <tr>\n",
       "      <th>8</th>\n",
       "      <td>a</td>\n",
       "      <td>-0.079702</td>\n",
       "      <td>Random Network</td>\n",
       "    </tr>\n",
       "    <tr>\n",
       "      <th>9</th>\n",
       "      <td>a</td>\n",
       "      <td>-0.077677</td>\n",
       "      <td>Random Network</td>\n",
       "    </tr>\n",
       "    <tr>\n",
       "      <th>10</th>\n",
       "      <td>a</td>\n",
       "      <td>-0.077718</td>\n",
       "      <td>Random Network</td>\n",
       "    </tr>\n",
       "    <tr>\n",
       "      <th>11</th>\n",
       "      <td>a</td>\n",
       "      <td>-0.070560</td>\n",
       "      <td>Random Network</td>\n",
       "    </tr>\n",
       "    <tr>\n",
       "      <th>12</th>\n",
       "      <td>a</td>\n",
       "      <td>-0.079401</td>\n",
       "      <td>Random Network</td>\n",
       "    </tr>\n",
       "    <tr>\n",
       "      <th>13</th>\n",
       "      <td>a</td>\n",
       "      <td>-0.078755</td>\n",
       "      <td>Random Network</td>\n",
       "    </tr>\n",
       "    <tr>\n",
       "      <th>14</th>\n",
       "      <td>a</td>\n",
       "      <td>-0.089687</td>\n",
       "      <td>Random Network</td>\n",
       "    </tr>\n",
       "    <tr>\n",
       "      <th>15</th>\n",
       "      <td>C</td>\n",
       "      <td>0.238918</td>\n",
       "      <td>Random Network</td>\n",
       "    </tr>\n",
       "    <tr>\n",
       "      <th>16</th>\n",
       "      <td>C</td>\n",
       "      <td>0.237937</td>\n",
       "      <td>Random Network</td>\n",
       "    </tr>\n",
       "    <tr>\n",
       "      <th>17</th>\n",
       "      <td>C</td>\n",
       "      <td>0.225091</td>\n",
       "      <td>Random Network</td>\n",
       "    </tr>\n",
       "    <tr>\n",
       "      <th>18</th>\n",
       "      <td>C</td>\n",
       "      <td>0.224845</td>\n",
       "      <td>Random Network</td>\n",
       "    </tr>\n",
       "    <tr>\n",
       "      <th>19</th>\n",
       "      <td>C</td>\n",
       "      <td>0.231144</td>\n",
       "      <td>Random Network</td>\n",
       "    </tr>\n",
       "    <tr>\n",
       "      <th>20</th>\n",
       "      <td>C</td>\n",
       "      <td>0.224139</td>\n",
       "      <td>Random Network</td>\n",
       "    </tr>\n",
       "    <tr>\n",
       "      <th>21</th>\n",
       "      <td>C</td>\n",
       "      <td>0.217821</td>\n",
       "      <td>Random Network</td>\n",
       "    </tr>\n",
       "    <tr>\n",
       "      <th>22</th>\n",
       "      <td>C</td>\n",
       "      <td>0.231552</td>\n",
       "      <td>Random Network</td>\n",
       "    </tr>\n",
       "    <tr>\n",
       "      <th>23</th>\n",
       "      <td>C</td>\n",
       "      <td>0.225204</td>\n",
       "      <td>Random Network</td>\n",
       "    </tr>\n",
       "    <tr>\n",
       "      <th>24</th>\n",
       "      <td>C</td>\n",
       "      <td>0.229386</td>\n",
       "      <td>Random Network</td>\n",
       "    </tr>\n",
       "    <tr>\n",
       "      <th>25</th>\n",
       "      <td>L</td>\n",
       "      <td>2.090507</td>\n",
       "      <td>Random Network</td>\n",
       "    </tr>\n",
       "    <tr>\n",
       "      <th>26</th>\n",
       "      <td>L</td>\n",
       "      <td>2.074559</td>\n",
       "      <td>Random Network</td>\n",
       "    </tr>\n",
       "    <tr>\n",
       "      <th>27</th>\n",
       "      <td>L</td>\n",
       "      <td>2.096620</td>\n",
       "      <td>Random Network</td>\n",
       "    </tr>\n",
       "    <tr>\n",
       "      <th>28</th>\n",
       "      <td>L</td>\n",
       "      <td>2.090359</td>\n",
       "      <td>Random Network</td>\n",
       "    </tr>\n",
       "    <tr>\n",
       "      <th>29</th>\n",
       "      <td>L</td>\n",
       "      <td>2.086658</td>\n",
       "      <td>Random Network</td>\n",
       "    </tr>\n",
       "    <tr>\n",
       "      <th>...</th>\n",
       "      <td>...</td>\n",
       "      <td>...</td>\n",
       "      <td>...</td>\n",
       "    </tr>\n",
       "    <tr>\n",
       "      <th>35</th>\n",
       "      <td>E</td>\n",
       "      <td>0.518511</td>\n",
       "      <td>Random Network</td>\n",
       "    </tr>\n",
       "    <tr>\n",
       "      <th>36</th>\n",
       "      <td>E</td>\n",
       "      <td>0.520982</td>\n",
       "      <td>Random Network</td>\n",
       "    </tr>\n",
       "    <tr>\n",
       "      <th>37</th>\n",
       "      <td>E</td>\n",
       "      <td>0.517524</td>\n",
       "      <td>Random Network</td>\n",
       "    </tr>\n",
       "    <tr>\n",
       "      <th>38</th>\n",
       "      <td>E</td>\n",
       "      <td>0.518553</td>\n",
       "      <td>Random Network</td>\n",
       "    </tr>\n",
       "    <tr>\n",
       "      <th>39</th>\n",
       "      <td>E</td>\n",
       "      <td>0.519077</td>\n",
       "      <td>Random Network</td>\n",
       "    </tr>\n",
       "    <tr>\n",
       "      <th>40</th>\n",
       "      <td>E</td>\n",
       "      <td>0.518772</td>\n",
       "      <td>Random Network</td>\n",
       "    </tr>\n",
       "    <tr>\n",
       "      <th>41</th>\n",
       "      <td>E</td>\n",
       "      <td>0.517699</td>\n",
       "      <td>Random Network</td>\n",
       "    </tr>\n",
       "    <tr>\n",
       "      <th>42</th>\n",
       "      <td>E</td>\n",
       "      <td>0.519334</td>\n",
       "      <td>Random Network</td>\n",
       "    </tr>\n",
       "    <tr>\n",
       "      <th>43</th>\n",
       "      <td>E</td>\n",
       "      <td>0.519572</td>\n",
       "      <td>Random Network</td>\n",
       "    </tr>\n",
       "    <tr>\n",
       "      <th>44</th>\n",
       "      <td>E</td>\n",
       "      <td>0.519939</td>\n",
       "      <td>Random Network</td>\n",
       "    </tr>\n",
       "    <tr>\n",
       "      <th>45</th>\n",
       "      <td>M</td>\n",
       "      <td>0.130075</td>\n",
       "      <td>Random Network</td>\n",
       "    </tr>\n",
       "    <tr>\n",
       "      <th>46</th>\n",
       "      <td>M</td>\n",
       "      <td>0.123912</td>\n",
       "      <td>Random Network</td>\n",
       "    </tr>\n",
       "    <tr>\n",
       "      <th>47</th>\n",
       "      <td>M</td>\n",
       "      <td>0.125017</td>\n",
       "      <td>Random Network</td>\n",
       "    </tr>\n",
       "    <tr>\n",
       "      <th>48</th>\n",
       "      <td>M</td>\n",
       "      <td>0.130901</td>\n",
       "      <td>Random Network</td>\n",
       "    </tr>\n",
       "    <tr>\n",
       "      <th>49</th>\n",
       "      <td>M</td>\n",
       "      <td>0.125409</td>\n",
       "      <td>Random Network</td>\n",
       "    </tr>\n",
       "    <tr>\n",
       "      <th>50</th>\n",
       "      <td>M</td>\n",
       "      <td>0.123938</td>\n",
       "      <td>Random Network</td>\n",
       "    </tr>\n",
       "    <tr>\n",
       "      <th>51</th>\n",
       "      <td>M</td>\n",
       "      <td>0.124606</td>\n",
       "      <td>Random Network</td>\n",
       "    </tr>\n",
       "    <tr>\n",
       "      <th>52</th>\n",
       "      <td>M</td>\n",
       "      <td>0.121194</td>\n",
       "      <td>Random Network</td>\n",
       "    </tr>\n",
       "    <tr>\n",
       "      <th>53</th>\n",
       "      <td>M</td>\n",
       "      <td>0.125836</td>\n",
       "      <td>Random Network</td>\n",
       "    </tr>\n",
       "    <tr>\n",
       "      <th>54</th>\n",
       "      <td>M</td>\n",
       "      <td>0.122154</td>\n",
       "      <td>Random Network</td>\n",
       "    </tr>\n",
       "    <tr>\n",
       "      <th>55</th>\n",
       "      <td>sigma</td>\n",
       "      <td>1.656596</td>\n",
       "      <td>Real Network</td>\n",
       "    </tr>\n",
       "    <tr>\n",
       "      <th>56</th>\n",
       "      <td>sigma</td>\n",
       "      <td>1.650735</td>\n",
       "      <td>Real Network</td>\n",
       "    </tr>\n",
       "    <tr>\n",
       "      <th>57</th>\n",
       "      <td>sigma</td>\n",
       "      <td>1.763500</td>\n",
       "      <td>Real Network</td>\n",
       "    </tr>\n",
       "    <tr>\n",
       "      <th>58</th>\n",
       "      <td>sigma</td>\n",
       "      <td>1.760156</td>\n",
       "      <td>Real Network</td>\n",
       "    </tr>\n",
       "    <tr>\n",
       "      <th>59</th>\n",
       "      <td>sigma</td>\n",
       "      <td>1.709163</td>\n",
       "      <td>Real Network</td>\n",
       "    </tr>\n",
       "    <tr>\n",
       "      <th>60</th>\n",
       "      <td>sigma</td>\n",
       "      <td>1.764060</td>\n",
       "      <td>Real Network</td>\n",
       "    </tr>\n",
       "    <tr>\n",
       "      <th>61</th>\n",
       "      <td>sigma</td>\n",
       "      <td>1.821643</td>\n",
       "      <td>Real Network</td>\n",
       "    </tr>\n",
       "    <tr>\n",
       "      <th>62</th>\n",
       "      <td>sigma</td>\n",
       "      <td>1.705754</td>\n",
       "      <td>Real Network</td>\n",
       "    </tr>\n",
       "    <tr>\n",
       "      <th>63</th>\n",
       "      <td>sigma</td>\n",
       "      <td>1.751789</td>\n",
       "      <td>Real Network</td>\n",
       "    </tr>\n",
       "    <tr>\n",
       "      <th>64</th>\n",
       "      <td>sigma</td>\n",
       "      <td>1.718382</td>\n",
       "      <td>Real Network</td>\n",
       "    </tr>\n",
       "  </tbody>\n",
       "</table>\n",
       "<p>65 rows × 3 columns</p>\n",
       "</div>"
      ],
      "text/plain": [
       "   measure     value     TypeNetwork\n",
       "0        a  0.090769    Real Network\n",
       "1        C  0.449889    Real Network\n",
       "2        L  2.376243    Real Network\n",
       "3        E  0.479840    Real Network\n",
       "4        M  0.382855    Real Network\n",
       "5        a -0.057194  Random Network\n",
       "6        a -0.092502  Random Network\n",
       "7        a -0.055859  Random Network\n",
       "8        a -0.079702  Random Network\n",
       "9        a -0.077677  Random Network\n",
       "10       a -0.077718  Random Network\n",
       "11       a -0.070560  Random Network\n",
       "12       a -0.079401  Random Network\n",
       "13       a -0.078755  Random Network\n",
       "14       a -0.089687  Random Network\n",
       "15       C  0.238918  Random Network\n",
       "16       C  0.237937  Random Network\n",
       "17       C  0.225091  Random Network\n",
       "18       C  0.224845  Random Network\n",
       "19       C  0.231144  Random Network\n",
       "20       C  0.224139  Random Network\n",
       "21       C  0.217821  Random Network\n",
       "22       C  0.231552  Random Network\n",
       "23       C  0.225204  Random Network\n",
       "24       C  0.229386  Random Network\n",
       "25       L  2.090507  Random Network\n",
       "26       L  2.074559  Random Network\n",
       "27       L  2.096620  Random Network\n",
       "28       L  2.090359  Random Network\n",
       "29       L  2.086658  Random Network\n",
       "..     ...       ...             ...\n",
       "35       E  0.518511  Random Network\n",
       "36       E  0.520982  Random Network\n",
       "37       E  0.517524  Random Network\n",
       "38       E  0.518553  Random Network\n",
       "39       E  0.519077  Random Network\n",
       "40       E  0.518772  Random Network\n",
       "41       E  0.517699  Random Network\n",
       "42       E  0.519334  Random Network\n",
       "43       E  0.519572  Random Network\n",
       "44       E  0.519939  Random Network\n",
       "45       M  0.130075  Random Network\n",
       "46       M  0.123912  Random Network\n",
       "47       M  0.125017  Random Network\n",
       "48       M  0.130901  Random Network\n",
       "49       M  0.125409  Random Network\n",
       "50       M  0.123938  Random Network\n",
       "51       M  0.124606  Random Network\n",
       "52       M  0.121194  Random Network\n",
       "53       M  0.125836  Random Network\n",
       "54       M  0.122154  Random Network\n",
       "55   sigma  1.656596    Real Network\n",
       "56   sigma  1.650735    Real Network\n",
       "57   sigma  1.763500    Real Network\n",
       "58   sigma  1.760156    Real Network\n",
       "59   sigma  1.709163    Real Network\n",
       "60   sigma  1.764060    Real Network\n",
       "61   sigma  1.821643    Real Network\n",
       "62   sigma  1.705754    Real Network\n",
       "63   sigma  1.751789    Real Network\n",
       "64   sigma  1.718382    Real Network\n",
       "\n",
       "[65 rows x 3 columns]"
      ]
     },
     "execution_count": 156,
     "metadata": {},
     "output_type": "execute_result"
    }
   ],
   "source": [
    "NewSmallDataFrame"
   ]
  },
  {
   "cell_type": "code",
   "execution_count": 119,
   "metadata": {
    "collapsed": true
   },
   "outputs": [],
   "source": [
    "SigmaRandom = [{'TypeNetwork': 'Random Network',\n",
    "  'measure': 'sigma',\n",
    "  'value': 1},\n",
    " {'TypeNetwork': 'Random Network',\n",
    "  'measure': 'sigma',\n",
    "  'value': 1},\n",
    " {'TypeNetwork': 'Random Network',\n",
    "  'measure': 'sigma',\n",
    "  'value': 1},\n",
    " {'TypeNetwork': 'Random Network',\n",
    "  'measure': 'sigma',\n",
    "  'value': 1},\n",
    " {'TypeNetwork': 'Random Network',\n",
    "  'measure': 'sigma',\n",
    "  'value': 1},\n",
    " {'TypeNetwork': 'Random Network',\n",
    "  'measure': 'sigma',\n",
    "  'value': 1},\n",
    " {'TypeNetwork': 'Random Network',\n",
    "  'measure': 'sigma',\n",
    "  'value': 1},\n",
    " {'TypeNetwork': 'Random Network',\n",
    "  'measure': 'sigma',\n",
    "  'value': 1},\n",
    " {'TypeNetwork': 'Random Network',\n",
    "  'measure': 'sigma',\n",
    "  'value': 1},\n",
    " {'TypeNetwork': 'Random Network',\n",
    "  'measure': 'sigma',\n",
    "  'value': 1}]"
   ]
  },
  {
   "cell_type": "code",
   "execution_count": 120,
   "metadata": {},
   "outputs": [
    {
     "data": {
      "text/plain": [
       "[{'TypeNetwork': 'Random Network', 'measure': 'sigma', 'value': 1},\n",
       " {'TypeNetwork': 'Random Network', 'measure': 'sigma', 'value': 1},\n",
       " {'TypeNetwork': 'Random Network', 'measure': 'sigma', 'value': 1},\n",
       " {'TypeNetwork': 'Random Network', 'measure': 'sigma', 'value': 1},\n",
       " {'TypeNetwork': 'Random Network', 'measure': 'sigma', 'value': 1},\n",
       " {'TypeNetwork': 'Random Network', 'measure': 'sigma', 'value': 1},\n",
       " {'TypeNetwork': 'Random Network', 'measure': 'sigma', 'value': 1},\n",
       " {'TypeNetwork': 'Random Network', 'measure': 'sigma', 'value': 1},\n",
       " {'TypeNetwork': 'Random Network', 'measure': 'sigma', 'value': 1},\n",
       " {'TypeNetwork': 'Random Network', 'measure': 'sigma', 'value': 1}]"
      ]
     },
     "execution_count": 120,
     "metadata": {},
     "output_type": "execute_result"
    }
   ],
   "source": [
    "SigmaRandom"
   ]
  },
  {
   "cell_type": "code",
   "execution_count": 125,
   "metadata": {
    "collapsed": true
   },
   "outputs": [],
   "source": [
    "NewSmallDataFrame = NewSmallDataFrame.append(SigmaRandom, ignore_index=True)"
   ]
  },
  {
   "cell_type": "code",
   "execution_count": 158,
   "metadata": {
    "collapsed": true
   },
   "outputs": [],
   "source": [
    "tmp = {'measure': 'sigma', 'value': 1, 'TypeNetwork': 'Random Network'}"
   ]
  },
  {
   "cell_type": "code",
   "execution_count": 159,
   "metadata": {
    "collapsed": true
   },
   "outputs": [],
   "source": [
    "NewSmallDataFrame = NewSmallDataFrame.append(tmp, ignore_index=True)"
   ]
  },
  {
   "cell_type": "code",
   "execution_count": 160,
   "metadata": {},
   "outputs": [
    {
     "data": {
      "text/html": [
       "<div>\n",
       "<style>\n",
       "    .dataframe thead tr:only-child th {\n",
       "        text-align: right;\n",
       "    }\n",
       "\n",
       "    .dataframe thead th {\n",
       "        text-align: left;\n",
       "    }\n",
       "\n",
       "    .dataframe tbody tr th {\n",
       "        vertical-align: top;\n",
       "    }\n",
       "</style>\n",
       "<table border=\"1\" class=\"dataframe\">\n",
       "  <thead>\n",
       "    <tr style=\"text-align: right;\">\n",
       "      <th></th>\n",
       "      <th>measure</th>\n",
       "      <th>value</th>\n",
       "      <th>TypeNetwork</th>\n",
       "    </tr>\n",
       "  </thead>\n",
       "  <tbody>\n",
       "    <tr>\n",
       "      <th>0</th>\n",
       "      <td>a</td>\n",
       "      <td>0.090769</td>\n",
       "      <td>Real Network</td>\n",
       "    </tr>\n",
       "    <tr>\n",
       "      <th>1</th>\n",
       "      <td>C</td>\n",
       "      <td>0.449889</td>\n",
       "      <td>Real Network</td>\n",
       "    </tr>\n",
       "    <tr>\n",
       "      <th>2</th>\n",
       "      <td>L</td>\n",
       "      <td>2.376243</td>\n",
       "      <td>Real Network</td>\n",
       "    </tr>\n",
       "    <tr>\n",
       "      <th>3</th>\n",
       "      <td>E</td>\n",
       "      <td>0.479840</td>\n",
       "      <td>Real Network</td>\n",
       "    </tr>\n",
       "    <tr>\n",
       "      <th>4</th>\n",
       "      <td>M</td>\n",
       "      <td>0.382855</td>\n",
       "      <td>Real Network</td>\n",
       "    </tr>\n",
       "    <tr>\n",
       "      <th>5</th>\n",
       "      <td>a</td>\n",
       "      <td>-0.057194</td>\n",
       "      <td>Random Network</td>\n",
       "    </tr>\n",
       "    <tr>\n",
       "      <th>6</th>\n",
       "      <td>a</td>\n",
       "      <td>-0.092502</td>\n",
       "      <td>Random Network</td>\n",
       "    </tr>\n",
       "    <tr>\n",
       "      <th>7</th>\n",
       "      <td>a</td>\n",
       "      <td>-0.055859</td>\n",
       "      <td>Random Network</td>\n",
       "    </tr>\n",
       "    <tr>\n",
       "      <th>8</th>\n",
       "      <td>a</td>\n",
       "      <td>-0.079702</td>\n",
       "      <td>Random Network</td>\n",
       "    </tr>\n",
       "    <tr>\n",
       "      <th>9</th>\n",
       "      <td>a</td>\n",
       "      <td>-0.077677</td>\n",
       "      <td>Random Network</td>\n",
       "    </tr>\n",
       "    <tr>\n",
       "      <th>10</th>\n",
       "      <td>a</td>\n",
       "      <td>-0.077718</td>\n",
       "      <td>Random Network</td>\n",
       "    </tr>\n",
       "    <tr>\n",
       "      <th>11</th>\n",
       "      <td>a</td>\n",
       "      <td>-0.070560</td>\n",
       "      <td>Random Network</td>\n",
       "    </tr>\n",
       "    <tr>\n",
       "      <th>12</th>\n",
       "      <td>a</td>\n",
       "      <td>-0.079401</td>\n",
       "      <td>Random Network</td>\n",
       "    </tr>\n",
       "    <tr>\n",
       "      <th>13</th>\n",
       "      <td>a</td>\n",
       "      <td>-0.078755</td>\n",
       "      <td>Random Network</td>\n",
       "    </tr>\n",
       "    <tr>\n",
       "      <th>14</th>\n",
       "      <td>a</td>\n",
       "      <td>-0.089687</td>\n",
       "      <td>Random Network</td>\n",
       "    </tr>\n",
       "    <tr>\n",
       "      <th>15</th>\n",
       "      <td>C</td>\n",
       "      <td>0.238918</td>\n",
       "      <td>Random Network</td>\n",
       "    </tr>\n",
       "    <tr>\n",
       "      <th>16</th>\n",
       "      <td>C</td>\n",
       "      <td>0.237937</td>\n",
       "      <td>Random Network</td>\n",
       "    </tr>\n",
       "    <tr>\n",
       "      <th>17</th>\n",
       "      <td>C</td>\n",
       "      <td>0.225091</td>\n",
       "      <td>Random Network</td>\n",
       "    </tr>\n",
       "    <tr>\n",
       "      <th>18</th>\n",
       "      <td>C</td>\n",
       "      <td>0.224845</td>\n",
       "      <td>Random Network</td>\n",
       "    </tr>\n",
       "    <tr>\n",
       "      <th>19</th>\n",
       "      <td>C</td>\n",
       "      <td>0.231144</td>\n",
       "      <td>Random Network</td>\n",
       "    </tr>\n",
       "    <tr>\n",
       "      <th>20</th>\n",
       "      <td>C</td>\n",
       "      <td>0.224139</td>\n",
       "      <td>Random Network</td>\n",
       "    </tr>\n",
       "    <tr>\n",
       "      <th>21</th>\n",
       "      <td>C</td>\n",
       "      <td>0.217821</td>\n",
       "      <td>Random Network</td>\n",
       "    </tr>\n",
       "    <tr>\n",
       "      <th>22</th>\n",
       "      <td>C</td>\n",
       "      <td>0.231552</td>\n",
       "      <td>Random Network</td>\n",
       "    </tr>\n",
       "    <tr>\n",
       "      <th>23</th>\n",
       "      <td>C</td>\n",
       "      <td>0.225204</td>\n",
       "      <td>Random Network</td>\n",
       "    </tr>\n",
       "    <tr>\n",
       "      <th>24</th>\n",
       "      <td>C</td>\n",
       "      <td>0.229386</td>\n",
       "      <td>Random Network</td>\n",
       "    </tr>\n",
       "    <tr>\n",
       "      <th>25</th>\n",
       "      <td>L</td>\n",
       "      <td>2.090507</td>\n",
       "      <td>Random Network</td>\n",
       "    </tr>\n",
       "    <tr>\n",
       "      <th>26</th>\n",
       "      <td>L</td>\n",
       "      <td>2.074559</td>\n",
       "      <td>Random Network</td>\n",
       "    </tr>\n",
       "    <tr>\n",
       "      <th>27</th>\n",
       "      <td>L</td>\n",
       "      <td>2.096620</td>\n",
       "      <td>Random Network</td>\n",
       "    </tr>\n",
       "    <tr>\n",
       "      <th>28</th>\n",
       "      <td>L</td>\n",
       "      <td>2.090359</td>\n",
       "      <td>Random Network</td>\n",
       "    </tr>\n",
       "    <tr>\n",
       "      <th>29</th>\n",
       "      <td>L</td>\n",
       "      <td>2.086658</td>\n",
       "      <td>Random Network</td>\n",
       "    </tr>\n",
       "    <tr>\n",
       "      <th>...</th>\n",
       "      <td>...</td>\n",
       "      <td>...</td>\n",
       "      <td>...</td>\n",
       "    </tr>\n",
       "    <tr>\n",
       "      <th>36</th>\n",
       "      <td>E</td>\n",
       "      <td>0.520982</td>\n",
       "      <td>Random Network</td>\n",
       "    </tr>\n",
       "    <tr>\n",
       "      <th>37</th>\n",
       "      <td>E</td>\n",
       "      <td>0.517524</td>\n",
       "      <td>Random Network</td>\n",
       "    </tr>\n",
       "    <tr>\n",
       "      <th>38</th>\n",
       "      <td>E</td>\n",
       "      <td>0.518553</td>\n",
       "      <td>Random Network</td>\n",
       "    </tr>\n",
       "    <tr>\n",
       "      <th>39</th>\n",
       "      <td>E</td>\n",
       "      <td>0.519077</td>\n",
       "      <td>Random Network</td>\n",
       "    </tr>\n",
       "    <tr>\n",
       "      <th>40</th>\n",
       "      <td>E</td>\n",
       "      <td>0.518772</td>\n",
       "      <td>Random Network</td>\n",
       "    </tr>\n",
       "    <tr>\n",
       "      <th>41</th>\n",
       "      <td>E</td>\n",
       "      <td>0.517699</td>\n",
       "      <td>Random Network</td>\n",
       "    </tr>\n",
       "    <tr>\n",
       "      <th>42</th>\n",
       "      <td>E</td>\n",
       "      <td>0.519334</td>\n",
       "      <td>Random Network</td>\n",
       "    </tr>\n",
       "    <tr>\n",
       "      <th>43</th>\n",
       "      <td>E</td>\n",
       "      <td>0.519572</td>\n",
       "      <td>Random Network</td>\n",
       "    </tr>\n",
       "    <tr>\n",
       "      <th>44</th>\n",
       "      <td>E</td>\n",
       "      <td>0.519939</td>\n",
       "      <td>Random Network</td>\n",
       "    </tr>\n",
       "    <tr>\n",
       "      <th>45</th>\n",
       "      <td>M</td>\n",
       "      <td>0.130075</td>\n",
       "      <td>Random Network</td>\n",
       "    </tr>\n",
       "    <tr>\n",
       "      <th>46</th>\n",
       "      <td>M</td>\n",
       "      <td>0.123912</td>\n",
       "      <td>Random Network</td>\n",
       "    </tr>\n",
       "    <tr>\n",
       "      <th>47</th>\n",
       "      <td>M</td>\n",
       "      <td>0.125017</td>\n",
       "      <td>Random Network</td>\n",
       "    </tr>\n",
       "    <tr>\n",
       "      <th>48</th>\n",
       "      <td>M</td>\n",
       "      <td>0.130901</td>\n",
       "      <td>Random Network</td>\n",
       "    </tr>\n",
       "    <tr>\n",
       "      <th>49</th>\n",
       "      <td>M</td>\n",
       "      <td>0.125409</td>\n",
       "      <td>Random Network</td>\n",
       "    </tr>\n",
       "    <tr>\n",
       "      <th>50</th>\n",
       "      <td>M</td>\n",
       "      <td>0.123938</td>\n",
       "      <td>Random Network</td>\n",
       "    </tr>\n",
       "    <tr>\n",
       "      <th>51</th>\n",
       "      <td>M</td>\n",
       "      <td>0.124606</td>\n",
       "      <td>Random Network</td>\n",
       "    </tr>\n",
       "    <tr>\n",
       "      <th>52</th>\n",
       "      <td>M</td>\n",
       "      <td>0.121194</td>\n",
       "      <td>Random Network</td>\n",
       "    </tr>\n",
       "    <tr>\n",
       "      <th>53</th>\n",
       "      <td>M</td>\n",
       "      <td>0.125836</td>\n",
       "      <td>Random Network</td>\n",
       "    </tr>\n",
       "    <tr>\n",
       "      <th>54</th>\n",
       "      <td>M</td>\n",
       "      <td>0.122154</td>\n",
       "      <td>Random Network</td>\n",
       "    </tr>\n",
       "    <tr>\n",
       "      <th>55</th>\n",
       "      <td>sigma</td>\n",
       "      <td>1.656596</td>\n",
       "      <td>Real Network</td>\n",
       "    </tr>\n",
       "    <tr>\n",
       "      <th>56</th>\n",
       "      <td>sigma</td>\n",
       "      <td>1.650735</td>\n",
       "      <td>Real Network</td>\n",
       "    </tr>\n",
       "    <tr>\n",
       "      <th>57</th>\n",
       "      <td>sigma</td>\n",
       "      <td>1.763500</td>\n",
       "      <td>Real Network</td>\n",
       "    </tr>\n",
       "    <tr>\n",
       "      <th>58</th>\n",
       "      <td>sigma</td>\n",
       "      <td>1.760156</td>\n",
       "      <td>Real Network</td>\n",
       "    </tr>\n",
       "    <tr>\n",
       "      <th>59</th>\n",
       "      <td>sigma</td>\n",
       "      <td>1.709163</td>\n",
       "      <td>Real Network</td>\n",
       "    </tr>\n",
       "    <tr>\n",
       "      <th>60</th>\n",
       "      <td>sigma</td>\n",
       "      <td>1.764060</td>\n",
       "      <td>Real Network</td>\n",
       "    </tr>\n",
       "    <tr>\n",
       "      <th>61</th>\n",
       "      <td>sigma</td>\n",
       "      <td>1.821643</td>\n",
       "      <td>Real Network</td>\n",
       "    </tr>\n",
       "    <tr>\n",
       "      <th>62</th>\n",
       "      <td>sigma</td>\n",
       "      <td>1.705754</td>\n",
       "      <td>Real Network</td>\n",
       "    </tr>\n",
       "    <tr>\n",
       "      <th>63</th>\n",
       "      <td>sigma</td>\n",
       "      <td>1.751789</td>\n",
       "      <td>Real Network</td>\n",
       "    </tr>\n",
       "    <tr>\n",
       "      <th>64</th>\n",
       "      <td>sigma</td>\n",
       "      <td>1.718382</td>\n",
       "      <td>Real Network</td>\n",
       "    </tr>\n",
       "    <tr>\n",
       "      <th>65</th>\n",
       "      <td>sigma</td>\n",
       "      <td>1.000000</td>\n",
       "      <td>Random Network</td>\n",
       "    </tr>\n",
       "  </tbody>\n",
       "</table>\n",
       "<p>66 rows × 3 columns</p>\n",
       "</div>"
      ],
      "text/plain": [
       "   measure     value     TypeNetwork\n",
       "0        a  0.090769    Real Network\n",
       "1        C  0.449889    Real Network\n",
       "2        L  2.376243    Real Network\n",
       "3        E  0.479840    Real Network\n",
       "4        M  0.382855    Real Network\n",
       "5        a -0.057194  Random Network\n",
       "6        a -0.092502  Random Network\n",
       "7        a -0.055859  Random Network\n",
       "8        a -0.079702  Random Network\n",
       "9        a -0.077677  Random Network\n",
       "10       a -0.077718  Random Network\n",
       "11       a -0.070560  Random Network\n",
       "12       a -0.079401  Random Network\n",
       "13       a -0.078755  Random Network\n",
       "14       a -0.089687  Random Network\n",
       "15       C  0.238918  Random Network\n",
       "16       C  0.237937  Random Network\n",
       "17       C  0.225091  Random Network\n",
       "18       C  0.224845  Random Network\n",
       "19       C  0.231144  Random Network\n",
       "20       C  0.224139  Random Network\n",
       "21       C  0.217821  Random Network\n",
       "22       C  0.231552  Random Network\n",
       "23       C  0.225204  Random Network\n",
       "24       C  0.229386  Random Network\n",
       "25       L  2.090507  Random Network\n",
       "26       L  2.074559  Random Network\n",
       "27       L  2.096620  Random Network\n",
       "28       L  2.090359  Random Network\n",
       "29       L  2.086658  Random Network\n",
       "..     ...       ...             ...\n",
       "36       E  0.520982  Random Network\n",
       "37       E  0.517524  Random Network\n",
       "38       E  0.518553  Random Network\n",
       "39       E  0.519077  Random Network\n",
       "40       E  0.518772  Random Network\n",
       "41       E  0.517699  Random Network\n",
       "42       E  0.519334  Random Network\n",
       "43       E  0.519572  Random Network\n",
       "44       E  0.519939  Random Network\n",
       "45       M  0.130075  Random Network\n",
       "46       M  0.123912  Random Network\n",
       "47       M  0.125017  Random Network\n",
       "48       M  0.130901  Random Network\n",
       "49       M  0.125409  Random Network\n",
       "50       M  0.123938  Random Network\n",
       "51       M  0.124606  Random Network\n",
       "52       M  0.121194  Random Network\n",
       "53       M  0.125836  Random Network\n",
       "54       M  0.122154  Random Network\n",
       "55   sigma  1.656596    Real Network\n",
       "56   sigma  1.650735    Real Network\n",
       "57   sigma  1.763500    Real Network\n",
       "58   sigma  1.760156    Real Network\n",
       "59   sigma  1.709163    Real Network\n",
       "60   sigma  1.764060    Real Network\n",
       "61   sigma  1.821643    Real Network\n",
       "62   sigma  1.705754    Real Network\n",
       "63   sigma  1.751789    Real Network\n",
       "64   sigma  1.718382    Real Network\n",
       "65   sigma  1.000000  Random Network\n",
       "\n",
       "[66 rows x 3 columns]"
      ]
     },
     "execution_count": 160,
     "metadata": {},
     "output_type": "execute_result"
    }
   ],
   "source": [
    "NewSmallDataFrame"
   ]
  },
  {
   "cell_type": "code",
   "execution_count": 161,
   "metadata": {},
   "outputs": [
    {
     "data": {
      "image/png": "[encoded data removed]",
      "text/plain": [
       "<matplotlib.figure.Figure at 0x7f49ace90668>"
      ]
     },
     "metadata": {},
     "output_type": "display_data"
    }
   ],
   "source": [
    "fig, ax = plt.subplots(figsize=(8, 6))\n",
    "\n",
    "ax = sns.barplot(x=\"measure\", y=\"value\", hue=\"TypeNetwork\", data=NewSmallDataFrame, \n",
    "                 palette=[color[0],color[1]], ci=\"sd\")\n",
    "\n",
    "# make a line at y=0\n",
    "ax.axhline(0, linewidth=0.8, color='black')\n",
    "\n",
    "# set labels for y axix\n",
    "ax.set_ylabel(\"Global network measures\")\n",
    "ax.set_xlabel(\"\")\n",
    "\n",
    "# create a legend\n",
    "ax.legend(fontsize=\"xx-small\")\n",
    "\n",
    "# remove the top and right spines from plot\n",
    "sns.despine()\n",
    "\n",
    "# adjust subplot params so that the subplot fits in to the figure area\n",
    "plt.tight_layout()"
   ]
  },
  {
   "cell_type": "code",
   "execution_count": null,
   "metadata": {
    "collapsed": true
   },
   "outputs": [],
   "source": []
  },
  {
   "cell_type": "code",
   "execution_count": null,
   "metadata": {
    "collapsed": true
   },
   "outputs": [],
   "source": []
  },
  {
   "cell_type": "code",
   "execution_count": null,
   "metadata": {
    "collapsed": true
   },
   "outputs": [],
   "source": []
  },
  {
   "cell_type": "code",
   "execution_count": null,
   "metadata": {
    "collapsed": true
   },
   "outputs": [],
   "source": []
  },
  {
   "cell_type": "code",
   "execution_count": null,
   "metadata": {
    "collapsed": true
   },
   "outputs": [],
   "source": []
  },
  {
   "cell_type": "code",
   "execution_count": null,
   "metadata": {
    "collapsed": true
   },
   "outputs": [],
   "source": []
  },
  {
   "cell_type": "code",
   "execution_count": null,
   "metadata": {
    "collapsed": true
   },
   "outputs": [],
   "source": []
  },
  {
   "cell_type": "code",
   "execution_count": null,
   "metadata": {
    "collapsed": true
   },
   "outputs": [],
   "source": []
  },
  {
   "cell_type": "code",
   "execution_count": null,
   "metadata": {
    "collapsed": true
   },
   "outputs": [],
   "source": []
  },
  {
   "cell_type": "code",
   "execution_count": null,
   "metadata": {
    "collapsed": true
   },
   "outputs": [],
   "source": []
  },
  {
   "cell_type": "code",
   "execution_count": null,
   "metadata": {
    "collapsed": true
   },
   "outputs": [],
   "source": []
  },
  {
   "cell_type": "code",
   "execution_count": null,
   "metadata": {
    "collapsed": true
   },
   "outputs": [],
   "source": []
  },
  {
   "cell_type": "code",
   "execution_count": null,
   "metadata": {
    "collapsed": true
   },
   "outputs": [],
   "source": []
  },
  {
   "cell_type": "code",
   "execution_count": null,
   "metadata": {
    "collapsed": true
   },
   "outputs": [],
   "source": []
  },
  {
   "cell_type": "code",
   "execution_count": null,
   "metadata": {
    "collapsed": true
   },
   "outputs": [],
   "source": []
  },
  {
   "cell_type": "code",
   "execution_count": null,
   "metadata": {
    "collapsed": true
   },
   "outputs": [],
   "source": []
  },
  {
   "cell_type": "markdown",
   "metadata": {
    "collapsed": true
   },
   "source": [
    "# TEST how the fuction is WORKING"
   ]
  },
  {
   "cell_type": "code",
   "execution_count": null,
   "metadata": {
    "collapsed": true
   },
   "outputs": [],
   "source": [
    "import importlib.util\n",
    "spec = importlib.util.spec_from_file_location(\"plot_network_measures\", \"/home/pilot/GSoC/scona/scona/test.py\")\n",
    "foo = importlib.util.module_from_spec(spec)\n",
    "spec.loader.exec_module(foo)"
   ]
  },
  {
   "cell_type": "code",
   "execution_count": null,
   "metadata": {
    "collapsed": true
   },
   "outputs": [],
   "source": [
    "%%time\n",
    "print(\"10 random graphs\")\n",
    "foo.plot_network_measures(bundleGraphs,real_network='Real Network')"
   ]
  },
  {
   "cell_type": "code",
   "execution_count": null,
   "metadata": {
    "collapsed": true
   },
   "outputs": [],
   "source": [
    "%%time\n",
    "print(\"1000 random graphs\")\n",
    "foo.plot_network_measures(test,real_network='Real Network')"
   ]
  },
  {
   "cell_type": "code",
   "execution_count": null,
   "metadata": {
    "collapsed": true
   },
   "outputs": [],
   "source": []
  },
  {
   "cell_type": "code",
   "execution_count": null,
   "metadata": {
    "collapsed": true
   },
   "outputs": [],
   "source": []
  },
  {
   "cell_type": "code",
   "execution_count": null,
   "metadata": {
    "collapsed": true
   },
   "outputs": [],
   "source": [
    "test = scn.GraphBundle([H], ['Real Network'])"
   ]
  },
  {
   "cell_type": "code",
   "execution_count": null,
   "metadata": {
    "collapsed": true
   },
   "outputs": [],
   "source": [
    "test"
   ]
  },
  {
   "cell_type": "code",
   "execution_count": null,
   "metadata": {
    "collapsed": true
   },
   "outputs": [],
   "source": [
    "test.create_random_graphs(\"Real Network\", 1000)"
   ]
  },
  {
   "cell_type": "code",
   "execution_count": null,
   "metadata": {
    "collapsed": true
   },
   "outputs": [],
   "source": [
    "bundleGraphs = scn.GraphBundle([H], ['Real Network'])"
   ]
  },
  {
   "cell_type": "code",
   "execution_count": null,
   "metadata": {
    "collapsed": true
   },
   "outputs": [],
   "source": [
    "bundleGraphs"
   ]
  },
  {
   "cell_type": "code",
   "execution_count": null,
   "metadata": {
    "collapsed": true
   },
   "outputs": [],
   "source": [
    "%%time\n",
    "bundleGraphs.create_random_graphs(\"Real Network\", 100)"
   ]
  },
  {
   "cell_type": "code",
   "execution_count": null,
   "metadata": {
    "collapsed": true
   },
   "outputs": [],
   "source": [
    "%%time\n",
    "bundleGraphs_measures = bundleGraphs.report_global_measures()"
   ]
  },
  {
   "cell_type": "code",
   "execution_count": null,
   "metadata": {
    "collapsed": true
   },
   "outputs": [],
   "source": [
    "len(bundleGraphs)"
   ]
  },
  {
   "cell_type": "code",
   "execution_count": null,
   "metadata": {
    "collapsed": true
   },
   "outputs": [],
   "source": [
    "%%time\n",
    "print(\"100 random graphs\")\n",
    "foo.plot_network_measures(bundleGraphs,real_network='Real Network')"
   ]
  },
  {
   "cell_type": "code",
   "execution_count": null,
   "metadata": {
    "collapsed": true
   },
   "outputs": [],
   "source": []
  },
  {
   "cell_type": "code",
   "execution_count": null,
   "metadata": {
    "collapsed": true
   },
   "outputs": [],
   "source": []
  },
  {
   "cell_type": "code",
   "execution_count": null,
   "metadata": {
    "collapsed": true
   },
   "outputs": [],
   "source": []
  },
  {
   "cell_type": "code",
   "execution_count": null,
   "metadata": {
    "collapsed": true
   },
   "outputs": [],
   "source": []
  },
  {
   "cell_type": "code",
   "execution_count": null,
   "metadata": {
    "collapsed": true
   },
   "outputs": [],
   "source": []
  },
  {
   "cell_type": "code",
   "execution_count": null,
   "metadata": {
    "collapsed": true
   },
   "outputs": [],
   "source": [
    "fig, axxx = plt.subplots(1, 1)\n",
    "axxx = foo.plot_network_measures(bundleGraphs,real_network='Real Network')"
   ]
  },
  {
   "cell_type": "code",
   "execution_count": null,
   "metadata": {
    "collapsed": true
   },
   "outputs": [],
   "source": []
  },
  {
   "cell_type": "code",
   "execution_count": null,
   "metadata": {
    "collapsed": true
   },
   "outputs": [],
   "source": []
  },
  {
   "cell_type": "code",
   "execution_count": null,
   "metadata": {
    "collapsed": true
   },
   "outputs": [],
   "source": []
  },
  {
   "cell_type": "code",
   "execution_count": null,
   "metadata": {
    "collapsed": true
   },
   "outputs": [],
   "source": []
  },
  {
   "cell_type": "code",
   "execution_count": null,
   "metadata": {
    "collapsed": true
   },
   "outputs": [],
   "source": []
  },
  {
   "cell_type": "code",
   "execution_count": null,
   "metadata": {
    "collapsed": true
   },
   "outputs": [],
   "source": []
  },
  {
   "cell_type": "code",
   "execution_count": null,
   "metadata": {
    "collapsed": true
   },
   "outputs": [],
   "source": []
  },
  {
   "cell_type": "markdown",
   "metadata": {},
   "source": [
    "Understanding error bars"
   ]
  },
  {
   "cell_type": "code",
   "execution_count": null,
   "metadata": {
    "collapsed": true
   },
   "outputs": [],
   "source": [
    "test = np.array(random_df[\"assortativity\"])"
   ]
  },
  {
   "cell_type": "code",
   "execution_count": null,
   "metadata": {
    "collapsed": true
   },
   "outputs": [],
   "source": [
    "test"
   ]
  },
  {
   "cell_type": "code",
   "execution_count": null,
   "metadata": {
    "collapsed": true
   },
   "outputs": [],
   "source": [
    "# Calculate the mean\n",
    "test_mean = np.mean(test)"
   ]
  },
  {
   "cell_type": "code",
   "execution_count": null,
   "metadata": {
    "collapsed": true
   },
   "outputs": [],
   "source": [
    "test_mean"
   ]
  },
  {
   "cell_type": "code",
   "execution_count": null,
   "metadata": {
    "collapsed": true
   },
   "outputs": [],
   "source": [
    "# Calculate the standard deviation\n",
    "test_std = np.std(test)"
   ]
  },
  {
   "cell_type": "code",
   "execution_count": null,
   "metadata": {
    "collapsed": true
   },
   "outputs": [],
   "source": [
    "test_std"
   ]
  },
  {
   "cell_type": "code",
   "execution_count": null,
   "metadata": {
    "collapsed": true
   },
   "outputs": [],
   "source": [
    "test_std = 0.01"
   ]
  },
  {
   "cell_type": "code",
   "execution_count": null,
   "metadata": {
    "collapsed": true
   },
   "outputs": [],
   "source": [
    "fig, ax = plt.subplots()\n",
    "\n",
    "ax.bar(1, test_mean, yerr=test_std, align='center',capsize=10)\n"
   ]
  },
  {
   "cell_type": "code",
   "execution_count": null,
   "metadata": {
    "collapsed": true
   },
   "outputs": [],
   "source": [
    "#### standard deviation is a measure of the spread of a set of data away from the mean of the data."
   ]
  },
  {
   "cell_type": "code",
   "execution_count": null,
   "metadata": {
    "collapsed": true
   },
   "outputs": [],
   "source": [
    "# with CI ---  0.60*SD to 2.87*SD\n",
    "error_down = 0.6 * test_std\n",
    "error_up = 2.87 * test_std"
   ]
  },
  {
   "cell_type": "code",
   "execution_count": null,
   "metadata": {
    "collapsed": true
   },
   "outputs": [],
   "source": [
    "error_down"
   ]
  },
  {
   "cell_type": "code",
   "execution_count": null,
   "metadata": {
    "collapsed": true
   },
   "outputs": [],
   "source": [
    "error_up"
   ]
  },
  {
   "cell_type": "code",
   "execution_count": null,
   "metadata": {
    "collapsed": true
   },
   "outputs": [],
   "source": [
    "llist = [error_down, error_up]"
   ]
  },
  {
   "cell_type": "code",
   "execution_count": null,
   "metadata": {
    "collapsed": true
   },
   "outputs": [],
   "source": [
    "llist"
   ]
  },
  {
   "cell_type": "code",
   "execution_count": null,
   "metadata": {
    "collapsed": true
   },
   "outputs": [],
   "source": []
  },
  {
   "cell_type": "code",
   "execution_count": null,
   "metadata": {
    "collapsed": true
   },
   "outputs": [],
   "source": [
    "up = [1,2,3,4,5]"
   ]
  },
  {
   "cell_type": "code",
   "execution_count": null,
   "metadata": {
    "collapsed": true
   },
   "outputs": [],
   "source": [
    "down = [9,8,7,6,5]"
   ]
  },
  {
   "cell_type": "code",
   "execution_count": null,
   "metadata": {
    "collapsed": true
   },
   "outputs": [],
   "source": [
    "test = np.array([down, up])"
   ]
  },
  {
   "cell_type": "code",
   "execution_count": null,
   "metadata": {
    "collapsed": true
   },
   "outputs": [],
   "source": [
    "test"
   ]
  },
  {
   "cell_type": "code",
   "execution_count": null,
   "metadata": {
    "collapsed": true
   },
   "outputs": [],
   "source": [
    "aaa = np.array([[error_down], [error_up]])"
   ]
  },
  {
   "cell_type": "code",
   "execution_count": null,
   "metadata": {
    "collapsed": true
   },
   "outputs": [],
   "source": [
    "aaa"
   ]
  },
  {
   "cell_type": "code",
   "execution_count": null,
   "metadata": {
    "collapsed": true
   },
   "outputs": [],
   "source": [
    "fig, ax = plt.subplots()\n",
    "\n",
    "ax.bar(1, test_mean, yerr=aaa, align='center',capsize=10)"
   ]
  },
  {
   "cell_type": "code",
   "execution_count": null,
   "metadata": {
    "collapsed": true
   },
   "outputs": [],
   "source": []
  },
  {
   "cell_type": "code",
   "execution_count": null,
   "metadata": {
    "collapsed": true
   },
   "outputs": [],
   "source": []
  },
  {
   "cell_type": "code",
   "execution_count": null,
   "metadata": {
    "collapsed": true
   },
   "outputs": [],
   "source": []
  },
  {
   "cell_type": "code",
   "execution_count": null,
   "metadata": {
    "collapsed": true
   },
   "outputs": [],
   "source": []
  },
  {
   "cell_type": "code",
   "execution_count": null,
   "metadata": {
    "collapsed": true
   },
   "outputs": [],
   "source": [
    "bundleGraphs_measures[bundleGraphs_measures.columns[0]]"
   ]
  },
  {
   "cell_type": "code",
   "execution_count": null,
   "metadata": {
    "collapsed": true
   },
   "outputs": [],
   "source": [
    "bundleGraphs_measures[bundleGraphs_measures.columns[0]].std()"
   ]
  },
  {
   "cell_type": "code",
   "execution_count": null,
   "metadata": {
    "collapsed": true
   },
   "outputs": [],
   "source": [
    "ci = stats.norm.ppf((1+0.95)/2, scale=np.std(bundleGraphs_measures[bundleGraphs_measures.columns[0]]))"
   ]
  },
  {
   "cell_type": "code",
   "execution_count": null,
   "metadata": {
    "collapsed": true
   },
   "outputs": [],
   "source": [
    "ci"
   ]
  },
  {
   "cell_type": "code",
   "execution_count": null,
   "metadata": {
    "collapsed": true
   },
   "outputs": [],
   "source": []
  },
  {
   "cell_type": "code",
   "execution_count": null,
   "metadata": {
    "collapsed": true
   },
   "outputs": [],
   "source": []
  },
  {
   "cell_type": "code",
   "execution_count": null,
   "metadata": {
    "collapsed": true
   },
   "outputs": [],
   "source": []
  },
  {
   "cell_type": "code",
   "execution_count": null,
   "metadata": {
    "collapsed": true
   },
   "outputs": [],
   "source": []
  },
  {
   "cell_type": "code",
   "execution_count": null,
   "metadata": {
    "collapsed": true
   },
   "outputs": [],
   "source": []
  },
  {
   "cell_type": "code",
   "execution_count": null,
   "metadata": {
    "collapsed": true
   },
   "outputs": [],
   "source": []
  },
  {
   "cell_type": "markdown",
   "metadata": {},
   "source": [
    "-----------------------------------------------------------------------"
   ]
  },
  {
   "cell_type": "markdown",
   "metadata": {},
   "source": [
    "## Network Measures [OLD]"
   ]
  },
  {
   "cell_type": "markdown",
   "metadata": {},
   "source": [
    "### Plot network measures - reference to scripts/make_figures/plot_network_measures"
   ]
  },
  {
   "cell_type": "code",
   "execution_count": null,
   "metadata": {
    "collapsed": true
   },
   "outputs": [],
   "source": [
    "def plot_network_measures(network_measures):\n",
    "    \"\"\"\n",
    "    Create a plot of the network measures\n",
    "    \n",
    "    Parameters\n",
    "    ----------\n",
    "    network_measures : dict\n",
    "        could be obtained from running the graph_measures/calculate_global_measures()\n",
    "\n",
    "    Returns\n",
    "    -------\n",
    "    plot\n",
    "        an awesome viz\n",
    "\n",
    "    \"\"\"\n",
    "    pass\n",
    "    \n",
    "    \n",
    "    "
   ]
  },
  {
   "cell_type": "code",
   "execution_count": null,
   "metadata": {
    "collapsed": true
   },
   "outputs": [],
   "source": [
    "# get input\n",
    "from scona.graph_measures import calculate_global_measures"
   ]
  },
  {
   "cell_type": "code",
   "execution_count": null,
   "metadata": {
    "collapsed": true
   },
   "outputs": [],
   "source": [
    "network_measures = calculate_global_measures(G)"
   ]
  },
  {
   "cell_type": "code",
   "execution_count": null,
   "metadata": {
    "collapsed": true
   },
   "outputs": [],
   "source": [
    "network_measures"
   ]
  },
  {
   "cell_type": "code",
   "execution_count": null,
   "metadata": {
    "collapsed": true
   },
   "outputs": [],
   "source": [
    "# Set the aesthetic style of the plot\n",
    "sns.set_style(\"white\")"
   ]
  },
  {
   "cell_type": "code",
   "execution_count": null,
   "metadata": {
    "collapsed": true
   },
   "outputs": [],
   "source": [
    "# Set the plotting context parameter - scaling plot elements\n",
    "sns.set_context(\"talk\")"
   ]
  },
  {
   "cell_type": "code",
   "execution_count": null,
   "metadata": {
    "collapsed": true
   },
   "outputs": [],
   "source": [
    "# do not plot the measure, which equals to nan !!! raise Warning like - MAN thie measure equals to Nan\n",
    "del network_measures[\"assortativity\"]"
   ]
  },
  {
   "cell_type": "code",
   "execution_count": null,
   "metadata": {
    "collapsed": true
   },
   "outputs": [],
   "source": [
    "network_measures"
   ]
  },
  {
   "cell_type": "code",
   "execution_count": null,
   "metadata": {
    "collapsed": true
   },
   "outputs": [],
   "source": [
    "measures = list(network_measures.keys())\n",
    "values = list(network_measures.values())"
   ]
  },
  {
   "cell_type": "code",
   "execution_count": null,
   "metadata": {
    "collapsed": true
   },
   "outputs": [],
   "source": [
    "measures"
   ]
  },
  {
   "cell_type": "code",
   "execution_count": null,
   "metadata": {
    "collapsed": true
   },
   "outputs": [],
   "source": [
    "values"
   ]
  },
  {
   "cell_type": "markdown",
   "metadata": {},
   "source": [
    "## Attempt 1 - Create a viz from dataframe - RESULT - Nothing Special - Use matplotlib"
   ]
  },
  {
   "cell_type": "code",
   "execution_count": null,
   "metadata": {
    "collapsed": true
   },
   "outputs": [],
   "source": [
    "network_measures"
   ]
  },
  {
   "cell_type": "code",
   "execution_count": null,
   "metadata": {
    "collapsed": true
   },
   "outputs": [],
   "source": [
    "dict_pd = {\"Measures\":measures,\"Values\":values}"
   ]
  },
  {
   "cell_type": "code",
   "execution_count": null,
   "metadata": {
    "collapsed": true
   },
   "outputs": [],
   "source": [
    "df = pd.DataFrame(dict_pd)"
   ]
  },
  {
   "cell_type": "code",
   "execution_count": null,
   "metadata": {
    "collapsed": true
   },
   "outputs": [],
   "source": [
    "df.set_index('Measures', inplace=True)"
   ]
  },
  {
   "cell_type": "code",
   "execution_count": null,
   "metadata": {
    "collapsed": true
   },
   "outputs": [],
   "source": [
    "df.plot(kind='bar', figsize=(10, 6))"
   ]
  },
  {
   "cell_type": "markdown",
   "metadata": {},
   "source": [
    "## Attempt 2 - Understand Kirsties code"
   ]
  },
  {
   "cell_type": "markdown",
   "metadata": {},
   "source": [
    "def plot_network_measures(measure_dict, ax=None, figure_name=None, y_max=2.5,\n",
    "                          y_min=-0.5, color=sns.color_palette()[0]):"
   ]
  },
  {
   "cell_type": "code",
   "execution_count": null,
   "metadata": {
    "collapsed": true
   },
   "outputs": [],
   "source": [
    "network_measures"
   ]
  },
  {
   "cell_type": "code",
   "execution_count": null,
   "metadata": {
    "collapsed": true
   },
   "outputs": [],
   "source": [
    "random_network_measures = {'average_clustering_rand': 0.89, 'average_shortest_path_length_rand': 1.3, 'efficiency_rand': 0.95}"
   ]
  },
  {
   "cell_type": "code",
   "execution_count": null,
   "metadata": {
    "collapsed": true
   },
   "outputs": [],
   "source": [
    "random_network_measures"
   ]
  },
  {
   "cell_type": "code",
   "execution_count": null,
   "metadata": {
    "collapsed": true
   },
   "outputs": [],
   "source": [
    "dict_pd2 = {\"Measures\":measures+list(random_network_measures.keys()),\"Values\":values+list(random_network_measures.values())}"
   ]
  },
  {
   "cell_type": "code",
   "execution_count": null,
   "metadata": {
    "collapsed": true
   },
   "outputs": [],
   "source": [
    "df2 = pd.DataFrame(dict_pd2)"
   ]
  },
  {
   "cell_type": "code",
   "execution_count": null,
   "metadata": {
    "collapsed": true
   },
   "outputs": [],
   "source": [
    "df2"
   ]
  },
  {
   "cell_type": "markdown",
   "metadata": {},
   "source": [
    "# Fucked Up - Make by myself"
   ]
  },
  {
   "cell_type": "code",
   "execution_count": null,
   "metadata": {
    "collapsed": true
   },
   "outputs": [],
   "source": []
  },
  {
   "cell_type": "code",
   "execution_count": null,
   "metadata": {
    "collapsed": true
   },
   "outputs": [],
   "source": []
  },
  {
   "cell_type": "code",
   "execution_count": null,
   "metadata": {
    "collapsed": true
   },
   "outputs": [],
   "source": []
  },
  {
   "cell_type": "code",
   "execution_count": null,
   "metadata": {
    "collapsed": true
   },
   "outputs": [],
   "source": []
  },
  {
   "cell_type": "code",
   "execution_count": null,
   "metadata": {
    "collapsed": true
   },
   "outputs": [],
   "source": []
  },
  {
   "cell_type": "code",
   "execution_count": null,
   "metadata": {
    "collapsed": true
   },
   "outputs": [],
   "source": []
  },
  {
   "cell_type": "code",
   "execution_count": null,
   "metadata": {
    "collapsed": true
   },
   "outputs": [],
   "source": []
  },
  {
   "cell_type": "code",
   "execution_count": null,
   "metadata": {
    "collapsed": true
   },
   "outputs": [],
   "source": []
  },
  {
   "cell_type": "code",
   "execution_count": null,
   "metadata": {
    "collapsed": true
   },
   "outputs": [],
   "source": []
  },
  {
   "cell_type": "markdown",
   "metadata": {},
   "source": [
    "## Attempt 3 - My fucking Viz with matplotlib"
   ]
  },
  {
   "cell_type": "markdown",
   "metadata": {},
   "source": [
    "**plot_network_measures**\n",
    "* input:\n",
    "    - network_measures\n",
    "    - network_measures_rand\n",
    "* output:\n",
    "    - plot the fig\n",
    "    - save to file"
   ]
  },
  {
   "cell_type": "markdown",
   "metadata": {},
   "source": [
    "First we will create a figure object called fig and an axis object in that figure called ax using matplotlib's plt.subplots() function. Everything in our plot will be added to the ax (axis) object. Next we put a bar chart on our ax (axis) with the ax.bar() method.\n",
    " * fig, ax = plt.subplots()"
   ]
  },
  {
   "cell_type": "code",
   "execution_count": null,
   "metadata": {
    "collapsed": true
   },
   "outputs": [],
   "source": [
    "network_measures = {'average_clustering': 1.0, 'average_shortest_path_length': 1.0, 'assortativity': 1.0, 'modularity': 1.0, 'efficiency': 1.0}"
   ]
  },
  {
   "cell_type": "code",
   "execution_count": null,
   "metadata": {
    "collapsed": true
   },
   "outputs": [],
   "source": [
    "network_measures"
   ]
  },
  {
   "cell_type": "code",
   "execution_count": null,
   "metadata": {
    "collapsed": true
   },
   "outputs": [],
   "source": [
    "random_network_measures = {'average_clustering': 0.89, 'average_shortest_path_length': 1.3,'assortativity': 0.65, 'modularity': 1, 'efficiency': 2}"
   ]
  },
  {
   "cell_type": "code",
   "execution_count": null,
   "metadata": {
    "collapsed": true
   },
   "outputs": [],
   "source": [
    "random_network_measures"
   ]
  },
  {
   "cell_type": "code",
   "execution_count": null,
   "metadata": {
    "collapsed": true
   },
   "outputs": [],
   "source": [
    "measures_network = list(network_measures.keys())\n",
    "values_network = list(network_measures.values())"
   ]
  },
  {
   "cell_type": "code",
   "execution_count": null,
   "metadata": {
    "collapsed": true
   },
   "outputs": [],
   "source": [
    "random_measures_network = list(random_network_measures.keys())\n",
    "random_values_network = list(random_network_measures.values())"
   ]
  },
  {
   "cell_type": "code",
   "execution_count": null,
   "metadata": {
    "collapsed": true
   },
   "outputs": [],
   "source": [
    "# keys Sunchronizeid\n",
    "print(measures_network)\n",
    "print(random_measures_network)"
   ]
  },
  {
   "cell_type": "code",
   "execution_count": null,
   "metadata": {
    "collapsed": true
   },
   "outputs": [],
   "source": [
    "# Set position of bar on X axis\n",
    "barWidth = 0.2\n",
    "r1 = np.arange(len(values_network))\n",
    "r2 = [x + barWidth + 0.05 for x in r1]"
   ]
  },
  {
   "cell_type": "code",
   "execution_count": null,
   "metadata": {
    "collapsed": true
   },
   "outputs": [],
   "source": [
    "fig, ax = plt.subplots(figsize=(10, 6))\n",
    "\n",
    "rects1 = ax.bar(r1, values_network, color='#2cb8ee', width=barWidth, edgecolor='white', label='Real Network')\n",
    "rects2 = ax.bar(r2, random_values_network, color='#cdc6c0', width=barWidth, edgecolor='white', label='Random Network')\n",
    "\n",
    "ax.set_xticks([r + barWidth for r in range(len(r1))])\n",
    "ax.set_xticklabels([\"C\", \"L\", \"a\", \"M\", \"E\"])\n",
    "ax.set_xlabel(\"Network Measures\", fontweight='bold')\n",
    "ax.set_ylabel(\"Values\", fontweight='bold')\n",
    "\n",
    "autolabel(rects1)\n",
    "autolabel(rects2)\n",
    "\n",
    "ax.legend()\n",
    "\n",
    "# save the figure\n",
    "# fig.savefig(\"RuslanAAAAAAAAAAAA\", bbox_inches=0, dpi=100)"
   ]
  },
  {
   "cell_type": "code",
   "execution_count": null,
   "metadata": {
    "collapsed": true
   },
   "outputs": [],
   "source": [
    "def autolabel(rects):\n",
    "    \"\"\"\n",
    "    Attach a text label above each bar in *rects*, displaying its height.\n",
    "\n",
    "    *xpos* indicates which side to place the text w.r.t. the center of\n",
    "    the bar. It can be one of the following {'center', 'right', 'left'}.\n",
    "    \"\"\"\n",
    "      \n",
    "    offset = {'center': 0, 'right': 1, 'left': -1}\n",
    "\n",
    "    for rect in rects:\n",
    "        height = rect.get_height()\n",
    "        ax.annotate('{}'.format(height),                                 # text - what to show\n",
    "                    xy=(rect.get_x() + rect.get_width() / 2, height),    # (xy) coordinate where it should be\n",
    "                    ha=\"center\",                                         # ha - the position of text\n",
    "                    va='bottom',                                         # va - make text slightly upper than bar\n",
    "                    size=12)                                             # size - the size of the text"
   ]
  },
  {
   "cell_type": "code",
   "execution_count": null,
   "metadata": {
    "collapsed": true
   },
   "outputs": [],
   "source": [
    "# set seaborn styles\n",
    "sns.set_style('white')\n",
    "sns.set_context(\"poster\", font_scale=2)\n",
    "\n",
    "# to diable styles\n",
    "# sns.reset_orig()"
   ]
  },
  {
   "cell_type": "code",
   "execution_count": null,
   "metadata": {
    "collapsed": true
   },
   "outputs": [],
   "source": [
    "#### Seaborn Styling\n",
    "fig, ax = plt.subplots(figsize=(10, 6))\n",
    "\n",
    "rects1 = ax.bar(r1, values_network, color='#2cb8ee', width=barWidth, edgecolor='white', label='Real Network')\n",
    "rects2 = ax.bar(r2, random_values_network, color='#cdc6c0', width=barWidth, edgecolor='white', label='Random Network')\n",
    "\n",
    "ax.set_xticks([r + barWidth for r in range(len(r1))])\n",
    "ax.set_xticklabels([\"C\", \"L\", \"a\", \"M\", \"E\"])\n",
    "\n",
    "\n",
    "\n",
    "ax.set_ylabel(\"Network Measures\")\n",
    "\n",
    "autolabel(rects1)\n",
    "autolabel(rects2)\n",
    "\n",
    "# ax.legend()\n",
    "\n",
    "# save the figure\n",
    "# fig.savefig(\"RuslanAAAAAAAAAAAA\", bbox_inches=0, dpi=100)"
   ]
  },
  {
   "cell_type": "code",
   "execution_count": null,
   "metadata": {
    "collapsed": true
   },
   "outputs": [],
   "source": []
  },
  {
   "cell_type": "code",
   "execution_count": null,
   "metadata": {
    "collapsed": true
   },
   "outputs": [],
   "source": []
  },
  {
   "cell_type": "code",
   "execution_count": null,
   "metadata": {
    "collapsed": true
   },
   "outputs": [],
   "source": []
  },
  {
   "cell_type": "code",
   "execution_count": null,
   "metadata": {
    "collapsed": true
   },
   "outputs": [],
   "source": []
  },
  {
   "cell_type": "code",
   "execution_count": null,
   "metadata": {
    "collapsed": true
   },
   "outputs": [],
   "source": []
  },
  {
   "cell_type": "code",
   "execution_count": null,
   "metadata": {
    "collapsed": true
   },
   "outputs": [],
   "source": []
  },
  {
   "cell_type": "code",
   "execution_count": null,
   "metadata": {
    "collapsed": true
   },
   "outputs": [],
   "source": []
  },
  {
   "cell_type": "code",
   "execution_count": null,
   "metadata": {
    "collapsed": true
   },
   "outputs": [],
   "source": []
  },
  {
   "cell_type": "code",
   "execution_count": null,
   "metadata": {
    "collapsed": true
   },
   "outputs": [],
   "source": []
  },
  {
   "cell_type": "code",
   "execution_count": null,
   "metadata": {
    "collapsed": true
   },
   "outputs": [],
   "source": []
  },
  {
   "cell_type": "code",
   "execution_count": null,
   "metadata": {
    "collapsed": true
   },
   "outputs": [],
   "source": []
  },
  {
   "cell_type": "code",
   "execution_count": null,
   "metadata": {
    "collapsed": true
   },
   "outputs": [],
   "source": []
  },
  {
   "cell_type": "code",
   "execution_count": null,
   "metadata": {
    "collapsed": true
   },
   "outputs": [],
   "source": []
  },
  {
   "cell_type": "code",
   "execution_count": null,
   "metadata": {
    "collapsed": true
   },
   "outputs": [],
   "source": []
  },
  {
   "cell_type": "code",
   "execution_count": null,
   "metadata": {
    "collapsed": true
   },
   "outputs": [],
   "source": []
  },
  {
   "cell_type": "code",
   "execution_count": null,
   "metadata": {
    "collapsed": true
   },
   "outputs": [],
   "source": []
  },
  {
   "cell_type": "code",
   "execution_count": null,
   "metadata": {
    "collapsed": true
   },
   "outputs": [],
   "source": []
  },
  {
   "cell_type": "code",
   "execution_count": null,
   "metadata": {
    "collapsed": true
   },
   "outputs": [],
   "source": []
  },
  {
   "cell_type": "code",
   "execution_count": null,
   "metadata": {
    "collapsed": true
   },
   "outputs": [],
   "source": [
    "# plt.bar(measures, values, label=\"Network Measures\")"
   ]
  },
  {
   "cell_type": "code",
   "execution_count": null,
   "metadata": {
    "collapsed": true
   },
   "outputs": [],
   "source": [
    "fig, ax = plt.subplots(figsize=(10, 6))"
   ]
  },
  {
   "cell_type": "code",
   "execution_count": null,
   "metadata": {
    "collapsed": true
   },
   "outputs": [],
   "source": [
    "x = [1,2,3]"
   ]
  },
  {
   "cell_type": "code",
   "execution_count": null,
   "metadata": {
    "collapsed": true
   },
   "outputs": [],
   "source": [
    "plt.bar(x, values, align='center')\n",
    "plt.xticks(x, measures, rotation='vertical')"
   ]
  },
  {
   "cell_type": "code",
   "execution_count": null,
   "metadata": {
    "collapsed": true
   },
   "outputs": [],
   "source": [
    "plt.bar(measures, values)\n",
    "\n",
    "plt.ylim(0,3)\n",
    "plt.ylabel ('Value')\n",
    "plt.xlabel ('Measures Types')\n",
    "plt.xticks(list(measures),rotation=30)"
   ]
  },
  {
   "cell_type": "code",
   "execution_count": null,
   "metadata": {
    "collapsed": true
   },
   "outputs": [],
   "source": []
  },
  {
   "cell_type": "markdown",
   "metadata": {
    "collapsed": true
   },
   "source": [
    "# Example \n",
    "\n",
    "def plot_bar_x():\n",
    "    # this is for plotting purpose\n",
    "    index = np.arange(len(label))\n",
    "    plt.bar(index, no_movies)\n",
    "    plt.xlabel('Genre', fontsize=5)\n",
    "    plt.ylabel('No of Movies', fontsize=5)\n",
    "    plt.xticks(index, label, fontsize=5, rotation=30)\n",
    "    plt.title('Market Share for Each Genre 1995-2017')\n",
    "    plt.show()"
   ]
  },
  {
   "cell_type": "code",
   "execution_count": null,
   "metadata": {
    "collapsed": true
   },
   "outputs": [],
   "source": []
  },
  {
   "cell_type": "code",
   "execution_count": null,
   "metadata": {
    "collapsed": true
   },
   "outputs": [],
   "source": []
  },
  {
   "cell_type": "code",
   "execution_count": null,
   "metadata": {
    "collapsed": true
   },
   "outputs": [],
   "source": []
  },
  {
   "cell_type": "code",
   "execution_count": null,
   "metadata": {
    "collapsed": true
   },
   "outputs": [],
   "source": []
  },
  {
   "cell_type": "code",
   "execution_count": 1,
   "metadata": {
    "collapsed": true
   },
   "outputs": [],
   "source": [
    "import scona as scn\n",
    "import scona.datasets as datasets\n",
    "import numpy as np\n",
    "import networkx as nx\n",
    "import pandas as pd\n",
    "from IPython.display import display\n",
    "\n",
    "import matplotlib.pyplot as plt\n",
    "import seaborn as sns"
   ]
  },
  {
   "cell_type": "code",
   "execution_count": 2,
   "metadata": {},
   "outputs": [
    {
     "name": "stdout",
     "output_type": "stream",
     "text": [
      "        Creating 10 random graphs - may take a little while\n"
     ]
    }
   ],
   "source": [
    "# Read in sample data from the NSPN WhitakerVertes PNAS 2016 paper.\n",
    "df, names, covars, centroids = datasets.NSPN_WhitakerVertes_PNAS2016.import_data()\n",
    "\n",
    "# calculate residuals of the matrix df for the columns of names\n",
    "df_res = scn.create_residuals_df(df, names, covars)\n",
    "\n",
    "# create a correlation matrix over the columns of df_res\n",
    "M = scn.create_corrmat(df_res, method='pearson')\n",
    "\n",
    "# Initialise a weighted graph G from the correlation matrix M\n",
    "G = scn.BrainNetwork(network=M, parcellation=names, centroids=centroids)\n",
    "\n",
    "# Threshold G at cost 10 to create a binary graph with 10% as many edges as the complete graph G.\n",
    "G10 = G.threshold(10)\n",
    "\n",
    "# Create a GraphBundle object that contains the G10 graph called \"real_graph\"\n",
    "bundleGraphs = scn.GraphBundle([G10], [\"real_graph\"])\n",
    "\n",
    "# Add ten random graphs to this bundle\n",
    "# (In real life you'd want more than 10 random graphs,\n",
    "# but this step can take quite a long time to run so \n",
    "# for the demo we just create 10)\n",
    "bundleGraphs.create_random_graphs(\"real_graph\", 10)"
   ]
  },
  {
   "cell_type": "code",
   "execution_count": 4,
   "metadata": {
    "collapsed": true
   },
   "outputs": [],
   "source": [
    "from scona.visualisations import plot_network_measures"
   ]
  },
  {
   "cell_type": "code",
   "execution_count": 6,
   "metadata": {},
   "outputs": [
    {
     "data": {
      "text/html": [
       "<div>\n",
       "<style>\n",
       "    .dataframe thead tr:only-child th {\n",
       "        text-align: right;\n",
       "    }\n",
       "\n",
       "    .dataframe thead th {\n",
       "        text-align: left;\n",
       "    }\n",
       "\n",
       "    .dataframe tbody tr th {\n",
       "        vertical-align: top;\n",
       "    }\n",
       "</style>\n",
       "<table border=\"1\" class=\"dataframe\">\n",
       "  <thead>\n",
       "    <tr style=\"text-align: right;\">\n",
       "      <th></th>\n",
       "      <th>assortativity</th>\n",
       "      <th>average_clustering</th>\n",
       "      <th>average_shortest_path_length</th>\n",
       "      <th>efficiency</th>\n",
       "      <th>modularity</th>\n",
       "    </tr>\n",
       "  </thead>\n",
       "  <tbody>\n",
       "    <tr>\n",
       "      <th>real_graph</th>\n",
       "      <td>0.090769</td>\n",
       "      <td>0.449889</td>\n",
       "      <td>2.376243</td>\n",
       "      <td>0.479840</td>\n",
       "      <td>0.382855</td>\n",
       "    </tr>\n",
       "    <tr>\n",
       "      <th>real_graph_R0</th>\n",
       "      <td>-0.068490</td>\n",
       "      <td>0.222020</td>\n",
       "      <td>2.089407</td>\n",
       "      <td>0.518880</td>\n",
       "      <td>0.132284</td>\n",
       "    </tr>\n",
       "    <tr>\n",
       "      <th>real_graph_R1</th>\n",
       "      <td>-0.087987</td>\n",
       "      <td>0.223699</td>\n",
       "      <td>2.084373</td>\n",
       "      <td>0.519606</td>\n",
       "      <td>0.121992</td>\n",
       "    </tr>\n",
       "    <tr>\n",
       "      <th>real_graph_R2</th>\n",
       "      <td>-0.086027</td>\n",
       "      <td>0.230896</td>\n",
       "      <td>2.085135</td>\n",
       "      <td>0.519445</td>\n",
       "      <td>0.120239</td>\n",
       "    </tr>\n",
       "    <tr>\n",
       "      <th>real_graph_R3</th>\n",
       "      <td>-0.070905</td>\n",
       "      <td>0.230183</td>\n",
       "      <td>2.088286</td>\n",
       "      <td>0.518846</td>\n",
       "      <td>0.127489</td>\n",
       "    </tr>\n",
       "    <tr>\n",
       "      <th>real_graph_R4</th>\n",
       "      <td>-0.081704</td>\n",
       "      <td>0.230800</td>\n",
       "      <td>2.083718</td>\n",
       "      <td>0.519641</td>\n",
       "      <td>0.128235</td>\n",
       "    </tr>\n",
       "    <tr>\n",
       "      <th>real_graph_R5</th>\n",
       "      <td>-0.084969</td>\n",
       "      <td>0.232425</td>\n",
       "      <td>2.088117</td>\n",
       "      <td>0.518922</td>\n",
       "      <td>0.131506</td>\n",
       "    </tr>\n",
       "    <tr>\n",
       "      <th>real_graph_R6</th>\n",
       "      <td>-0.062527</td>\n",
       "      <td>0.229273</td>\n",
       "      <td>2.098376</td>\n",
       "      <td>0.517527</td>\n",
       "      <td>0.122155</td>\n",
       "    </tr>\n",
       "    <tr>\n",
       "      <th>real_graph_R7</th>\n",
       "      <td>-0.099200</td>\n",
       "      <td>0.222425</td>\n",
       "      <td>2.086298</td>\n",
       "      <td>0.519278</td>\n",
       "      <td>0.122585</td>\n",
       "    </tr>\n",
       "    <tr>\n",
       "      <th>real_graph_R8</th>\n",
       "      <td>-0.074908</td>\n",
       "      <td>0.226588</td>\n",
       "      <td>2.085198</td>\n",
       "      <td>0.519338</td>\n",
       "      <td>0.130246</td>\n",
       "    </tr>\n",
       "    <tr>\n",
       "      <th>real_graph_R9</th>\n",
       "      <td>-0.068901</td>\n",
       "      <td>0.224154</td>\n",
       "      <td>2.082914</td>\n",
       "      <td>0.519676</td>\n",
       "      <td>0.123219</td>\n",
       "    </tr>\n",
       "  </tbody>\n",
       "</table>\n",
       "</div>"
      ],
      "text/plain": [
       "               assortativity  average_clustering  \\\n",
       "real_graph          0.090769            0.449889   \n",
       "real_graph_R0      -0.068490            0.222020   \n",
       "real_graph_R1      -0.087987            0.223699   \n",
       "real_graph_R2      -0.086027            0.230896   \n",
       "real_graph_R3      -0.070905            0.230183   \n",
       "real_graph_R4      -0.081704            0.230800   \n",
       "real_graph_R5      -0.084969            0.232425   \n",
       "real_graph_R6      -0.062527            0.229273   \n",
       "real_graph_R7      -0.099200            0.222425   \n",
       "real_graph_R8      -0.074908            0.226588   \n",
       "real_graph_R9      -0.068901            0.224154   \n",
       "\n",
       "               average_shortest_path_length  efficiency  modularity  \n",
       "real_graph                         2.376243    0.479840    0.382855  \n",
       "real_graph_R0                      2.089407    0.518880    0.132284  \n",
       "real_graph_R1                      2.084373    0.519606    0.121992  \n",
       "real_graph_R2                      2.085135    0.519445    0.120239  \n",
       "real_graph_R3                      2.088286    0.518846    0.127489  \n",
       "real_graph_R4                      2.083718    0.519641    0.128235  \n",
       "real_graph_R5                      2.088117    0.518922    0.131506  \n",
       "real_graph_R6                      2.098376    0.517527    0.122155  \n",
       "real_graph_R7                      2.086298    0.519278    0.122585  \n",
       "real_graph_R8                      2.085198    0.519338    0.130246  \n",
       "real_graph_R9                      2.082914    0.519676    0.123219  "
      ]
     },
     "metadata": {},
     "output_type": "display_data"
    }
   ],
   "source": [
    "# Calculate the global measures\n",
    "bundleGraphs_measures = bundleGraphs.report_global_measures()\n",
    "\n",
    "# Show the dataframe so we can see the measures\n",
    "display(bundleGraphs_measures)"
   ]
  },
  {
   "cell_type": "code",
   "execution_count": 8,
   "metadata": {},
   "outputs": [
    {
     "data": {
      "image/png": "[encoded data removed]",
      "text/plain": [
       "<matplotlib.figure.Figure at 0x7f4895e0e5c0>"
      ]
     },
     "metadata": {},
     "output_type": "display_data"
    },
    {
     "name": "stdout",
     "output_type": "stream",
     "text": [
      "CPU times: user 694 ms, sys: 220 ms, total: 914 ms\n",
      "Wall time: 448 ms\n"
     ]
    }
   ],
   "source": [
    "%%time\n",
    "\n",
    "plot_network_measures(bundleGraphs, real_network=\"real_graph\")"
   ]
  },
  {
   "cell_type": "code",
   "execution_count": null,
   "metadata": {
    "collapsed": true
   },
   "outputs": [],
   "source": []
  },
  {
   "cell_type": "code",
   "execution_count": null,
   "metadata": {
    "collapsed": true
   },
   "outputs": [],
   "source": []
  },
  {
   "cell_type": "code",
   "execution_count": null,
   "metadata": {
    "collapsed": true
   },
   "outputs": [],
   "source": []
  },
  {
   "cell_type": "code",
   "execution_count": null,
   "metadata": {
    "collapsed": true
   },
   "outputs": [],
   "source": []
  },
  {
   "cell_type": "code",
   "execution_count": null,
   "metadata": {
    "collapsed": true
   },
   "outputs": [],
   "source": []
  },
  {
   "cell_type": "markdown",
   "metadata": {
    "collapsed": true
   },
   "source": [
    "Fixing Bugs in SMALL WORLD"
   ]
  },
  {
   "cell_type": "code",
   "execution_count": 22,
   "metadata": {},
   "outputs": [
    {
     "data": {
      "text/plain": [
       "{'centroids': True, 'global_measures': {}, 'parcellation': True}"
      ]
     },
     "execution_count": 22,
     "metadata": {},
     "output_type": "execute_result"
    }
   ],
   "source": [
    "H.graph"
   ]
  },
  {
   "cell_type": "code",
   "execution_count": 23,
   "metadata": {},
   "outputs": [
    {
     "data": {
      "text/plain": [
       "{}"
      ]
     },
     "execution_count": 23,
     "metadata": {},
     "output_type": "execute_result"
    }
   ],
   "source": [
    "H.graph[\"global_measures\"]"
   ]
  },
  {
   "cell_type": "code",
   "execution_count": 12,
   "metadata": {},
   "outputs": [
    {
     "ename": "KeyError",
     "evalue": "'average_clustering'",
     "output_type": "error",
     "traceback": [
      "\u001b[0;31m-----------------------------------------------------------------------\u001b[0m",
      "\u001b[0;31mKeyError\u001b[0m                              Traceback (most recent call last)",
      "\u001b[0;32m<ipython-input-12-d3de59c4c9fd>\u001b[0m in \u001b[0;36m<module>\u001b[0;34m()\u001b[0m\n\u001b[0;32m----> 1\u001b[0;31m \u001b[0mH\u001b[0m\u001b[0;34m.\u001b[0m\u001b[0mgraph\u001b[0m\u001b[0;34m[\u001b[0m\u001b[0;34m\"global_measures\"\u001b[0m\u001b[0;34m]\u001b[0m\u001b[0;34m[\u001b[0m\u001b[0;34m\"average_clustering\"\u001b[0m\u001b[0;34m]\u001b[0m\u001b[0;34m\u001b[0m\u001b[0;34m\u001b[0m\u001b[0m\n\u001b[0m",
      "\u001b[0;31mKeyError\u001b[0m: 'average_clustering'"
     ]
    }
   ],
   "source": [
    "H.graph[\"global_measures\"][\"average_clustering\"]"
   ]
  },
  {
   "cell_type": "code",
   "execution_count": null,
   "metadata": {
    "collapsed": true
   },
   "outputs": [],
   "source": []
  },
  {
   "cell_type": "code",
   "execution_count": 25,
   "metadata": {
    "collapsed": true
   },
   "outputs": [],
   "source": [
    "watts_strogatz_2 = nx.watts_strogatz_graph(6, 4, 0)"
   ]
  },
  {
   "cell_type": "code",
   "execution_count": 26,
   "metadata": {},
   "outputs": [
    {
     "data": {
      "text/plain": [
       "{}"
      ]
     },
     "execution_count": 26,
     "metadata": {},
     "output_type": "execute_result"
    }
   ],
   "source": [
    "watts_strogatz_2.graph"
   ]
  },
  {
   "cell_type": "code",
   "execution_count": 27,
   "metadata": {},
   "outputs": [
    {
     "ename": "KeyError",
     "evalue": "'global_measures'",
     "output_type": "error",
     "traceback": [
      "\u001b[0;31m-----------------------------------------------------------------------\u001b[0m",
      "\u001b[0;31mKeyError\u001b[0m                              Traceback (most recent call last)",
      "\u001b[0;32m<ipython-input-27-fad7035fc747>\u001b[0m in \u001b[0;36m<module>\u001b[0;34m()\u001b[0m\n\u001b[0;32m----> 1\u001b[0;31m \u001b[0mwatts_strogatz_2\u001b[0m\u001b[0;34m.\u001b[0m\u001b[0mgraph\u001b[0m\u001b[0;34m[\u001b[0m\u001b[0;34m\"global_measures\"\u001b[0m\u001b[0;34m]\u001b[0m\u001b[0;34m\u001b[0m\u001b[0;34m\u001b[0m\u001b[0m\n\u001b[0m",
      "\u001b[0;31mKeyError\u001b[0m: 'global_measures'"
     ]
    }
   ],
   "source": [
    "watts_strogatz_2.graph[\"global_measures\"]"
   ]
  },
  {
   "cell_type": "code",
   "execution_count": 28,
   "metadata": {},
   "outputs": [
    {
     "ename": "KeyError",
     "evalue": "'global_measures'",
     "output_type": "error",
     "traceback": [
      "\u001b[0;31m-----------------------------------------------------------------------\u001b[0m",
      "\u001b[0;31mKeyError\u001b[0m                              Traceback (most recent call last)",
      "\u001b[0;32m<ipython-input-28-6ce285ad7b73>\u001b[0m in \u001b[0;36m<module>\u001b[0;34m()\u001b[0m\n\u001b[0;32m----> 1\u001b[0;31m \u001b[0mwatts_strogatz_2\u001b[0m\u001b[0;34m.\u001b[0m\u001b[0mgraph\u001b[0m\u001b[0;34m[\u001b[0m\u001b[0;34m\"global_measures\"\u001b[0m\u001b[0;34m]\u001b[0m\u001b[0;34m[\u001b[0m\u001b[0;34m\"average_clustering\"\u001b[0m\u001b[0;34m]\u001b[0m\u001b[0;34m\u001b[0m\u001b[0;34m\u001b[0m\u001b[0m\n\u001b[0m",
      "\u001b[0;31mKeyError\u001b[0m: 'global_measures'"
     ]
    }
   ],
   "source": [
    "watts_strogatz_2.graph[\"global_measures\"][\"average_clustering\"]"
   ]
  },
  {
   "cell_type": "code",
   "execution_count": 18,
   "metadata": {},
   "outputs": [
    {
     "name": "stdout",
     "output_type": "stream",
     "text": [
      "Alles hut\n"
     ]
    }
   ],
   "source": [
    "try:\n",
    "    watts_strogatz_2.graph[\"global_measures\"][\"average_clustering\"]\n",
    "except KeyError:\n",
    "    print(\"Alles hut\")"
   ]
  },
  {
   "cell_type": "code",
   "execution_count": null,
   "metadata": {
    "collapsed": true
   },
   "outputs": [],
   "source": []
  },
  {
   "cell_type": "code",
   "execution_count": 19,
   "metadata": {
    "collapsed": true
   },
   "outputs": [],
   "source": [
    "R = G.threshold(10)"
   ]
  },
  {
   "cell_type": "code",
   "execution_count": 24,
   "metadata": {},
   "outputs": [
    {
     "name": "stdout",
     "output_type": "stream",
     "text": [
      "No\n"
     ]
    }
   ],
   "source": [
    "try:\n",
    "    C_g = H.graph[\"global_measures\"][\"average_clustering\"]\n",
    "except KeyError:\n",
    "    print (\"No\")\n",
    "    C_g = nx.average_clustering(H)"
   ]
  },
  {
   "cell_type": "code",
   "execution_count": null,
   "metadata": {
    "collapsed": true
   },
   "outputs": [],
   "source": []
  }
 ],
 "metadata": {
  "anaconda-cloud": {},
  "kernelspec": {
   "display_name": "Python 3",
   "language": "python",
   "name": "python3"
  },
  "language_info": {
   "codemirror_mode": {
    "name": "ipython",
    "version": 3
   },
   "file_extension": ".py",
   "mimetype": "text/x-python",
   "name": "python",
   "nbconvert_exporter": "python",
   "pygments_lexer": "ipython3",
   "version": "3.6.8"
  }
 },
 "nbformat": 4,
 "nbformat_minor": 1
}
