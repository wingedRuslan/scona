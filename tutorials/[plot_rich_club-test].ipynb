{
 "cells": [
  {
   "cell_type": "markdown",
   "metadata": {},
   "source": [
    "# Plot rich club function Implementation"
   ]
  },
  {
   "cell_type": "markdown",
   "metadata": {},
   "source": [
    "-------------------------------"
   ]
  },
  {
   "cell_type": "code",
   "execution_count": 1,
   "metadata": {
    "collapsed": true
   },
   "outputs": [],
   "source": [
    "import scona as scn\n",
    "import scona.datasets as datasets\n",
    "import numpy as np\n",
    "import networkx as nx\n",
    "import pandas as pd"
   ]
  },
  {
   "cell_type": "code",
   "execution_count": 2,
   "metadata": {
    "collapsed": true
   },
   "outputs": [],
   "source": [
    "# Read in sample data from the NSPN WhitakerVertes PNAS 2016 paper.\n",
    "df, names, covars, centroids = datasets.NSPN_WhitakerVertes_PNAS2016.import_data()\n",
    "\n",
    "# calculate residuals of the matrix df for the columns of names\n",
    "df_res = scn.create_residuals_df(df, names, covars)\n",
    "\n",
    "# create a correlation matrix over the columns of df_res\n",
    "M = scn.create_corrmat(df_res, method='pearson')\n",
    "\n",
    "# Initialise a weighted graph G from the correlation matrix M\n",
    "G = scn.BrainNetwork(network=M, parcellation=names, centroids=centroids)\n",
    "\n",
    "# threshold\n",
    "H = G.threshold(10)"
   ]
  },
  {
   "cell_type": "code",
   "execution_count": 3,
   "metadata": {
    "collapsed": true
   },
   "outputs": [],
   "source": [
    "import matplotlib.pylab as plt\n",
    "import seaborn as sns\n",
    "%matplotlib inline"
   ]
  },
  {
   "cell_type": "markdown",
   "metadata": {},
   "source": [
    "GraphBundle"
   ]
  },
  {
   "cell_type": "markdown",
   "metadata": {},
   "source": [
    "=================================================================================================================="
   ]
  },
  {
   "cell_type": "code",
   "execution_count": 4,
   "metadata": {},
   "outputs": [
    {
     "data": {
      "text/plain": [
       "{'centroids': array([-56.40355 , -40.152663,   1.708876]),\n",
       " 'name': 'lh_bankssts_part1',\n",
       " 'x': -56.40355,\n",
       " 'y': -40.152663,\n",
       " 'z': 1.708876}"
      ]
     },
     "execution_count": 4,
     "metadata": {},
     "output_type": "execute_result"
    }
   ],
   "source": [
    "H.node[0]"
   ]
  },
  {
   "cell_type": "code",
   "execution_count": 5,
   "metadata": {},
   "outputs": [
    {
     "data": {
      "text/html": [
       "<div>\n",
       "<style>\n",
       "    .dataframe thead tr:only-child th {\n",
       "        text-align: right;\n",
       "    }\n",
       "\n",
       "    .dataframe thead th {\n",
       "        text-align: left;\n",
       "    }\n",
       "\n",
       "    .dataframe tbody tr th {\n",
       "        vertical-align: top;\n",
       "    }\n",
       "</style>\n",
       "<table border=\"1\" class=\"dataframe\">\n",
       "  <thead>\n",
       "    <tr style=\"text-align: right;\">\n",
       "      <th></th>\n",
       "      <th>name</th>\n",
       "      <th>centroids</th>\n",
       "      <th>x</th>\n",
       "      <th>y</th>\n",
       "      <th>z</th>\n",
       "    </tr>\n",
       "  </thead>\n",
       "  <tbody>\n",
       "    <tr>\n",
       "      <th>0</th>\n",
       "      <td>lh_bankssts_part1</td>\n",
       "      <td>[-56.40355, -40.152663, 1.708876]</td>\n",
       "      <td>-56.4036</td>\n",
       "      <td>-40.1527</td>\n",
       "      <td>1.70888</td>\n",
       "    </tr>\n",
       "    <tr>\n",
       "      <th>1</th>\n",
       "      <td>lh_bankssts_part2</td>\n",
       "      <td>[-53.140506, -49.843038, 8.264557]</td>\n",
       "      <td>-53.1405</td>\n",
       "      <td>-49.843</td>\n",
       "      <td>8.26456</td>\n",
       "    </tr>\n",
       "    <tr>\n",
       "      <th>2</th>\n",
       "      <td>lh_caudalanteriorcingulate_part1</td>\n",
       "      <td>[-5.001684, 20.645903, 25.733446]</td>\n",
       "      <td>-5.00168</td>\n",
       "      <td>20.6459</td>\n",
       "      <td>25.7334</td>\n",
       "    </tr>\n",
       "    <tr>\n",
       "      <th>3</th>\n",
       "      <td>lh_caudalmiddlefrontal_part1</td>\n",
       "      <td>[-33.265925, 20.200202, 45.347826]</td>\n",
       "      <td>-33.2659</td>\n",
       "      <td>20.2002</td>\n",
       "      <td>45.3478</td>\n",
       "    </tr>\n",
       "    <tr>\n",
       "      <th>4</th>\n",
       "      <td>lh_caudalmiddlefrontal_part2</td>\n",
       "      <td>[-31.958115, 2.146597, 51.26911]</td>\n",
       "      <td>-31.9581</td>\n",
       "      <td>2.1466</td>\n",
       "      <td>51.2691</td>\n",
       "    </tr>\n",
       "  </tbody>\n",
       "</table>\n",
       "</div>"
      ],
      "text/plain": [
       "                               name                           centroids  \\\n",
       "0                 lh_bankssts_part1   [-56.40355, -40.152663, 1.708876]   \n",
       "1                 lh_bankssts_part2  [-53.140506, -49.843038, 8.264557]   \n",
       "2  lh_caudalanteriorcingulate_part1   [-5.001684, 20.645903, 25.733446]   \n",
       "3      lh_caudalmiddlefrontal_part1  [-33.265925, 20.200202, 45.347826]   \n",
       "4      lh_caudalmiddlefrontal_part2    [-31.958115, 2.146597, 51.26911]   \n",
       "\n",
       "         x        y        z  \n",
       "0 -56.4036 -40.1527  1.70888  \n",
       "1 -53.1405  -49.843  8.26456  \n",
       "2 -5.00168  20.6459  25.7334  \n",
       "3 -33.2659  20.2002  45.3478  \n",
       "4 -31.9581   2.1466  51.2691  "
      ]
     },
     "execution_count": 5,
     "metadata": {},
     "output_type": "execute_result"
    }
   ],
   "source": [
    "H.report_nodal_measures().head()"
   ]
  },
  {
   "cell_type": "code",
   "execution_count": 6,
   "metadata": {},
   "outputs": [],
   "source": [
    "bundleGraphs = scn.GraphBundle([H], [\"Real_Graph\"])"
   ]
  },
  {
   "cell_type": "code",
   "execution_count": 7,
   "metadata": {},
   "outputs": [
    {
     "name": "stdout",
     "output_type": "stream",
     "text": [
      "        Creating 5 random graphs - may take a little while\n"
     ]
    }
   ],
   "source": [
    "# Note that 10 is not usually a sufficient number of random graphs to do meaningful analysis,\n",
    "# it is used here for time considerations\n",
    "bundleGraphs.create_random_graphs(\"Real_Graph\", 5)"
   ]
  },
  {
   "cell_type": "code",
   "execution_count": 8,
   "metadata": {},
   "outputs": [
    {
     "data": {
      "text/plain": [
       "{'Real_Graph': <scona.classes.BrainNetwork at 0x7fcd043fa9e8>,\n",
       " 'Real_Graph_R0': <scona.classes.BrainNetwork at 0x7fccd4fc1240>,\n",
       " 'Real_Graph_R1': <scona.classes.BrainNetwork at 0x7fccd50b1b00>,\n",
       " 'Real_Graph_R2': <scona.classes.BrainNetwork at 0x7fccd4fcacc0>,\n",
       " 'Real_Graph_R3': <scona.classes.BrainNetwork at 0x7fccd4fca668>,\n",
       " 'Real_Graph_R4': <scona.classes.BrainNetwork at 0x7fccd4fcab70>}"
      ]
     },
     "execution_count": 8,
     "metadata": {},
     "output_type": "execute_result"
    }
   ],
   "source": [
    "bundleGraphs"
   ]
  },
  {
   "cell_type": "code",
   "execution_count": 12,
   "metadata": {},
   "outputs": [],
   "source": [
    "# calculate rich club coefficients for each graph\n",
    "\n",
    "rich_club_df = bundleGraphs.report_rich_club()"
   ]
  },
  {
   "cell_type": "code",
   "execution_count": 13,
   "metadata": {},
   "outputs": [
    {
     "data": {
      "text/html": [
       "<div>\n",
       "<style>\n",
       "    .dataframe thead tr:only-child th {\n",
       "        text-align: right;\n",
       "    }\n",
       "\n",
       "    .dataframe thead th {\n",
       "        text-align: left;\n",
       "    }\n",
       "\n",
       "    .dataframe tbody tr th {\n",
       "        vertical-align: top;\n",
       "    }\n",
       "</style>\n",
       "<table border=\"1\" class=\"dataframe\">\n",
       "  <thead>\n",
       "    <tr style=\"text-align: right;\">\n",
       "      <th></th>\n",
       "      <th>Real_Graph</th>\n",
       "      <th>Real_Graph_R0</th>\n",
       "      <th>Real_Graph_R1</th>\n",
       "      <th>Real_Graph_R2</th>\n",
       "      <th>Real_Graph_R3</th>\n",
       "      <th>Real_Graph_R4</th>\n",
       "    </tr>\n",
       "  </thead>\n",
       "  <tbody>\n",
       "    <tr>\n",
       "      <th>0</th>\n",
       "      <td>0.100004</td>\n",
       "      <td>0.100004</td>\n",
       "      <td>0.100004</td>\n",
       "      <td>0.100004</td>\n",
       "      <td>0.100004</td>\n",
       "      <td>0.100004</td>\n",
       "    </tr>\n",
       "    <tr>\n",
       "      <th>1</th>\n",
       "      <td>0.103228</td>\n",
       "      <td>0.103228</td>\n",
       "      <td>0.103228</td>\n",
       "      <td>0.103228</td>\n",
       "      <td>0.103228</td>\n",
       "      <td>0.103228</td>\n",
       "    </tr>\n",
       "    <tr>\n",
       "      <th>2</th>\n",
       "      <td>0.107244</td>\n",
       "      <td>0.107175</td>\n",
       "      <td>0.107175</td>\n",
       "      <td>0.107175</td>\n",
       "      <td>0.107175</td>\n",
       "      <td>0.107175</td>\n",
       "    </tr>\n",
       "    <tr>\n",
       "      <th>3</th>\n",
       "      <td>0.112039</td>\n",
       "      <td>0.111920</td>\n",
       "      <td>0.111944</td>\n",
       "      <td>0.111920</td>\n",
       "      <td>0.111920</td>\n",
       "      <td>0.111920</td>\n",
       "    </tr>\n",
       "    <tr>\n",
       "      <th>4</th>\n",
       "      <td>0.117842</td>\n",
       "      <td>0.117564</td>\n",
       "      <td>0.117589</td>\n",
       "      <td>0.117564</td>\n",
       "      <td>0.117564</td>\n",
       "      <td>0.117564</td>\n",
       "    </tr>\n",
       "    <tr>\n",
       "      <th>5</th>\n",
       "      <td>0.122398</td>\n",
       "      <td>0.121950</td>\n",
       "      <td>0.122003</td>\n",
       "      <td>0.121950</td>\n",
       "      <td>0.121950</td>\n",
       "      <td>0.121950</td>\n",
       "    </tr>\n",
       "    <tr>\n",
       "      <th>6</th>\n",
       "      <td>0.127975</td>\n",
       "      <td>0.127254</td>\n",
       "      <td>0.127282</td>\n",
       "      <td>0.127254</td>\n",
       "      <td>0.127282</td>\n",
       "      <td>0.127226</td>\n",
       "    </tr>\n",
       "    <tr>\n",
       "      <th>7</th>\n",
       "      <td>0.131899</td>\n",
       "      <td>0.131150</td>\n",
       "      <td>0.131150</td>\n",
       "      <td>0.131121</td>\n",
       "      <td>0.131150</td>\n",
       "      <td>0.131150</td>\n",
       "    </tr>\n",
       "    <tr>\n",
       "      <th>8</th>\n",
       "      <td>0.136820</td>\n",
       "      <td>0.135885</td>\n",
       "      <td>0.135915</td>\n",
       "      <td>0.135855</td>\n",
       "      <td>0.135915</td>\n",
       "      <td>0.135885</td>\n",
       "    </tr>\n",
       "    <tr>\n",
       "      <th>9</th>\n",
       "      <td>0.141069</td>\n",
       "      <td>0.139940</td>\n",
       "      <td>0.139971</td>\n",
       "      <td>0.139908</td>\n",
       "      <td>0.139940</td>\n",
       "      <td>0.139971</td>\n",
       "    </tr>\n",
       "    <tr>\n",
       "      <th>10</th>\n",
       "      <td>0.147370</td>\n",
       "      <td>0.145744</td>\n",
       "      <td>0.145811</td>\n",
       "      <td>0.145711</td>\n",
       "      <td>0.145777</td>\n",
       "      <td>0.145811</td>\n",
       "    </tr>\n",
       "    <tr>\n",
       "      <th>11</th>\n",
       "      <td>0.154948</td>\n",
       "      <td>0.152643</td>\n",
       "      <td>0.152750</td>\n",
       "      <td>0.152608</td>\n",
       "      <td>0.152856</td>\n",
       "      <td>0.152856</td>\n",
       "    </tr>\n",
       "    <tr>\n",
       "      <th>12</th>\n",
       "      <td>0.158835</td>\n",
       "      <td>0.156267</td>\n",
       "      <td>0.156304</td>\n",
       "      <td>0.156194</td>\n",
       "      <td>0.156524</td>\n",
       "      <td>0.156487</td>\n",
       "    </tr>\n",
       "    <tr>\n",
       "      <th>13</th>\n",
       "      <td>0.166883</td>\n",
       "      <td>0.163618</td>\n",
       "      <td>0.163736</td>\n",
       "      <td>0.163697</td>\n",
       "      <td>0.163854</td>\n",
       "      <td>0.163894</td>\n",
       "    </tr>\n",
       "    <tr>\n",
       "      <th>14</th>\n",
       "      <td>0.171946</td>\n",
       "      <td>0.168449</td>\n",
       "      <td>0.168367</td>\n",
       "      <td>0.168490</td>\n",
       "      <td>0.168778</td>\n",
       "      <td>0.168819</td>\n",
       "    </tr>\n",
       "    <tr>\n",
       "      <th>15</th>\n",
       "      <td>0.174019</td>\n",
       "      <td>0.170416</td>\n",
       "      <td>0.170248</td>\n",
       "      <td>0.170416</td>\n",
       "      <td>0.170709</td>\n",
       "      <td>0.170667</td>\n",
       "    </tr>\n",
       "    <tr>\n",
       "      <th>16</th>\n",
       "      <td>0.183595</td>\n",
       "      <td>0.179357</td>\n",
       "      <td>0.179130</td>\n",
       "      <td>0.179175</td>\n",
       "      <td>0.179540</td>\n",
       "      <td>0.179449</td>\n",
       "    </tr>\n",
       "    <tr>\n",
       "      <th>17</th>\n",
       "      <td>0.190283</td>\n",
       "      <td>0.185792</td>\n",
       "      <td>0.185115</td>\n",
       "      <td>0.185502</td>\n",
       "      <td>0.185598</td>\n",
       "      <td>0.185647</td>\n",
       "    </tr>\n",
       "    <tr>\n",
       "      <th>18</th>\n",
       "      <td>0.198747</td>\n",
       "      <td>0.193152</td>\n",
       "      <td>0.192583</td>\n",
       "      <td>0.193049</td>\n",
       "      <td>0.193152</td>\n",
       "      <td>0.193204</td>\n",
       "    </tr>\n",
       "    <tr>\n",
       "      <th>19</th>\n",
       "      <td>0.211604</td>\n",
       "      <td>0.204531</td>\n",
       "      <td>0.203899</td>\n",
       "      <td>0.204359</td>\n",
       "      <td>0.204761</td>\n",
       "      <td>0.204186</td>\n",
       "    </tr>\n",
       "    <tr>\n",
       "      <th>20</th>\n",
       "      <td>0.223213</td>\n",
       "      <td>0.214362</td>\n",
       "      <td>0.213609</td>\n",
       "      <td>0.214111</td>\n",
       "      <td>0.214801</td>\n",
       "      <td>0.213860</td>\n",
       "    </tr>\n",
       "    <tr>\n",
       "      <th>21</th>\n",
       "      <td>0.229031</td>\n",
       "      <td>0.219770</td>\n",
       "      <td>0.218785</td>\n",
       "      <td>0.218916</td>\n",
       "      <td>0.219967</td>\n",
       "      <td>0.218982</td>\n",
       "    </tr>\n",
       "    <tr>\n",
       "      <th>22</th>\n",
       "      <td>0.233578</td>\n",
       "      <td>0.223310</td>\n",
       "      <td>0.222426</td>\n",
       "      <td>0.222834</td>\n",
       "      <td>0.223922</td>\n",
       "      <td>0.223038</td>\n",
       "    </tr>\n",
       "    <tr>\n",
       "      <th>23</th>\n",
       "      <td>0.236199</td>\n",
       "      <td>0.225896</td>\n",
       "      <td>0.224922</td>\n",
       "      <td>0.225548</td>\n",
       "      <td>0.226314</td>\n",
       "      <td>0.225757</td>\n",
       "    </tr>\n",
       "    <tr>\n",
       "      <th>24</th>\n",
       "      <td>0.245623</td>\n",
       "      <td>0.233727</td>\n",
       "      <td>0.232979</td>\n",
       "      <td>0.232979</td>\n",
       "      <td>0.235149</td>\n",
       "      <td>0.233278</td>\n",
       "    </tr>\n",
       "    <tr>\n",
       "      <th>25</th>\n",
       "      <td>0.250543</td>\n",
       "      <td>0.237733</td>\n",
       "      <td>0.236957</td>\n",
       "      <td>0.236801</td>\n",
       "      <td>0.239674</td>\n",
       "      <td>0.237034</td>\n",
       "    </tr>\n",
       "    <tr>\n",
       "      <th>26</th>\n",
       "      <td>0.259573</td>\n",
       "      <td>0.247088</td>\n",
       "      <td>0.244407</td>\n",
       "      <td>0.244575</td>\n",
       "      <td>0.248261</td>\n",
       "      <td>0.245496</td>\n",
       "    </tr>\n",
       "    <tr>\n",
       "      <th>27</th>\n",
       "      <td>0.265075</td>\n",
       "      <td>0.251133</td>\n",
       "      <td>0.248780</td>\n",
       "      <td>0.247996</td>\n",
       "      <td>0.252963</td>\n",
       "      <td>0.249303</td>\n",
       "    </tr>\n",
       "    <tr>\n",
       "      <th>28</th>\n",
       "      <td>0.273320</td>\n",
       "      <td>0.258597</td>\n",
       "      <td>0.255242</td>\n",
       "      <td>0.254403</td>\n",
       "      <td>0.259342</td>\n",
       "      <td>0.256267</td>\n",
       "    </tr>\n",
       "    <tr>\n",
       "      <th>29</th>\n",
       "      <td>0.285208</td>\n",
       "      <td>0.266667</td>\n",
       "      <td>0.264336</td>\n",
       "      <td>0.263425</td>\n",
       "      <td>0.267173</td>\n",
       "      <td>0.265653</td>\n",
       "    </tr>\n",
       "    <tr>\n",
       "      <th>...</th>\n",
       "      <td>...</td>\n",
       "      <td>...</td>\n",
       "      <td>...</td>\n",
       "      <td>...</td>\n",
       "      <td>...</td>\n",
       "      <td>...</td>\n",
       "    </tr>\n",
       "    <tr>\n",
       "      <th>76</th>\n",
       "      <td>0.820513</td>\n",
       "      <td>0.641026</td>\n",
       "      <td>0.653846</td>\n",
       "      <td>0.666667</td>\n",
       "      <td>0.730769</td>\n",
       "      <td>0.641026</td>\n",
       "    </tr>\n",
       "    <tr>\n",
       "      <th>77</th>\n",
       "      <td>0.848485</td>\n",
       "      <td>0.666667</td>\n",
       "      <td>0.666667</td>\n",
       "      <td>0.666667</td>\n",
       "      <td>0.712121</td>\n",
       "      <td>0.621212</td>\n",
       "    </tr>\n",
       "    <tr>\n",
       "      <th>78</th>\n",
       "      <td>0.836364</td>\n",
       "      <td>0.654545</td>\n",
       "      <td>0.727273</td>\n",
       "      <td>0.672727</td>\n",
       "      <td>0.709091</td>\n",
       "      <td>0.654545</td>\n",
       "    </tr>\n",
       "    <tr>\n",
       "      <th>79</th>\n",
       "      <td>0.836364</td>\n",
       "      <td>0.654545</td>\n",
       "      <td>0.727273</td>\n",
       "      <td>0.672727</td>\n",
       "      <td>0.709091</td>\n",
       "      <td>0.654545</td>\n",
       "    </tr>\n",
       "    <tr>\n",
       "      <th>80</th>\n",
       "      <td>0.892857</td>\n",
       "      <td>0.714286</td>\n",
       "      <td>0.857143</td>\n",
       "      <td>0.750000</td>\n",
       "      <td>0.714286</td>\n",
       "      <td>0.642857</td>\n",
       "    </tr>\n",
       "    <tr>\n",
       "      <th>81</th>\n",
       "      <td>0.857143</td>\n",
       "      <td>0.666667</td>\n",
       "      <td>0.809524</td>\n",
       "      <td>0.857143</td>\n",
       "      <td>0.714286</td>\n",
       "      <td>0.619048</td>\n",
       "    </tr>\n",
       "    <tr>\n",
       "      <th>82</th>\n",
       "      <td>0.857143</td>\n",
       "      <td>0.666667</td>\n",
       "      <td>0.809524</td>\n",
       "      <td>0.857143</td>\n",
       "      <td>0.714286</td>\n",
       "      <td>0.619048</td>\n",
       "    </tr>\n",
       "    <tr>\n",
       "      <th>83</th>\n",
       "      <td>0.933333</td>\n",
       "      <td>0.666667</td>\n",
       "      <td>0.733333</td>\n",
       "      <td>0.866667</td>\n",
       "      <td>0.666667</td>\n",
       "      <td>0.600000</td>\n",
       "    </tr>\n",
       "    <tr>\n",
       "      <th>84</th>\n",
       "      <td>1.000000</td>\n",
       "      <td>1.000000</td>\n",
       "      <td>0.833333</td>\n",
       "      <td>0.833333</td>\n",
       "      <td>1.000000</td>\n",
       "      <td>0.500000</td>\n",
       "    </tr>\n",
       "    <tr>\n",
       "      <th>85</th>\n",
       "      <td>1.000000</td>\n",
       "      <td>1.000000</td>\n",
       "      <td>0.833333</td>\n",
       "      <td>0.833333</td>\n",
       "      <td>1.000000</td>\n",
       "      <td>0.500000</td>\n",
       "    </tr>\n",
       "    <tr>\n",
       "      <th>86</th>\n",
       "      <td>1.000000</td>\n",
       "      <td>1.000000</td>\n",
       "      <td>0.833333</td>\n",
       "      <td>0.833333</td>\n",
       "      <td>1.000000</td>\n",
       "      <td>0.500000</td>\n",
       "    </tr>\n",
       "    <tr>\n",
       "      <th>87</th>\n",
       "      <td>1.000000</td>\n",
       "      <td>1.000000</td>\n",
       "      <td>0.833333</td>\n",
       "      <td>0.833333</td>\n",
       "      <td>1.000000</td>\n",
       "      <td>0.500000</td>\n",
       "    </tr>\n",
       "    <tr>\n",
       "      <th>88</th>\n",
       "      <td>1.000000</td>\n",
       "      <td>1.000000</td>\n",
       "      <td>0.833333</td>\n",
       "      <td>0.833333</td>\n",
       "      <td>1.000000</td>\n",
       "      <td>0.500000</td>\n",
       "    </tr>\n",
       "    <tr>\n",
       "      <th>89</th>\n",
       "      <td>1.000000</td>\n",
       "      <td>1.000000</td>\n",
       "      <td>0.833333</td>\n",
       "      <td>0.833333</td>\n",
       "      <td>1.000000</td>\n",
       "      <td>0.500000</td>\n",
       "    </tr>\n",
       "    <tr>\n",
       "      <th>90</th>\n",
       "      <td>1.000000</td>\n",
       "      <td>1.000000</td>\n",
       "      <td>0.833333</td>\n",
       "      <td>0.833333</td>\n",
       "      <td>1.000000</td>\n",
       "      <td>0.500000</td>\n",
       "    </tr>\n",
       "    <tr>\n",
       "      <th>91</th>\n",
       "      <td>1.000000</td>\n",
       "      <td>1.000000</td>\n",
       "      <td>1.000000</td>\n",
       "      <td>1.000000</td>\n",
       "      <td>1.000000</td>\n",
       "      <td>0.666667</td>\n",
       "    </tr>\n",
       "    <tr>\n",
       "      <th>92</th>\n",
       "      <td>1.000000</td>\n",
       "      <td>1.000000</td>\n",
       "      <td>1.000000</td>\n",
       "      <td>1.000000</td>\n",
       "      <td>1.000000</td>\n",
       "      <td>0.666667</td>\n",
       "    </tr>\n",
       "    <tr>\n",
       "      <th>93</th>\n",
       "      <td>1.000000</td>\n",
       "      <td>1.000000</td>\n",
       "      <td>1.000000</td>\n",
       "      <td>1.000000</td>\n",
       "      <td>1.000000</td>\n",
       "      <td>0.666667</td>\n",
       "    </tr>\n",
       "    <tr>\n",
       "      <th>94</th>\n",
       "      <td>1.000000</td>\n",
       "      <td>1.000000</td>\n",
       "      <td>1.000000</td>\n",
       "      <td>1.000000</td>\n",
       "      <td>1.000000</td>\n",
       "      <td>0.666667</td>\n",
       "    </tr>\n",
       "    <tr>\n",
       "      <th>95</th>\n",
       "      <td>1.000000</td>\n",
       "      <td>1.000000</td>\n",
       "      <td>1.000000</td>\n",
       "      <td>1.000000</td>\n",
       "      <td>1.000000</td>\n",
       "      <td>1.000000</td>\n",
       "    </tr>\n",
       "    <tr>\n",
       "      <th>96</th>\n",
       "      <td>1.000000</td>\n",
       "      <td>1.000000</td>\n",
       "      <td>1.000000</td>\n",
       "      <td>1.000000</td>\n",
       "      <td>1.000000</td>\n",
       "      <td>1.000000</td>\n",
       "    </tr>\n",
       "    <tr>\n",
       "      <th>97</th>\n",
       "      <td>1.000000</td>\n",
       "      <td>1.000000</td>\n",
       "      <td>1.000000</td>\n",
       "      <td>1.000000</td>\n",
       "      <td>1.000000</td>\n",
       "      <td>1.000000</td>\n",
       "    </tr>\n",
       "    <tr>\n",
       "      <th>98</th>\n",
       "      <td>1.000000</td>\n",
       "      <td>1.000000</td>\n",
       "      <td>1.000000</td>\n",
       "      <td>1.000000</td>\n",
       "      <td>1.000000</td>\n",
       "      <td>1.000000</td>\n",
       "    </tr>\n",
       "    <tr>\n",
       "      <th>99</th>\n",
       "      <td>1.000000</td>\n",
       "      <td>1.000000</td>\n",
       "      <td>1.000000</td>\n",
       "      <td>1.000000</td>\n",
       "      <td>1.000000</td>\n",
       "      <td>1.000000</td>\n",
       "    </tr>\n",
       "    <tr>\n",
       "      <th>100</th>\n",
       "      <td>1.000000</td>\n",
       "      <td>1.000000</td>\n",
       "      <td>1.000000</td>\n",
       "      <td>1.000000</td>\n",
       "      <td>1.000000</td>\n",
       "      <td>1.000000</td>\n",
       "    </tr>\n",
       "    <tr>\n",
       "      <th>101</th>\n",
       "      <td>1.000000</td>\n",
       "      <td>1.000000</td>\n",
       "      <td>1.000000</td>\n",
       "      <td>1.000000</td>\n",
       "      <td>1.000000</td>\n",
       "      <td>1.000000</td>\n",
       "    </tr>\n",
       "    <tr>\n",
       "      <th>102</th>\n",
       "      <td>1.000000</td>\n",
       "      <td>1.000000</td>\n",
       "      <td>1.000000</td>\n",
       "      <td>1.000000</td>\n",
       "      <td>1.000000</td>\n",
       "      <td>1.000000</td>\n",
       "    </tr>\n",
       "    <tr>\n",
       "      <th>103</th>\n",
       "      <td>1.000000</td>\n",
       "      <td>1.000000</td>\n",
       "      <td>1.000000</td>\n",
       "      <td>1.000000</td>\n",
       "      <td>1.000000</td>\n",
       "      <td>1.000000</td>\n",
       "    </tr>\n",
       "    <tr>\n",
       "      <th>104</th>\n",
       "      <td>1.000000</td>\n",
       "      <td>1.000000</td>\n",
       "      <td>1.000000</td>\n",
       "      <td>1.000000</td>\n",
       "      <td>1.000000</td>\n",
       "      <td>1.000000</td>\n",
       "    </tr>\n",
       "    <tr>\n",
       "      <th>105</th>\n",
       "      <td>1.000000</td>\n",
       "      <td>1.000000</td>\n",
       "      <td>1.000000</td>\n",
       "      <td>1.000000</td>\n",
       "      <td>1.000000</td>\n",
       "      <td>1.000000</td>\n",
       "    </tr>\n",
       "  </tbody>\n",
       "</table>\n",
       "<p>106 rows × 6 columns</p>\n",
       "</div>"
      ],
      "text/plain": [
       "     Real_Graph  Real_Graph_R0  Real_Graph_R1  Real_Graph_R2  Real_Graph_R3  \\\n",
       "0      0.100004       0.100004       0.100004       0.100004       0.100004   \n",
       "1      0.103228       0.103228       0.103228       0.103228       0.103228   \n",
       "2      0.107244       0.107175       0.107175       0.107175       0.107175   \n",
       "3      0.112039       0.111920       0.111944       0.111920       0.111920   \n",
       "4      0.117842       0.117564       0.117589       0.117564       0.117564   \n",
       "5      0.122398       0.121950       0.122003       0.121950       0.121950   \n",
       "6      0.127975       0.127254       0.127282       0.127254       0.127282   \n",
       "7      0.131899       0.131150       0.131150       0.131121       0.131150   \n",
       "8      0.136820       0.135885       0.135915       0.135855       0.135915   \n",
       "9      0.141069       0.139940       0.139971       0.139908       0.139940   \n",
       "10     0.147370       0.145744       0.145811       0.145711       0.145777   \n",
       "11     0.154948       0.152643       0.152750       0.152608       0.152856   \n",
       "12     0.158835       0.156267       0.156304       0.156194       0.156524   \n",
       "13     0.166883       0.163618       0.163736       0.163697       0.163854   \n",
       "14     0.171946       0.168449       0.168367       0.168490       0.168778   \n",
       "15     0.174019       0.170416       0.170248       0.170416       0.170709   \n",
       "16     0.183595       0.179357       0.179130       0.179175       0.179540   \n",
       "17     0.190283       0.185792       0.185115       0.185502       0.185598   \n",
       "18     0.198747       0.193152       0.192583       0.193049       0.193152   \n",
       "19     0.211604       0.204531       0.203899       0.204359       0.204761   \n",
       "20     0.223213       0.214362       0.213609       0.214111       0.214801   \n",
       "21     0.229031       0.219770       0.218785       0.218916       0.219967   \n",
       "22     0.233578       0.223310       0.222426       0.222834       0.223922   \n",
       "23     0.236199       0.225896       0.224922       0.225548       0.226314   \n",
       "24     0.245623       0.233727       0.232979       0.232979       0.235149   \n",
       "25     0.250543       0.237733       0.236957       0.236801       0.239674   \n",
       "26     0.259573       0.247088       0.244407       0.244575       0.248261   \n",
       "27     0.265075       0.251133       0.248780       0.247996       0.252963   \n",
       "28     0.273320       0.258597       0.255242       0.254403       0.259342   \n",
       "29     0.285208       0.266667       0.264336       0.263425       0.267173   \n",
       "..          ...            ...            ...            ...            ...   \n",
       "76     0.820513       0.641026       0.653846       0.666667       0.730769   \n",
       "77     0.848485       0.666667       0.666667       0.666667       0.712121   \n",
       "78     0.836364       0.654545       0.727273       0.672727       0.709091   \n",
       "79     0.836364       0.654545       0.727273       0.672727       0.709091   \n",
       "80     0.892857       0.714286       0.857143       0.750000       0.714286   \n",
       "81     0.857143       0.666667       0.809524       0.857143       0.714286   \n",
       "82     0.857143       0.666667       0.809524       0.857143       0.714286   \n",
       "83     0.933333       0.666667       0.733333       0.866667       0.666667   \n",
       "84     1.000000       1.000000       0.833333       0.833333       1.000000   \n",
       "85     1.000000       1.000000       0.833333       0.833333       1.000000   \n",
       "86     1.000000       1.000000       0.833333       0.833333       1.000000   \n",
       "87     1.000000       1.000000       0.833333       0.833333       1.000000   \n",
       "88     1.000000       1.000000       0.833333       0.833333       1.000000   \n",
       "89     1.000000       1.000000       0.833333       0.833333       1.000000   \n",
       "90     1.000000       1.000000       0.833333       0.833333       1.000000   \n",
       "91     1.000000       1.000000       1.000000       1.000000       1.000000   \n",
       "92     1.000000       1.000000       1.000000       1.000000       1.000000   \n",
       "93     1.000000       1.000000       1.000000       1.000000       1.000000   \n",
       "94     1.000000       1.000000       1.000000       1.000000       1.000000   \n",
       "95     1.000000       1.000000       1.000000       1.000000       1.000000   \n",
       "96     1.000000       1.000000       1.000000       1.000000       1.000000   \n",
       "97     1.000000       1.000000       1.000000       1.000000       1.000000   \n",
       "98     1.000000       1.000000       1.000000       1.000000       1.000000   \n",
       "99     1.000000       1.000000       1.000000       1.000000       1.000000   \n",
       "100    1.000000       1.000000       1.000000       1.000000       1.000000   \n",
       "101    1.000000       1.000000       1.000000       1.000000       1.000000   \n",
       "102    1.000000       1.000000       1.000000       1.000000       1.000000   \n",
       "103    1.000000       1.000000       1.000000       1.000000       1.000000   \n",
       "104    1.000000       1.000000       1.000000       1.000000       1.000000   \n",
       "105    1.000000       1.000000       1.000000       1.000000       1.000000   \n",
       "\n",
       "     Real_Graph_R4  \n",
       "0         0.100004  \n",
       "1         0.103228  \n",
       "2         0.107175  \n",
       "3         0.111920  \n",
       "4         0.117564  \n",
       "5         0.121950  \n",
       "6         0.127226  \n",
       "7         0.131150  \n",
       "8         0.135885  \n",
       "9         0.139971  \n",
       "10        0.145811  \n",
       "11        0.152856  \n",
       "12        0.156487  \n",
       "13        0.163894  \n",
       "14        0.168819  \n",
       "15        0.170667  \n",
       "16        0.179449  \n",
       "17        0.185647  \n",
       "18        0.193204  \n",
       "19        0.204186  \n",
       "20        0.213860  \n",
       "21        0.218982  \n",
       "22        0.223038  \n",
       "23        0.225757  \n",
       "24        0.233278  \n",
       "25        0.237034  \n",
       "26        0.245496  \n",
       "27        0.249303  \n",
       "28        0.256267  \n",
       "29        0.265653  \n",
       "..             ...  \n",
       "76        0.641026  \n",
       "77        0.621212  \n",
       "78        0.654545  \n",
       "79        0.654545  \n",
       "80        0.642857  \n",
       "81        0.619048  \n",
       "82        0.619048  \n",
       "83        0.600000  \n",
       "84        0.500000  \n",
       "85        0.500000  \n",
       "86        0.500000  \n",
       "87        0.500000  \n",
       "88        0.500000  \n",
       "89        0.500000  \n",
       "90        0.500000  \n",
       "91        0.666667  \n",
       "92        0.666667  \n",
       "93        0.666667  \n",
       "94        0.666667  \n",
       "95        1.000000  \n",
       "96        1.000000  \n",
       "97        1.000000  \n",
       "98        1.000000  \n",
       "99        1.000000  \n",
       "100       1.000000  \n",
       "101       1.000000  \n",
       "102       1.000000  \n",
       "103       1.000000  \n",
       "104       1.000000  \n",
       "105       1.000000  \n",
       "\n",
       "[106 rows x 6 columns]"
      ]
     },
     "execution_count": 13,
     "metadata": {},
     "output_type": "execute_result"
    }
   ],
   "source": [
    "rich_club_df"
   ]
  },
  {
   "cell_type": "code",
   "execution_count": 11,
   "metadata": {},
   "outputs": [
    {
     "data": {
      "text/plain": [
       "106"
      ]
     },
     "execution_count": 11,
     "metadata": {},
     "output_type": "execute_result"
    }
   ],
   "source": [
    "# number of degrees\n",
    "len(rich_club_df.index)"
   ]
  },
  {
   "cell_type": "code",
   "execution_count": 14,
   "metadata": {},
   "outputs": [],
   "source": [
    "# number of degrees\n",
    "degree = rich_club_df.index.values"
   ]
  },
  {
   "cell_type": "code",
   "execution_count": 17,
   "metadata": {},
   "outputs": [
    {
     "data": {
      "text/plain": [
       "array([  0,   1,   2,   3,   4,   5,   6,   7,   8,   9,  10,  11,  12,\n",
       "        13,  14,  15,  16,  17,  18,  19,  20,  21,  22,  23,  24,  25,\n",
       "        26,  27,  28,  29,  30,  31,  32,  33,  34,  35,  36,  37,  38,\n",
       "        39,  40,  41,  42,  43,  44,  45,  46,  47,  48,  49,  50,  51,\n",
       "        52,  53,  54,  55,  56,  57,  58,  59,  60,  61,  62,  63,  64,\n",
       "        65,  66,  67,  68,  69,  70,  71,  72,  73,  74,  75,  76,  77,\n",
       "        78,  79,  80,  81,  82,  83,  84,  85,  86,  87,  88,  89,  90,\n",
       "        91,  92,  93,  94,  95,  96,  97,  98,  99, 100, 101, 102, 103,\n",
       "       104, 105])"
      ]
     },
     "execution_count": 17,
     "metadata": {},
     "output_type": "execute_result"
    }
   ],
   "source": [
    "degree"
   ]
  },
  {
   "cell_type": "code",
   "execution_count": 15,
   "metadata": {},
   "outputs": [
    {
     "data": {
      "text/plain": [
       "numpy.ndarray"
      ]
     },
     "execution_count": 15,
     "metadata": {},
     "output_type": "execute_result"
    }
   ],
   "source": [
    "type(degree)"
   ]
  },
  {
   "cell_type": "code",
   "execution_count": 16,
   "metadata": {},
   "outputs": [
    {
     "data": {
      "text/plain": [
       "106"
      ]
     },
     "execution_count": 16,
     "metadata": {},
     "output_type": "execute_result"
    }
   ],
   "source": [
    "len(degree)"
   ]
  },
  {
   "cell_type": "code",
   "execution_count": 19,
   "metadata": {},
   "outputs": [],
   "source": [
    "# select the values of the 1st real Graph rich club values\n",
    "rc_real = np.array(rich_club_df.iloc[:,0])"
   ]
  },
  {
   "cell_type": "code",
   "execution_count": 42,
   "metadata": {},
   "outputs": [
    {
     "data": {
      "image/png": "[encoded data removed]",
      "text/plain": [
       "<matplotlib.figure.Figure at 0x7fccd2ad4518>"
      ]
     },
     "metadata": {},
     "output_type": "display_data"
    }
   ],
   "source": [
    "ax = sns.lineplot(x=degree, y=rc_real, label=\"rich-club coefficient\", color=\"green\")"
   ]
  },
  {
   "cell_type": "code",
   "execution_count": null,
   "metadata": {
    "collapsed": true
   },
   "outputs": [],
   "source": []
  },
  {
   "cell_type": "code",
   "execution_count": null,
   "metadata": {
    "collapsed": true
   },
   "outputs": [],
   "source": []
  },
  {
   "cell_type": "code",
   "execution_count": 25,
   "metadata": {},
   "outputs": [
    {
     "data": {
      "text/plain": [
       "array(['Real_Graph', 'Real_Graph_R0', 'Real_Graph_R1', 'Real_Graph_R2',\n",
       "       'Real_Graph_R3', 'Real_Graph_R4'], dtype=object)"
      ]
     },
     "execution_count": 25,
     "metadata": {},
     "output_type": "execute_result"
    }
   ],
   "source": [
    "rich_club_df.columns.values"
   ]
  },
  {
   "cell_type": "code",
   "execution_count": 26,
   "metadata": {},
   "outputs": [
    {
     "data": {
      "text/plain": [
       "'Real_Graph'"
      ]
     },
     "execution_count": 26,
     "metadata": {},
     "output_type": "execute_result"
    }
   ],
   "source": [
    "rich_club_df.columns.tolist()[0]"
   ]
  },
  {
   "cell_type": "code",
   "execution_count": 32,
   "metadata": {
    "collapsed": true
   },
   "outputs": [],
   "source": [
    "rand_df = rich_club_df.drop(rich_club_df.columns.tolist()[0], axis=1)"
   ]
  },
  {
   "cell_type": "code",
   "execution_count": 34,
   "metadata": {},
   "outputs": [
    {
     "data": {
      "text/html": [
       "<div>\n",
       "<style>\n",
       "    .dataframe thead tr:only-child th {\n",
       "        text-align: right;\n",
       "    }\n",
       "\n",
       "    .dataframe thead th {\n",
       "        text-align: left;\n",
       "    }\n",
       "\n",
       "    .dataframe tbody tr th {\n",
       "        vertical-align: top;\n",
       "    }\n",
       "</style>\n",
       "<table border=\"1\" class=\"dataframe\">\n",
       "  <thead>\n",
       "    <tr style=\"text-align: right;\">\n",
       "      <th></th>\n",
       "      <th>Real_Graph_R0</th>\n",
       "      <th>Real_Graph_R1</th>\n",
       "      <th>Real_Graph_R2</th>\n",
       "      <th>Real_Graph_R3</th>\n",
       "      <th>Real_Graph_R4</th>\n",
       "    </tr>\n",
       "  </thead>\n",
       "  <tbody>\n",
       "    <tr>\n",
       "      <th>0</th>\n",
       "      <td>0.100004</td>\n",
       "      <td>0.100004</td>\n",
       "      <td>0.100004</td>\n",
       "      <td>0.100004</td>\n",
       "      <td>0.100004</td>\n",
       "    </tr>\n",
       "    <tr>\n",
       "      <th>1</th>\n",
       "      <td>0.103228</td>\n",
       "      <td>0.103228</td>\n",
       "      <td>0.103228</td>\n",
       "      <td>0.103228</td>\n",
       "      <td>0.103228</td>\n",
       "    </tr>\n",
       "    <tr>\n",
       "      <th>2</th>\n",
       "      <td>0.107175</td>\n",
       "      <td>0.107175</td>\n",
       "      <td>0.107175</td>\n",
       "      <td>0.107175</td>\n",
       "      <td>0.107175</td>\n",
       "    </tr>\n",
       "    <tr>\n",
       "      <th>3</th>\n",
       "      <td>0.111920</td>\n",
       "      <td>0.111944</td>\n",
       "      <td>0.111920</td>\n",
       "      <td>0.111920</td>\n",
       "      <td>0.111920</td>\n",
       "    </tr>\n",
       "    <tr>\n",
       "      <th>4</th>\n",
       "      <td>0.117564</td>\n",
       "      <td>0.117589</td>\n",
       "      <td>0.117564</td>\n",
       "      <td>0.117564</td>\n",
       "      <td>0.117564</td>\n",
       "    </tr>\n",
       "    <tr>\n",
       "      <th>5</th>\n",
       "      <td>0.121950</td>\n",
       "      <td>0.122003</td>\n",
       "      <td>0.121950</td>\n",
       "      <td>0.121950</td>\n",
       "      <td>0.121950</td>\n",
       "    </tr>\n",
       "    <tr>\n",
       "      <th>6</th>\n",
       "      <td>0.127254</td>\n",
       "      <td>0.127282</td>\n",
       "      <td>0.127254</td>\n",
       "      <td>0.127282</td>\n",
       "      <td>0.127226</td>\n",
       "    </tr>\n",
       "    <tr>\n",
       "      <th>7</th>\n",
       "      <td>0.131150</td>\n",
       "      <td>0.131150</td>\n",
       "      <td>0.131121</td>\n",
       "      <td>0.131150</td>\n",
       "      <td>0.131150</td>\n",
       "    </tr>\n",
       "    <tr>\n",
       "      <th>8</th>\n",
       "      <td>0.135885</td>\n",
       "      <td>0.135915</td>\n",
       "      <td>0.135855</td>\n",
       "      <td>0.135915</td>\n",
       "      <td>0.135885</td>\n",
       "    </tr>\n",
       "    <tr>\n",
       "      <th>9</th>\n",
       "      <td>0.139940</td>\n",
       "      <td>0.139971</td>\n",
       "      <td>0.139908</td>\n",
       "      <td>0.139940</td>\n",
       "      <td>0.139971</td>\n",
       "    </tr>\n",
       "    <tr>\n",
       "      <th>10</th>\n",
       "      <td>0.145744</td>\n",
       "      <td>0.145811</td>\n",
       "      <td>0.145711</td>\n",
       "      <td>0.145777</td>\n",
       "      <td>0.145811</td>\n",
       "    </tr>\n",
       "    <tr>\n",
       "      <th>11</th>\n",
       "      <td>0.152643</td>\n",
       "      <td>0.152750</td>\n",
       "      <td>0.152608</td>\n",
       "      <td>0.152856</td>\n",
       "      <td>0.152856</td>\n",
       "    </tr>\n",
       "    <tr>\n",
       "      <th>12</th>\n",
       "      <td>0.156267</td>\n",
       "      <td>0.156304</td>\n",
       "      <td>0.156194</td>\n",
       "      <td>0.156524</td>\n",
       "      <td>0.156487</td>\n",
       "    </tr>\n",
       "    <tr>\n",
       "      <th>13</th>\n",
       "      <td>0.163618</td>\n",
       "      <td>0.163736</td>\n",
       "      <td>0.163697</td>\n",
       "      <td>0.163854</td>\n",
       "      <td>0.163894</td>\n",
       "    </tr>\n",
       "    <tr>\n",
       "      <th>14</th>\n",
       "      <td>0.168449</td>\n",
       "      <td>0.168367</td>\n",
       "      <td>0.168490</td>\n",
       "      <td>0.168778</td>\n",
       "      <td>0.168819</td>\n",
       "    </tr>\n",
       "    <tr>\n",
       "      <th>15</th>\n",
       "      <td>0.170416</td>\n",
       "      <td>0.170248</td>\n",
       "      <td>0.170416</td>\n",
       "      <td>0.170709</td>\n",
       "      <td>0.170667</td>\n",
       "    </tr>\n",
       "    <tr>\n",
       "      <th>16</th>\n",
       "      <td>0.179357</td>\n",
       "      <td>0.179130</td>\n",
       "      <td>0.179175</td>\n",
       "      <td>0.179540</td>\n",
       "      <td>0.179449</td>\n",
       "    </tr>\n",
       "    <tr>\n",
       "      <th>17</th>\n",
       "      <td>0.185792</td>\n",
       "      <td>0.185115</td>\n",
       "      <td>0.185502</td>\n",
       "      <td>0.185598</td>\n",
       "      <td>0.185647</td>\n",
       "    </tr>\n",
       "    <tr>\n",
       "      <th>18</th>\n",
       "      <td>0.193152</td>\n",
       "      <td>0.192583</td>\n",
       "      <td>0.193049</td>\n",
       "      <td>0.193152</td>\n",
       "      <td>0.193204</td>\n",
       "    </tr>\n",
       "    <tr>\n",
       "      <th>19</th>\n",
       "      <td>0.204531</td>\n",
       "      <td>0.203899</td>\n",
       "      <td>0.204359</td>\n",
       "      <td>0.204761</td>\n",
       "      <td>0.204186</td>\n",
       "    </tr>\n",
       "    <tr>\n",
       "      <th>20</th>\n",
       "      <td>0.214362</td>\n",
       "      <td>0.213609</td>\n",
       "      <td>0.214111</td>\n",
       "      <td>0.214801</td>\n",
       "      <td>0.213860</td>\n",
       "    </tr>\n",
       "    <tr>\n",
       "      <th>21</th>\n",
       "      <td>0.219770</td>\n",
       "      <td>0.218785</td>\n",
       "      <td>0.218916</td>\n",
       "      <td>0.219967</td>\n",
       "      <td>0.218982</td>\n",
       "    </tr>\n",
       "    <tr>\n",
       "      <th>22</th>\n",
       "      <td>0.223310</td>\n",
       "      <td>0.222426</td>\n",
       "      <td>0.222834</td>\n",
       "      <td>0.223922</td>\n",
       "      <td>0.223038</td>\n",
       "    </tr>\n",
       "    <tr>\n",
       "      <th>23</th>\n",
       "      <td>0.225896</td>\n",
       "      <td>0.224922</td>\n",
       "      <td>0.225548</td>\n",
       "      <td>0.226314</td>\n",
       "      <td>0.225757</td>\n",
       "    </tr>\n",
       "    <tr>\n",
       "      <th>24</th>\n",
       "      <td>0.233727</td>\n",
       "      <td>0.232979</td>\n",
       "      <td>0.232979</td>\n",
       "      <td>0.235149</td>\n",
       "      <td>0.233278</td>\n",
       "    </tr>\n",
       "    <tr>\n",
       "      <th>25</th>\n",
       "      <td>0.237733</td>\n",
       "      <td>0.236957</td>\n",
       "      <td>0.236801</td>\n",
       "      <td>0.239674</td>\n",
       "      <td>0.237034</td>\n",
       "    </tr>\n",
       "    <tr>\n",
       "      <th>26</th>\n",
       "      <td>0.247088</td>\n",
       "      <td>0.244407</td>\n",
       "      <td>0.244575</td>\n",
       "      <td>0.248261</td>\n",
       "      <td>0.245496</td>\n",
       "    </tr>\n",
       "    <tr>\n",
       "      <th>27</th>\n",
       "      <td>0.251133</td>\n",
       "      <td>0.248780</td>\n",
       "      <td>0.247996</td>\n",
       "      <td>0.252963</td>\n",
       "      <td>0.249303</td>\n",
       "    </tr>\n",
       "    <tr>\n",
       "      <th>28</th>\n",
       "      <td>0.258597</td>\n",
       "      <td>0.255242</td>\n",
       "      <td>0.254403</td>\n",
       "      <td>0.259342</td>\n",
       "      <td>0.256267</td>\n",
       "    </tr>\n",
       "    <tr>\n",
       "      <th>29</th>\n",
       "      <td>0.266667</td>\n",
       "      <td>0.264336</td>\n",
       "      <td>0.263425</td>\n",
       "      <td>0.267173</td>\n",
       "      <td>0.265653</td>\n",
       "    </tr>\n",
       "    <tr>\n",
       "      <th>...</th>\n",
       "      <td>...</td>\n",
       "      <td>...</td>\n",
       "      <td>...</td>\n",
       "      <td>...</td>\n",
       "      <td>...</td>\n",
       "    </tr>\n",
       "    <tr>\n",
       "      <th>76</th>\n",
       "      <td>0.641026</td>\n",
       "      <td>0.653846</td>\n",
       "      <td>0.666667</td>\n",
       "      <td>0.730769</td>\n",
       "      <td>0.641026</td>\n",
       "    </tr>\n",
       "    <tr>\n",
       "      <th>77</th>\n",
       "      <td>0.666667</td>\n",
       "      <td>0.666667</td>\n",
       "      <td>0.666667</td>\n",
       "      <td>0.712121</td>\n",
       "      <td>0.621212</td>\n",
       "    </tr>\n",
       "    <tr>\n",
       "      <th>78</th>\n",
       "      <td>0.654545</td>\n",
       "      <td>0.727273</td>\n",
       "      <td>0.672727</td>\n",
       "      <td>0.709091</td>\n",
       "      <td>0.654545</td>\n",
       "    </tr>\n",
       "    <tr>\n",
       "      <th>79</th>\n",
       "      <td>0.654545</td>\n",
       "      <td>0.727273</td>\n",
       "      <td>0.672727</td>\n",
       "      <td>0.709091</td>\n",
       "      <td>0.654545</td>\n",
       "    </tr>\n",
       "    <tr>\n",
       "      <th>80</th>\n",
       "      <td>0.714286</td>\n",
       "      <td>0.857143</td>\n",
       "      <td>0.750000</td>\n",
       "      <td>0.714286</td>\n",
       "      <td>0.642857</td>\n",
       "    </tr>\n",
       "    <tr>\n",
       "      <th>81</th>\n",
       "      <td>0.666667</td>\n",
       "      <td>0.809524</td>\n",
       "      <td>0.857143</td>\n",
       "      <td>0.714286</td>\n",
       "      <td>0.619048</td>\n",
       "    </tr>\n",
       "    <tr>\n",
       "      <th>82</th>\n",
       "      <td>0.666667</td>\n",
       "      <td>0.809524</td>\n",
       "      <td>0.857143</td>\n",
       "      <td>0.714286</td>\n",
       "      <td>0.619048</td>\n",
       "    </tr>\n",
       "    <tr>\n",
       "      <th>83</th>\n",
       "      <td>0.666667</td>\n",
       "      <td>0.733333</td>\n",
       "      <td>0.866667</td>\n",
       "      <td>0.666667</td>\n",
       "      <td>0.600000</td>\n",
       "    </tr>\n",
       "    <tr>\n",
       "      <th>84</th>\n",
       "      <td>1.000000</td>\n",
       "      <td>0.833333</td>\n",
       "      <td>0.833333</td>\n",
       "      <td>1.000000</td>\n",
       "      <td>0.500000</td>\n",
       "    </tr>\n",
       "    <tr>\n",
       "      <th>85</th>\n",
       "      <td>1.000000</td>\n",
       "      <td>0.833333</td>\n",
       "      <td>0.833333</td>\n",
       "      <td>1.000000</td>\n",
       "      <td>0.500000</td>\n",
       "    </tr>\n",
       "    <tr>\n",
       "      <th>86</th>\n",
       "      <td>1.000000</td>\n",
       "      <td>0.833333</td>\n",
       "      <td>0.833333</td>\n",
       "      <td>1.000000</td>\n",
       "      <td>0.500000</td>\n",
       "    </tr>\n",
       "    <tr>\n",
       "      <th>87</th>\n",
       "      <td>1.000000</td>\n",
       "      <td>0.833333</td>\n",
       "      <td>0.833333</td>\n",
       "      <td>1.000000</td>\n",
       "      <td>0.500000</td>\n",
       "    </tr>\n",
       "    <tr>\n",
       "      <th>88</th>\n",
       "      <td>1.000000</td>\n",
       "      <td>0.833333</td>\n",
       "      <td>0.833333</td>\n",
       "      <td>1.000000</td>\n",
       "      <td>0.500000</td>\n",
       "    </tr>\n",
       "    <tr>\n",
       "      <th>89</th>\n",
       "      <td>1.000000</td>\n",
       "      <td>0.833333</td>\n",
       "      <td>0.833333</td>\n",
       "      <td>1.000000</td>\n",
       "      <td>0.500000</td>\n",
       "    </tr>\n",
       "    <tr>\n",
       "      <th>90</th>\n",
       "      <td>1.000000</td>\n",
       "      <td>0.833333</td>\n",
       "      <td>0.833333</td>\n",
       "      <td>1.000000</td>\n",
       "      <td>0.500000</td>\n",
       "    </tr>\n",
       "    <tr>\n",
       "      <th>91</th>\n",
       "      <td>1.000000</td>\n",
       "      <td>1.000000</td>\n",
       "      <td>1.000000</td>\n",
       "      <td>1.000000</td>\n",
       "      <td>0.666667</td>\n",
       "    </tr>\n",
       "    <tr>\n",
       "      <th>92</th>\n",
       "      <td>1.000000</td>\n",
       "      <td>1.000000</td>\n",
       "      <td>1.000000</td>\n",
       "      <td>1.000000</td>\n",
       "      <td>0.666667</td>\n",
       "    </tr>\n",
       "    <tr>\n",
       "      <th>93</th>\n",
       "      <td>1.000000</td>\n",
       "      <td>1.000000</td>\n",
       "      <td>1.000000</td>\n",
       "      <td>1.000000</td>\n",
       "      <td>0.666667</td>\n",
       "    </tr>\n",
       "    <tr>\n",
       "      <th>94</th>\n",
       "      <td>1.000000</td>\n",
       "      <td>1.000000</td>\n",
       "      <td>1.000000</td>\n",
       "      <td>1.000000</td>\n",
       "      <td>0.666667</td>\n",
       "    </tr>\n",
       "    <tr>\n",
       "      <th>95</th>\n",
       "      <td>1.000000</td>\n",
       "      <td>1.000000</td>\n",
       "      <td>1.000000</td>\n",
       "      <td>1.000000</td>\n",
       "      <td>1.000000</td>\n",
       "    </tr>\n",
       "    <tr>\n",
       "      <th>96</th>\n",
       "      <td>1.000000</td>\n",
       "      <td>1.000000</td>\n",
       "      <td>1.000000</td>\n",
       "      <td>1.000000</td>\n",
       "      <td>1.000000</td>\n",
       "    </tr>\n",
       "    <tr>\n",
       "      <th>97</th>\n",
       "      <td>1.000000</td>\n",
       "      <td>1.000000</td>\n",
       "      <td>1.000000</td>\n",
       "      <td>1.000000</td>\n",
       "      <td>1.000000</td>\n",
       "    </tr>\n",
       "    <tr>\n",
       "      <th>98</th>\n",
       "      <td>1.000000</td>\n",
       "      <td>1.000000</td>\n",
       "      <td>1.000000</td>\n",
       "      <td>1.000000</td>\n",
       "      <td>1.000000</td>\n",
       "    </tr>\n",
       "    <tr>\n",
       "      <th>99</th>\n",
       "      <td>1.000000</td>\n",
       "      <td>1.000000</td>\n",
       "      <td>1.000000</td>\n",
       "      <td>1.000000</td>\n",
       "      <td>1.000000</td>\n",
       "    </tr>\n",
       "    <tr>\n",
       "      <th>100</th>\n",
       "      <td>1.000000</td>\n",
       "      <td>1.000000</td>\n",
       "      <td>1.000000</td>\n",
       "      <td>1.000000</td>\n",
       "      <td>1.000000</td>\n",
       "    </tr>\n",
       "    <tr>\n",
       "      <th>101</th>\n",
       "      <td>1.000000</td>\n",
       "      <td>1.000000</td>\n",
       "      <td>1.000000</td>\n",
       "      <td>1.000000</td>\n",
       "      <td>1.000000</td>\n",
       "    </tr>\n",
       "    <tr>\n",
       "      <th>102</th>\n",
       "      <td>1.000000</td>\n",
       "      <td>1.000000</td>\n",
       "      <td>1.000000</td>\n",
       "      <td>1.000000</td>\n",
       "      <td>1.000000</td>\n",
       "    </tr>\n",
       "    <tr>\n",
       "      <th>103</th>\n",
       "      <td>1.000000</td>\n",
       "      <td>1.000000</td>\n",
       "      <td>1.000000</td>\n",
       "      <td>1.000000</td>\n",
       "      <td>1.000000</td>\n",
       "    </tr>\n",
       "    <tr>\n",
       "      <th>104</th>\n",
       "      <td>1.000000</td>\n",
       "      <td>1.000000</td>\n",
       "      <td>1.000000</td>\n",
       "      <td>1.000000</td>\n",
       "      <td>1.000000</td>\n",
       "    </tr>\n",
       "    <tr>\n",
       "      <th>105</th>\n",
       "      <td>1.000000</td>\n",
       "      <td>1.000000</td>\n",
       "      <td>1.000000</td>\n",
       "      <td>1.000000</td>\n",
       "      <td>1.000000</td>\n",
       "    </tr>\n",
       "  </tbody>\n",
       "</table>\n",
       "<p>106 rows × 5 columns</p>\n",
       "</div>"
      ],
      "text/plain": [
       "     Real_Graph_R0  Real_Graph_R1  Real_Graph_R2  Real_Graph_R3  Real_Graph_R4\n",
       "0         0.100004       0.100004       0.100004       0.100004       0.100004\n",
       "1         0.103228       0.103228       0.103228       0.103228       0.103228\n",
       "2         0.107175       0.107175       0.107175       0.107175       0.107175\n",
       "3         0.111920       0.111944       0.111920       0.111920       0.111920\n",
       "4         0.117564       0.117589       0.117564       0.117564       0.117564\n",
       "5         0.121950       0.122003       0.121950       0.121950       0.121950\n",
       "6         0.127254       0.127282       0.127254       0.127282       0.127226\n",
       "7         0.131150       0.131150       0.131121       0.131150       0.131150\n",
       "8         0.135885       0.135915       0.135855       0.135915       0.135885\n",
       "9         0.139940       0.139971       0.139908       0.139940       0.139971\n",
       "10        0.145744       0.145811       0.145711       0.145777       0.145811\n",
       "11        0.152643       0.152750       0.152608       0.152856       0.152856\n",
       "12        0.156267       0.156304       0.156194       0.156524       0.156487\n",
       "13        0.163618       0.163736       0.163697       0.163854       0.163894\n",
       "14        0.168449       0.168367       0.168490       0.168778       0.168819\n",
       "15        0.170416       0.170248       0.170416       0.170709       0.170667\n",
       "16        0.179357       0.179130       0.179175       0.179540       0.179449\n",
       "17        0.185792       0.185115       0.185502       0.185598       0.185647\n",
       "18        0.193152       0.192583       0.193049       0.193152       0.193204\n",
       "19        0.204531       0.203899       0.204359       0.204761       0.204186\n",
       "20        0.214362       0.213609       0.214111       0.214801       0.213860\n",
       "21        0.219770       0.218785       0.218916       0.219967       0.218982\n",
       "22        0.223310       0.222426       0.222834       0.223922       0.223038\n",
       "23        0.225896       0.224922       0.225548       0.226314       0.225757\n",
       "24        0.233727       0.232979       0.232979       0.235149       0.233278\n",
       "25        0.237733       0.236957       0.236801       0.239674       0.237034\n",
       "26        0.247088       0.244407       0.244575       0.248261       0.245496\n",
       "27        0.251133       0.248780       0.247996       0.252963       0.249303\n",
       "28        0.258597       0.255242       0.254403       0.259342       0.256267\n",
       "29        0.266667       0.264336       0.263425       0.267173       0.265653\n",
       "..             ...            ...            ...            ...            ...\n",
       "76        0.641026       0.653846       0.666667       0.730769       0.641026\n",
       "77        0.666667       0.666667       0.666667       0.712121       0.621212\n",
       "78        0.654545       0.727273       0.672727       0.709091       0.654545\n",
       "79        0.654545       0.727273       0.672727       0.709091       0.654545\n",
       "80        0.714286       0.857143       0.750000       0.714286       0.642857\n",
       "81        0.666667       0.809524       0.857143       0.714286       0.619048\n",
       "82        0.666667       0.809524       0.857143       0.714286       0.619048\n",
       "83        0.666667       0.733333       0.866667       0.666667       0.600000\n",
       "84        1.000000       0.833333       0.833333       1.000000       0.500000\n",
       "85        1.000000       0.833333       0.833333       1.000000       0.500000\n",
       "86        1.000000       0.833333       0.833333       1.000000       0.500000\n",
       "87        1.000000       0.833333       0.833333       1.000000       0.500000\n",
       "88        1.000000       0.833333       0.833333       1.000000       0.500000\n",
       "89        1.000000       0.833333       0.833333       1.000000       0.500000\n",
       "90        1.000000       0.833333       0.833333       1.000000       0.500000\n",
       "91        1.000000       1.000000       1.000000       1.000000       0.666667\n",
       "92        1.000000       1.000000       1.000000       1.000000       0.666667\n",
       "93        1.000000       1.000000       1.000000       1.000000       0.666667\n",
       "94        1.000000       1.000000       1.000000       1.000000       0.666667\n",
       "95        1.000000       1.000000       1.000000       1.000000       1.000000\n",
       "96        1.000000       1.000000       1.000000       1.000000       1.000000\n",
       "97        1.000000       1.000000       1.000000       1.000000       1.000000\n",
       "98        1.000000       1.000000       1.000000       1.000000       1.000000\n",
       "99        1.000000       1.000000       1.000000       1.000000       1.000000\n",
       "100       1.000000       1.000000       1.000000       1.000000       1.000000\n",
       "101       1.000000       1.000000       1.000000       1.000000       1.000000\n",
       "102       1.000000       1.000000       1.000000       1.000000       1.000000\n",
       "103       1.000000       1.000000       1.000000       1.000000       1.000000\n",
       "104       1.000000       1.000000       1.000000       1.000000       1.000000\n",
       "105       1.000000       1.000000       1.000000       1.000000       1.000000\n",
       "\n",
       "[106 rows x 5 columns]"
      ]
     },
     "execution_count": 34,
     "metadata": {},
     "output_type": "execute_result"
    }
   ],
   "source": [
    "rand_df"
   ]
  },
  {
   "cell_type": "code",
   "execution_count": 35,
   "metadata": {},
   "outputs": [
    {
     "data": {
      "text/plain": [
       "(106, 5)"
      ]
     },
     "execution_count": 35,
     "metadata": {},
     "output_type": "execute_result"
    }
   ],
   "source": [
    "rand_df.shape"
   ]
  },
  {
   "cell_type": "code",
   "execution_count": null,
   "metadata": {
    "collapsed": true
   },
   "outputs": [],
   "source": []
  },
  {
   "cell_type": "code",
   "execution_count": null,
   "metadata": {
    "collapsed": true
   },
   "outputs": [],
   "source": []
  },
  {
   "cell_type": "code",
   "execution_count": null,
   "metadata": {
    "collapsed": true
   },
   "outputs": [],
   "source": []
  },
  {
   "cell_type": "code",
   "execution_count": null,
   "metadata": {
    "collapsed": true
   },
   "outputs": [],
   "source": []
  },
  {
   "cell_type": "code",
   "execution_count": null,
   "metadata": {
    "collapsed": true
   },
   "outputs": [],
   "source": []
  },
  {
   "cell_type": "code",
   "execution_count": null,
   "metadata": {
    "collapsed": true
   },
   "outputs": [],
   "source": []
  },
  {
   "cell_type": "code",
   "execution_count": null,
   "metadata": {
    "collapsed": true
   },
   "outputs": [],
   "source": []
  },
  {
   "cell_type": "code",
   "execution_count": null,
   "metadata": {
    "collapsed": true
   },
   "outputs": [],
   "source": []
  },
  {
   "cell_type": "code",
   "execution_count": 35,
   "metadata": {
    "collapsed": true
   },
   "outputs": [],
   "source": [
    "# re-organize your dataframe in a suitable way \n",
    "# so that there is one column for the x data, one for the y data, and one which holds the label for the data point."
   ]
  },
  {
   "cell_type": "code",
   "execution_count": 36,
   "metadata": {},
   "outputs": [],
   "source": [
    "# make 1 column for degrees\n",
    "\n",
    "degree = rich_club_df.index.values"
   ]
  },
  {
   "cell_type": "code",
   "execution_count": 37,
   "metadata": {},
   "outputs": [
    {
     "data": {
      "text/plain": [
       "array([  0,   1,   2,   3,   4,   5,   6,   7,   8,   9,  10,  11,  12,\n",
       "        13,  14,  15,  16,  17,  18,  19,  20,  21,  22,  23,  24,  25,\n",
       "        26,  27,  28,  29,  30,  31,  32,  33,  34,  35,  36,  37,  38,\n",
       "        39,  40,  41,  42,  43,  44,  45,  46,  47,  48,  49,  50,  51,\n",
       "        52,  53,  54,  55,  56,  57,  58,  59,  60,  61,  62,  63,  64,\n",
       "        65,  66,  67,  68,  69,  70,  71,  72,  73,  74,  75,  76,  77,\n",
       "        78,  79,  80,  81,  82,  83,  84,  85,  86,  87,  88,  89,  90,\n",
       "        91,  92,  93,  94,  95,  96,  97,  98,  99, 100, 101, 102, 103,\n",
       "       104, 105])"
      ]
     },
     "execution_count": 37,
     "metadata": {},
     "output_type": "execute_result"
    }
   ],
   "source": [
    "degree"
   ]
  },
  {
   "cell_type": "code",
   "execution_count": null,
   "metadata": {
    "collapsed": true
   },
   "outputs": [],
   "source": []
  },
  {
   "cell_type": "code",
   "execution_count": 36,
   "metadata": {},
   "outputs": [],
   "source": [
    "# create array to store the degrees\n",
    "rand_degree = []\n",
    "\n",
    "# create array to store a rich_club values accordong to the degree\n",
    "rc_rand = []\n",
    "\n",
    "for i in range(len(rand_df.columns)):\n",
    "    rand_degree = np.append(rand_degree, rand_df.index.values)  # numpy array\n",
    "    rc_rand = np.append(rc_rand, rand_df.iloc[:, i])"
   ]
  },
  {
   "cell_type": "code",
   "execution_count": 37,
   "metadata": {},
   "outputs": [
    {
     "data": {
      "text/plain": [
       "530"
      ]
     },
     "execution_count": 37,
     "metadata": {},
     "output_type": "execute_result"
    }
   ],
   "source": [
    "len(rand_degree)"
   ]
  },
  {
   "cell_type": "code",
   "execution_count": 38,
   "metadata": {},
   "outputs": [
    {
     "data": {
      "text/plain": [
       "530"
      ]
     },
     "execution_count": 38,
     "metadata": {},
     "output_type": "execute_result"
    }
   ],
   "source": [
    "len(rc_rand)"
   ]
  },
  {
   "cell_type": "code",
   "execution_count": 39,
   "metadata": {},
   "outputs": [
    {
     "data": {
      "text/plain": [
       "array([0.10000423, 0.1032282 , 0.10717536, 0.11191982, 0.11756392,\n",
       "       0.12194993, 0.12725406, 0.1311499 , 0.13588514, 0.13993977,\n",
       "       0.14574415, 0.15264334, 0.15626719, 0.16361849, 0.1684492 ,\n",
       "       0.17041599, 0.17935748, 0.18579156, 0.19315239, 0.20453108,\n",
       "       0.21436194, 0.21977011, 0.22331021, 0.22589628, 0.23372737,\n",
       "       0.23773292, 0.2470884 , 0.2511328 , 0.25859659, 0.26666667,\n",
       "       0.28047391, 0.28432179, 0.29071366, 0.29748101, 0.30813439,\n",
       "       0.31377115, 0.32076731, 0.33084391, 0.33777778, 0.34256873,\n",
       "       0.35093168, 0.36300454, 0.37623457, 0.39263158, 0.39495495,\n",
       "       0.3999239 , 0.40643863, 0.42115385, 0.43151772, 0.43672316,\n",
       "       0.44162129, 0.45064935, 0.45252525, 0.46588235, 0.48011101,\n",
       "       0.48083624, 0.48536585, 0.49230769, 0.5015015 , 0.50420168,\n",
       "       0.50420168, 0.53763441, 0.53793103, 0.54415954, 0.55      ,\n",
       "       0.56521739, 0.57142857, 0.57142857, 0.58571429, 0.6374269 ,\n",
       "       0.62745098, 0.65714286, 0.64102564, 0.64102564, 0.64102564,\n",
       "       0.64102564, 0.64102564, 0.66666667, 0.65454545, 0.65454545,\n",
       "       0.71428571, 0.66666667, 0.66666667, 0.66666667, 1.        ,\n",
       "       1.        , 1.        , 1.        , 1.        , 1.        ,\n",
       "       1.        , 1.        , 1.        , 1.        , 1.        ,\n",
       "       1.        , 1.        , 1.        , 1.        , 1.        ,\n",
       "       1.        , 1.        , 1.        , 1.        , 1.        ,\n",
       "       1.        , 0.10000423, 0.1032282 , 0.10717536, 0.11194368,\n",
       "       0.11758916, 0.12200264, 0.12728181, 0.1311499 , 0.1359153 ,\n",
       "       0.13997114, 0.14581052, 0.15274971, 0.15630388, 0.16373648,\n",
       "       0.16836693, 0.17024842, 0.17912964, 0.18511543, 0.19258262,\n",
       "       0.20389857, 0.21360869, 0.21878489, 0.22242622, 0.22492168,\n",
       "       0.2329792 , 0.23695652, 0.24440721, 0.24878006, 0.25524182,\n",
       "       0.26433637, 0.27580314, 0.27891955, 0.28521435, 0.29148341,\n",
       "       0.30179782, 0.30678466, 0.31342786, 0.32374907, 0.32929293,\n",
       "       0.33440722, 0.34710941, 0.36059877, 0.37314815, 0.38701754,\n",
       "       0.39027027, 0.39497717, 0.40120724, 0.42115385, 0.42940243,\n",
       "       0.43446328, 0.43678161, 0.44090909, 0.44377104, 0.45960784,\n",
       "       0.46808511, 0.48315912, 0.48780488, 0.4974359 , 0.50900901,\n",
       "       0.5210084 , 0.5210084 , 0.54623656, 0.54942529, 0.55840456,\n",
       "       0.55      , 0.5615942 , 0.57142857, 0.57142857, 0.58571429,\n",
       "       0.59064327, 0.58169935, 0.58095238, 0.65384615, 0.65384615,\n",
       "       0.65384615, 0.65384615, 0.65384615, 0.66666667, 0.72727273,\n",
       "       0.72727273, 0.85714286, 0.80952381, 0.80952381, 0.73333333,\n",
       "       0.83333333, 0.83333333, 0.83333333, 0.83333333, 0.83333333,\n",
       "       0.83333333, 0.83333333, 1.        , 1.        , 1.        ,\n",
       "       1.        , 1.        , 1.        , 1.        , 1.        ,\n",
       "       1.        , 1.        , 1.        , 1.        , 1.        ,\n",
       "       1.        , 1.        , 0.10000423, 0.1032282 , 0.10717536,\n",
       "       0.11191982, 0.11756392, 0.12194993, 0.12725406, 0.1311211 ,\n",
       "       0.13585498, 0.1399084 , 0.14571097, 0.15260788, 0.15619383,\n",
       "       0.16369715, 0.16849033, 0.17041599, 0.17917521, 0.18550179,\n",
       "       0.19304879, 0.20435858, 0.21411085, 0.21891626, 0.22283422,\n",
       "       0.22554821, 0.2329792 , 0.23680124, 0.24457478, 0.24799582,\n",
       "       0.25440313, 0.26342452, 0.27671451, 0.27985907, 0.28708911,\n",
       "       0.29454885, 0.30445034, 0.309424  , 0.31609675, 0.32823002,\n",
       "       0.3359596 , 0.34256873, 0.35260392, 0.36647955, 0.38179012,\n",
       "       0.39438596, 0.39711712, 0.40296804, 0.41006036, 0.42211538,\n",
       "       0.43416182, 0.43898305, 0.4446461 , 0.45064935, 0.45521886,\n",
       "       0.46588235, 0.48288622, 0.5087108 , 0.51219512, 0.51282051,\n",
       "       0.52552553, 0.53781513, 0.53781513, 0.5483871 , 0.55172414,\n",
       "       0.56980057, 0.57333333, 0.57971014, 0.60606061, 0.60606061,\n",
       "       0.6047619 , 0.61988304, 0.63398693, 0.63809524, 0.66666667,\n",
       "       0.66666667, 0.66666667, 0.66666667, 0.66666667, 0.66666667,\n",
       "       0.67272727, 0.67272727, 0.75      , 0.85714286, 0.85714286,\n",
       "       0.86666667, 0.83333333, 0.83333333, 0.83333333, 0.83333333,\n",
       "       0.83333333, 0.83333333, 0.83333333, 1.        , 1.        ,\n",
       "       1.        , 1.        , 1.        , 1.        , 1.        ,\n",
       "       1.        , 1.        , 1.        , 1.        , 1.        ,\n",
       "       1.        , 1.        , 1.        , 0.10000423, 0.1032282 ,\n",
       "       0.10717536, 0.11191982, 0.11756392, 0.12194993, 0.12728181,\n",
       "       0.1311499 , 0.1359153 , 0.13993977, 0.14577734, 0.15285608,\n",
       "       0.15652397, 0.16385447, 0.16877828, 0.17070923, 0.17953976,\n",
       "       0.18559838, 0.19315239, 0.20476108, 0.21480133, 0.21996716,\n",
       "       0.22392221, 0.22631396, 0.23514889, 0.23967391, 0.24826142,\n",
       "       0.2529627 , 0.25934209, 0.26717325, 0.27956254, 0.28291251,\n",
       "       0.28871391, 0.29548181, 0.30548187, 0.31190809, 0.31909925,\n",
       "       0.33065721, 0.33959596, 0.34514605, 0.35427616, 0.36567763,\n",
       "       0.38179012, 0.39333333, 0.39603604, 0.40068493, 0.40804829,\n",
       "       0.425     , 0.43310418, 0.43898305, 0.45009074, 0.45779221,\n",
       "       0.46060606, 0.46431373, 0.48658649, 0.51103368, 0.51829268,\n",
       "       0.52179487, 0.53303303, 0.54117647, 0.54117647, 0.56774194,\n",
       "       0.57471264, 0.60683761, 0.62666667, 0.64130435, 0.67965368,\n",
       "       0.67965368, 0.6952381 , 0.73099415, 0.75163399, 0.74285714,\n",
       "       0.73076923, 0.73076923, 0.73076923, 0.73076923, 0.73076923,\n",
       "       0.71212121, 0.70909091, 0.70909091, 0.71428571, 0.71428571,\n",
       "       0.71428571, 0.66666667, 1.        , 1.        , 1.        ,\n",
       "       1.        , 1.        , 1.        , 1.        , 1.        ,\n",
       "       1.        , 1.        , 1.        , 1.        , 1.        ,\n",
       "       1.        , 1.        , 1.        , 1.        , 1.        ,\n",
       "       1.        , 1.        , 1.        , 1.        , 0.10000423,\n",
       "       0.1032282 , 0.10717536, 0.11191982, 0.11756392, 0.12194993,\n",
       "       0.12722632, 0.1311499 , 0.13588514, 0.13997114, 0.14581052,\n",
       "       0.15285608, 0.15648729, 0.16389381, 0.16881942, 0.17066734,\n",
       "       0.17944862, 0.18564667, 0.19320419, 0.20418607, 0.21385977,\n",
       "       0.21898194, 0.22303822, 0.22575705, 0.23327847, 0.23703416,\n",
       "       0.24549644, 0.24930289, 0.25626689, 0.2656535 , 0.27785373,\n",
       "       0.28126835, 0.28733908, 0.29361589, 0.30356617, 0.30818196,\n",
       "       0.31559633, 0.32710978, 0.33555556, 0.34149485, 0.35093168,\n",
       "       0.36380647, 0.37561728, 0.38807018, 0.38918919, 0.39497717,\n",
       "       0.39879276, 0.41730769, 0.42411423, 0.42881356, 0.43617665,\n",
       "       0.44025974, 0.44309764, 0.45098039, 0.45975948, 0.4738676 ,\n",
       "       0.47560976, 0.47692308, 0.49399399, 0.50084034, 0.50084034,\n",
       "       0.53333333, 0.53333333, 0.54985755, 0.56666667, 0.57246377,\n",
       "       0.58874459, 0.58874459, 0.6       , 0.59649123, 0.59477124,\n",
       "       0.64761905, 0.64102564, 0.64102564, 0.64102564, 0.64102564,\n",
       "       0.64102564, 0.62121212, 0.65454545, 0.65454545, 0.64285714,\n",
       "       0.61904762, 0.61904762, 0.6       , 0.5       , 0.5       ,\n",
       "       0.5       , 0.5       , 0.5       , 0.5       , 0.5       ,\n",
       "       0.66666667, 0.66666667, 0.66666667, 0.66666667, 1.        ,\n",
       "       1.        , 1.        , 1.        , 1.        , 1.        ,\n",
       "       1.        , 1.        , 1.        , 1.        , 1.        ])"
      ]
     },
     "execution_count": 39,
     "metadata": {},
     "output_type": "execute_result"
    }
   ],
   "source": [
    "rc_rand"
   ]
  },
  {
   "cell_type": "code",
   "execution_count": null,
   "metadata": {
    "collapsed": true
   },
   "outputs": [],
   "source": []
  },
  {
   "cell_type": "code",
   "execution_count": 40,
   "metadata": {
    "collapsed": true
   },
   "outputs": [],
   "source": [
    "new_rand_df = pd.DataFrame({'Degree':rand_degree, 'Rich Club':rc_rand})"
   ]
  },
  {
   "cell_type": "code",
   "execution_count": null,
   "metadata": {
    "collapsed": true
   },
   "outputs": [],
   "source": []
  },
  {
   "cell_type": "code",
   "execution_count": 92,
   "metadata": {},
   "outputs": [
    {
     "data": {
      "text/html": [
       "<div>\n",
       "<style>\n",
       "    .dataframe thead tr:only-child th {\n",
       "        text-align: right;\n",
       "    }\n",
       "\n",
       "    .dataframe thead th {\n",
       "        text-align: left;\n",
       "    }\n",
       "\n",
       "    .dataframe tbody tr th {\n",
       "        vertical-align: top;\n",
       "    }\n",
       "</style>\n",
       "<table border=\"1\" class=\"dataframe\">\n",
       "  <thead>\n",
       "    <tr style=\"text-align: right;\">\n",
       "      <th></th>\n",
       "      <th>Degree</th>\n",
       "      <th>Rich Club</th>\n",
       "    </tr>\n",
       "  </thead>\n",
       "  <tbody>\n",
       "    <tr>\n",
       "      <th>0</th>\n",
       "      <td>0.0</td>\n",
       "      <td>0.100004</td>\n",
       "    </tr>\n",
       "    <tr>\n",
       "      <th>1</th>\n",
       "      <td>1.0</td>\n",
       "      <td>0.103228</td>\n",
       "    </tr>\n",
       "    <tr>\n",
       "      <th>2</th>\n",
       "      <td>2.0</td>\n",
       "      <td>0.107175</td>\n",
       "    </tr>\n",
       "    <tr>\n",
       "      <th>3</th>\n",
       "      <td>3.0</td>\n",
       "      <td>0.111920</td>\n",
       "    </tr>\n",
       "    <tr>\n",
       "      <th>4</th>\n",
       "      <td>4.0</td>\n",
       "      <td>0.117564</td>\n",
       "    </tr>\n",
       "    <tr>\n",
       "      <th>5</th>\n",
       "      <td>5.0</td>\n",
       "      <td>0.121950</td>\n",
       "    </tr>\n",
       "    <tr>\n",
       "      <th>6</th>\n",
       "      <td>6.0</td>\n",
       "      <td>0.127254</td>\n",
       "    </tr>\n",
       "    <tr>\n",
       "      <th>7</th>\n",
       "      <td>7.0</td>\n",
       "      <td>0.131150</td>\n",
       "    </tr>\n",
       "    <tr>\n",
       "      <th>8</th>\n",
       "      <td>8.0</td>\n",
       "      <td>0.135885</td>\n",
       "    </tr>\n",
       "    <tr>\n",
       "      <th>9</th>\n",
       "      <td>9.0</td>\n",
       "      <td>0.139940</td>\n",
       "    </tr>\n",
       "    <tr>\n",
       "      <th>10</th>\n",
       "      <td>10.0</td>\n",
       "      <td>0.145744</td>\n",
       "    </tr>\n",
       "    <tr>\n",
       "      <th>11</th>\n",
       "      <td>11.0</td>\n",
       "      <td>0.152643</td>\n",
       "    </tr>\n",
       "    <tr>\n",
       "      <th>12</th>\n",
       "      <td>12.0</td>\n",
       "      <td>0.156267</td>\n",
       "    </tr>\n",
       "    <tr>\n",
       "      <th>13</th>\n",
       "      <td>13.0</td>\n",
       "      <td>0.163618</td>\n",
       "    </tr>\n",
       "    <tr>\n",
       "      <th>14</th>\n",
       "      <td>14.0</td>\n",
       "      <td>0.168449</td>\n",
       "    </tr>\n",
       "    <tr>\n",
       "      <th>15</th>\n",
       "      <td>15.0</td>\n",
       "      <td>0.170416</td>\n",
       "    </tr>\n",
       "    <tr>\n",
       "      <th>16</th>\n",
       "      <td>16.0</td>\n",
       "      <td>0.179357</td>\n",
       "    </tr>\n",
       "    <tr>\n",
       "      <th>17</th>\n",
       "      <td>17.0</td>\n",
       "      <td>0.185792</td>\n",
       "    </tr>\n",
       "    <tr>\n",
       "      <th>18</th>\n",
       "      <td>18.0</td>\n",
       "      <td>0.193152</td>\n",
       "    </tr>\n",
       "    <tr>\n",
       "      <th>19</th>\n",
       "      <td>19.0</td>\n",
       "      <td>0.204531</td>\n",
       "    </tr>\n",
       "    <tr>\n",
       "      <th>20</th>\n",
       "      <td>20.0</td>\n",
       "      <td>0.214362</td>\n",
       "    </tr>\n",
       "    <tr>\n",
       "      <th>21</th>\n",
       "      <td>21.0</td>\n",
       "      <td>0.219770</td>\n",
       "    </tr>\n",
       "    <tr>\n",
       "      <th>22</th>\n",
       "      <td>22.0</td>\n",
       "      <td>0.223310</td>\n",
       "    </tr>\n",
       "    <tr>\n",
       "      <th>23</th>\n",
       "      <td>23.0</td>\n",
       "      <td>0.225896</td>\n",
       "    </tr>\n",
       "    <tr>\n",
       "      <th>24</th>\n",
       "      <td>24.0</td>\n",
       "      <td>0.233727</td>\n",
       "    </tr>\n",
       "    <tr>\n",
       "      <th>25</th>\n",
       "      <td>25.0</td>\n",
       "      <td>0.237733</td>\n",
       "    </tr>\n",
       "    <tr>\n",
       "      <th>26</th>\n",
       "      <td>26.0</td>\n",
       "      <td>0.247088</td>\n",
       "    </tr>\n",
       "    <tr>\n",
       "      <th>27</th>\n",
       "      <td>27.0</td>\n",
       "      <td>0.251133</td>\n",
       "    </tr>\n",
       "    <tr>\n",
       "      <th>28</th>\n",
       "      <td>28.0</td>\n",
       "      <td>0.258597</td>\n",
       "    </tr>\n",
       "    <tr>\n",
       "      <th>29</th>\n",
       "      <td>29.0</td>\n",
       "      <td>0.266667</td>\n",
       "    </tr>\n",
       "    <tr>\n",
       "      <th>...</th>\n",
       "      <td>...</td>\n",
       "      <td>...</td>\n",
       "    </tr>\n",
       "    <tr>\n",
       "      <th>500</th>\n",
       "      <td>76.0</td>\n",
       "      <td>0.641026</td>\n",
       "    </tr>\n",
       "    <tr>\n",
       "      <th>501</th>\n",
       "      <td>77.0</td>\n",
       "      <td>0.621212</td>\n",
       "    </tr>\n",
       "    <tr>\n",
       "      <th>502</th>\n",
       "      <td>78.0</td>\n",
       "      <td>0.654545</td>\n",
       "    </tr>\n",
       "    <tr>\n",
       "      <th>503</th>\n",
       "      <td>79.0</td>\n",
       "      <td>0.654545</td>\n",
       "    </tr>\n",
       "    <tr>\n",
       "      <th>504</th>\n",
       "      <td>80.0</td>\n",
       "      <td>0.642857</td>\n",
       "    </tr>\n",
       "    <tr>\n",
       "      <th>505</th>\n",
       "      <td>81.0</td>\n",
       "      <td>0.619048</td>\n",
       "    </tr>\n",
       "    <tr>\n",
       "      <th>506</th>\n",
       "      <td>82.0</td>\n",
       "      <td>0.619048</td>\n",
       "    </tr>\n",
       "    <tr>\n",
       "      <th>507</th>\n",
       "      <td>83.0</td>\n",
       "      <td>0.600000</td>\n",
       "    </tr>\n",
       "    <tr>\n",
       "      <th>508</th>\n",
       "      <td>84.0</td>\n",
       "      <td>0.500000</td>\n",
       "    </tr>\n",
       "    <tr>\n",
       "      <th>509</th>\n",
       "      <td>85.0</td>\n",
       "      <td>0.500000</td>\n",
       "    </tr>\n",
       "    <tr>\n",
       "      <th>510</th>\n",
       "      <td>86.0</td>\n",
       "      <td>0.500000</td>\n",
       "    </tr>\n",
       "    <tr>\n",
       "      <th>511</th>\n",
       "      <td>87.0</td>\n",
       "      <td>0.500000</td>\n",
       "    </tr>\n",
       "    <tr>\n",
       "      <th>512</th>\n",
       "      <td>88.0</td>\n",
       "      <td>0.500000</td>\n",
       "    </tr>\n",
       "    <tr>\n",
       "      <th>513</th>\n",
       "      <td>89.0</td>\n",
       "      <td>0.500000</td>\n",
       "    </tr>\n",
       "    <tr>\n",
       "      <th>514</th>\n",
       "      <td>90.0</td>\n",
       "      <td>0.500000</td>\n",
       "    </tr>\n",
       "    <tr>\n",
       "      <th>515</th>\n",
       "      <td>91.0</td>\n",
       "      <td>0.666667</td>\n",
       "    </tr>\n",
       "    <tr>\n",
       "      <th>516</th>\n",
       "      <td>92.0</td>\n",
       "      <td>0.666667</td>\n",
       "    </tr>\n",
       "    <tr>\n",
       "      <th>517</th>\n",
       "      <td>93.0</td>\n",
       "      <td>0.666667</td>\n",
       "    </tr>\n",
       "    <tr>\n",
       "      <th>518</th>\n",
       "      <td>94.0</td>\n",
       "      <td>0.666667</td>\n",
       "    </tr>\n",
       "    <tr>\n",
       "      <th>519</th>\n",
       "      <td>95.0</td>\n",
       "      <td>1.000000</td>\n",
       "    </tr>\n",
       "    <tr>\n",
       "      <th>520</th>\n",
       "      <td>96.0</td>\n",
       "      <td>1.000000</td>\n",
       "    </tr>\n",
       "    <tr>\n",
       "      <th>521</th>\n",
       "      <td>97.0</td>\n",
       "      <td>1.000000</td>\n",
       "    </tr>\n",
       "    <tr>\n",
       "      <th>522</th>\n",
       "      <td>98.0</td>\n",
       "      <td>1.000000</td>\n",
       "    </tr>\n",
       "    <tr>\n",
       "      <th>523</th>\n",
       "      <td>99.0</td>\n",
       "      <td>1.000000</td>\n",
       "    </tr>\n",
       "    <tr>\n",
       "      <th>524</th>\n",
       "      <td>100.0</td>\n",
       "      <td>1.000000</td>\n",
       "    </tr>\n",
       "    <tr>\n",
       "      <th>525</th>\n",
       "      <td>101.0</td>\n",
       "      <td>1.000000</td>\n",
       "    </tr>\n",
       "    <tr>\n",
       "      <th>526</th>\n",
       "      <td>102.0</td>\n",
       "      <td>1.000000</td>\n",
       "    </tr>\n",
       "    <tr>\n",
       "      <th>527</th>\n",
       "      <td>103.0</td>\n",
       "      <td>1.000000</td>\n",
       "    </tr>\n",
       "    <tr>\n",
       "      <th>528</th>\n",
       "      <td>104.0</td>\n",
       "      <td>1.000000</td>\n",
       "    </tr>\n",
       "    <tr>\n",
       "      <th>529</th>\n",
       "      <td>105.0</td>\n",
       "      <td>1.000000</td>\n",
       "    </tr>\n",
       "  </tbody>\n",
       "</table>\n",
       "<p>530 rows × 2 columns</p>\n",
       "</div>"
      ],
      "text/plain": [
       "     Degree  Rich Club\n",
       "0       0.0   0.100004\n",
       "1       1.0   0.103228\n",
       "2       2.0   0.107175\n",
       "3       3.0   0.111920\n",
       "4       4.0   0.117564\n",
       "5       5.0   0.121950\n",
       "6       6.0   0.127254\n",
       "7       7.0   0.131150\n",
       "8       8.0   0.135885\n",
       "9       9.0   0.139940\n",
       "10     10.0   0.145744\n",
       "11     11.0   0.152643\n",
       "12     12.0   0.156267\n",
       "13     13.0   0.163618\n",
       "14     14.0   0.168449\n",
       "15     15.0   0.170416\n",
       "16     16.0   0.179357\n",
       "17     17.0   0.185792\n",
       "18     18.0   0.193152\n",
       "19     19.0   0.204531\n",
       "20     20.0   0.214362\n",
       "21     21.0   0.219770\n",
       "22     22.0   0.223310\n",
       "23     23.0   0.225896\n",
       "24     24.0   0.233727\n",
       "25     25.0   0.237733\n",
       "26     26.0   0.247088\n",
       "27     27.0   0.251133\n",
       "28     28.0   0.258597\n",
       "29     29.0   0.266667\n",
       "..      ...        ...\n",
       "500    76.0   0.641026\n",
       "501    77.0   0.621212\n",
       "502    78.0   0.654545\n",
       "503    79.0   0.654545\n",
       "504    80.0   0.642857\n",
       "505    81.0   0.619048\n",
       "506    82.0   0.619048\n",
       "507    83.0   0.600000\n",
       "508    84.0   0.500000\n",
       "509    85.0   0.500000\n",
       "510    86.0   0.500000\n",
       "511    87.0   0.500000\n",
       "512    88.0   0.500000\n",
       "513    89.0   0.500000\n",
       "514    90.0   0.500000\n",
       "515    91.0   0.666667\n",
       "516    92.0   0.666667\n",
       "517    93.0   0.666667\n",
       "518    94.0   0.666667\n",
       "519    95.0   1.000000\n",
       "520    96.0   1.000000\n",
       "521    97.0   1.000000\n",
       "522    98.0   1.000000\n",
       "523    99.0   1.000000\n",
       "524   100.0   1.000000\n",
       "525   101.0   1.000000\n",
       "526   102.0   1.000000\n",
       "527   103.0   1.000000\n",
       "528   104.0   1.000000\n",
       "529   105.0   1.000000\n",
       "\n",
       "[530 rows x 2 columns]"
      ]
     },
     "execution_count": 92,
     "metadata": {},
     "output_type": "execute_result"
    }
   ],
   "source": [
    "new_rand_df"
   ]
  },
  {
   "cell_type": "code",
   "execution_count": 94,
   "metadata": {},
   "outputs": [],
   "source": [
    "# set default colors if None is provided\n",
    "color = [\"#00C9FF\", \"grey\"]"
   ]
  },
  {
   "cell_type": "code",
   "execution_count": 95,
   "metadata": {},
   "outputs": [
    {
     "data": {
      "image/png": "[encoded data removed]",
      "text/plain": [
       "<matplotlib.figure.Figure at 0x7fcccea172b0>"
      ]
     },
     "metadata": {},
     "output_type": "display_data"
    }
   ],
   "source": [
    "ax = sns.lineplot(x=degree, y=rc_real, label=\"rich-club coefficient\", color=color[0])"
   ]
  },
  {
   "cell_type": "code",
   "execution_count": 96,
   "metadata": {},
   "outputs": [
    {
     "data": {
      "image/png": "[encoded data removed]",
      "text/plain": [
       "<matplotlib.figure.Figure at 0x7fccd2af8908>"
      ]
     },
     "metadata": {},
     "output_type": "display_data"
    }
   ],
   "source": [
    "\n",
    "# set the seaborn style and context in the beginning!\n",
    "sns.set(style=\"white\")\n",
    "sns.set_context(\"poster\", font_scale=1)\n",
    "\n",
    "fig, ax = plt.subplots(figsize=(10, 6))\n",
    "\n",
    "ax = sns.lineplot(x=degree, y=rc_real, label=\"rich-club coefficient\", color=color[0])\n",
    "ax = sns.lineplot(x=\"Degree\", y=\"Rich Club\", data=new_rand_df, err_style=\"band\", ci=95, color=color[1], label=\"random rich-club coefficient\")\n",
    "\n",
    "\n",
    "x_max = max(degree)\n",
    "\n",
    "\n",
    "y_max = max(rc_real) + 0.1   # let y-axis be longer -> looks better\n",
    "\n",
    "# set the x and y axis limits\n",
    "ax.set_xlim((0, x_max))\n",
    "ax.set_ylim((0, y_max))\n",
    "\n",
    "# set the number of bins to 4\n",
    "ax.locator_params(nbins=4)\n",
    "\n",
    "# set the x and y axis labels\n",
    "ax.set_xlabel(\"Degree\")\n",
    "ax.set_ylabel(\"Rich Club\")\n",
    "\n",
    "ax.legend(fontsize=\"x-small\")\n",
    "\n",
    "# remove the top and right spines from plot\n",
    "sns.despine()\n",
    "\n",
    "# adjust subplot params so that the subplot fits in to the figure area\n",
    "plt.tight_layout()\n",
    "    "
   ]
  },
  {
   "cell_type": "code",
   "execution_count": null,
   "metadata": {
    "collapsed": true
   },
   "outputs": [],
   "source": []
  },
  {
   "cell_type": "code",
   "execution_count": null,
   "metadata": {
    "collapsed": true
   },
   "outputs": [],
   "source": []
  },
  {
   "cell_type": "markdown",
   "metadata": {},
   "source": [
    "### Test the function implemented in visualisation tools"
   ]
  },
  {
   "cell_type": "code",
   "execution_count": 132,
   "metadata": {
    "collapsed": true
   },
   "outputs": [],
   "source": [
    "aaa = scn.GraphBundle([H], [\"Real_Graph\"])"
   ]
  },
  {
   "cell_type": "code",
   "execution_count": 133,
   "metadata": {},
   "outputs": [
    {
     "data": {
      "text/plain": [
       "{'Real_Graph': <scona.classes.BrainNetwork at 0x7fcd043fa9e8>}"
      ]
     },
     "execution_count": 133,
     "metadata": {},
     "output_type": "execute_result"
    }
   ],
   "source": [
    "aaa"
   ]
  },
  {
   "cell_type": "code",
   "execution_count": 137,
   "metadata": {},
   "outputs": [
    {
     "name": "stdout",
     "output_type": "stream",
     "text": [
      "        Creating 1 random graphs - may take a little while\n"
     ]
    }
   ],
   "source": [
    "aaa.create_random_graphs(\"Real_Graph\", 1)"
   ]
  },
  {
   "cell_type": "code",
   "execution_count": 139,
   "metadata": {
    "collapsed": true
   },
   "outputs": [],
   "source": [
    "import importlib.util\n",
    "spec = importlib.util.spec_from_file_location(\"plot_rich_club\", \"/home/pilot/GSoC/scona/scona/test.py\")\n",
    "foo = importlib.util.module_from_spec(spec)\n",
    "spec.loader.exec_module(foo)"
   ]
  },
  {
   "cell_type": "code",
   "execution_count": 140,
   "metadata": {},
   "outputs": [
    {
     "data": {
      "image/png": "[encoded data removed]",
      "text/plain": [
       "<matplotlib.figure.Figure at 0x7fcccec7d1d0>"
      ]
     },
     "metadata": {},
     "output_type": "display_data"
    }
   ],
   "source": [
    "foo.plot_rich_club(aaa)"
   ]
  },
  {
   "cell_type": "code",
   "execution_count": null,
   "metadata": {
    "collapsed": true
   },
   "outputs": [],
   "source": []
  },
  {
   "cell_type": "code",
   "execution_count": 141,
   "metadata": {
    "collapsed": true
   },
   "outputs": [],
   "source": [
    "import importlib.util\n",
    "spec = importlib.util.spec_from_file_location(\"plot_rich_club\", \"/home/pilot/GSoC/scona/scona/visualisations.py\")\n",
    "bar = importlib.util.module_from_spec(spec)\n",
    "spec.loader.exec_module(bar)"
   ]
  },
  {
   "cell_type": "code",
   "execution_count": 143,
   "metadata": {},
   "outputs": [
    {
     "data": {
      "image/png": "[encoded data removed]",
      "text/plain": [
       "<matplotlib.figure.Figure at 0x7fccd28d9710>"
      ]
     },
     "metadata": {},
     "output_type": "display_data"
    }
   ],
   "source": [
    "bar.plot_rich_club(bundleGraphs, figure_name=\"Rich_club_values\")"
   ]
  },
  {
   "cell_type": "code",
   "execution_count": null,
   "metadata": {
    "collapsed": true
   },
   "outputs": [],
   "source": []
  },
  {
   "cell_type": "code",
   "execution_count": null,
   "metadata": {
    "collapsed": true
   },
   "outputs": [],
   "source": []
  },
  {
   "cell_type": "code",
   "execution_count": null,
   "metadata": {
    "collapsed": true
   },
   "outputs": [],
   "source": []
  },
  {
   "cell_type": "code",
   "execution_count": null,
   "metadata": {
    "collapsed": true
   },
   "outputs": [],
   "source": []
  },
  {
   "cell_type": "code",
   "execution_count": null,
   "metadata": {
    "collapsed": true
   },
   "outputs": [],
   "source": []
  },
  {
   "cell_type": "markdown",
   "metadata": {},
   "source": [
    "-----------------------------------------------------------------------"
   ]
  },
  {
   "cell_type": "markdown",
   "metadata": {},
   "source": [
    "### Make an input for the function\n",
    "\n",
    "Input - nx.rich_club_coefficient(G) ---> graph_measures.rich_club\n",
    "                - returns: a dictionary mapping integer ``x`` to the rich club coefficient of G for degree ``x``"
   ]
  },
  {
   "cell_type": "code",
   "execution_count": 17,
   "metadata": {
    "collapsed": true
   },
   "outputs": [],
   "source": [
    "from scona.graph_measures import rich_club"
   ]
  },
  {
   "cell_type": "code",
   "execution_count": 18,
   "metadata": {
    "collapsed": true
   },
   "outputs": [],
   "source": [
    "rich_club_coefficient = rich_club(H)"
   ]
  },
  {
   "cell_type": "code",
   "execution_count": null,
   "metadata": {
    "collapsed": true
   },
   "outputs": [],
   "source": [
    "# # Calculate n different random graphs and their \n",
    "    # rich club coefficients"
   ]
  },
  {
   "cell_type": "code",
   "execution_count": 20,
   "metadata": {},
   "outputs": [
    {
     "data": {
      "text/plain": [
       "{0: 0.1000042302973899,\n",
       " 1: 0.10322820361506349,\n",
       " 2: 0.10724360724360725,\n",
       " 3: 0.11203913614127192,\n",
       " 4: 0.11784154867368314,\n",
       " 5: 0.12239789196310935,\n",
       " 6: 0.12797536481162958,\n",
       " 7: 0.13189883627145985,\n",
       " 8: 0.13682019726721564,\n",
       " 9: 0.14106907585168454,\n",
       " 10: 0.1473701675792268,\n",
       " 11: 0.15494805517143567,\n",
       " 12: 0.1588349657019185,\n",
       " 13: 0.16688298918387415,\n",
       " 14: 0.17194570135746606,\n",
       " 15: 0.17401868375853546,\n",
       " 16: 0.18359535201640464,\n",
       " 17: 0.1902830097556264,\n",
       " 18: 0.19874650367761318,\n",
       " 19: 0.21160370306480364,\n",
       " 20: 0.22321260435628648,\n",
       " 21: 0.2290311986863711,\n",
       " 22: 0.233578131374949,\n",
       " 23: 0.23619909502262443,\n",
       " 24: 0.24562322310339668,\n",
       " 25: 0.2505434782608696,\n",
       " 26: 0.25957268537913697,\n",
       " 27: 0.265074939003137,\n",
       " 28: 0.27332028701891714,\n",
       " 29: 0.28520770010131713,\n",
       " 30: 0.2987012987012987,\n",
       " 31: 0.30135055783910747,\n",
       " 32: 0.3102112235970504,\n",
       " 33: 0.3190723710515794,\n",
       " 34: 0.3334806955496611,\n",
       " 35: 0.34031982611395745,\n",
       " 36: 0.3476230191826522,\n",
       " 37: 0.35847647498132934,\n",
       " 38: 0.3690909090909091,\n",
       " 39: 0.3741408934707904,\n",
       " 40: 0.3865265169612996,\n",
       " 41: 0.39775461106655974,\n",
       " 42: 0.4169753086419753,\n",
       " 43: 0.43473684210526314,\n",
       " 44: 0.43891891891891893,\n",
       " 45: 0.4452054794520548,\n",
       " 46: 0.45191146881287725,\n",
       " 47: 0.46971153846153846,\n",
       " 48: 0.4833421470121629,\n",
       " 49: 0.4937853107344633,\n",
       " 50: 0.5009074410163339,\n",
       " 51: 0.5051948051948052,\n",
       " 52: 0.5070707070707071,\n",
       " 53: 0.5262745098039215,\n",
       " 54: 0.5485661424606846,\n",
       " 55: 0.5667828106852497,\n",
       " 56: 0.574390243902439,\n",
       " 57: 0.5782051282051283,\n",
       " 58: 0.5990990990990991,\n",
       " 59: 0.6067226890756302,\n",
       " 60: 0.6067226890756302,\n",
       " 61: 0.6150537634408603,\n",
       " 62: 0.6252873563218391,\n",
       " 63: 0.6524216524216524,\n",
       " 64: 0.6533333333333333,\n",
       " 65: 0.6630434782608695,\n",
       " 66: 0.7056277056277056,\n",
       " 67: 0.7056277056277056,\n",
       " 68: 0.7142857142857143,\n",
       " 69: 0.7426900584795322,\n",
       " 70: 0.7647058823529411,\n",
       " 71: 0.8,\n",
       " 72: 0.8205128205128205,\n",
       " 73: 0.8205128205128205,\n",
       " 74: 0.8205128205128205,\n",
       " 75: 0.8205128205128205,\n",
       " 76: 0.8205128205128205,\n",
       " 77: 0.8484848484848485,\n",
       " 78: 0.8363636363636363,\n",
       " 79: 0.8363636363636363,\n",
       " 80: 0.8928571428571429,\n",
       " 81: 0.8571428571428571,\n",
       " 82: 0.8571428571428571,\n",
       " 83: 0.9333333333333333,\n",
       " 84: 1.0,\n",
       " 85: 1.0,\n",
       " 86: 1.0,\n",
       " 87: 1.0,\n",
       " 88: 1.0,\n",
       " 89: 1.0,\n",
       " 90: 1.0,\n",
       " 91: 1.0,\n",
       " 92: 1.0,\n",
       " 93: 1.0,\n",
       " 94: 1.0,\n",
       " 95: 1.0,\n",
       " 96: 1.0,\n",
       " 97: 1.0,\n",
       " 98: 1.0,\n",
       " 99: 1.0,\n",
       " 100: 1.0,\n",
       " 101: 1.0,\n",
       " 102: 1.0,\n",
       " 103: 1.0,\n",
       " 104: 1.0,\n",
       " 105: 1.0}"
      ]
     },
     "execution_count": 20,
     "metadata": {},
     "output_type": "execute_result"
    }
   ],
   "source": [
    "rich_club_coefficient"
   ]
  },
  {
   "cell_type": "code",
   "execution_count": 19,
   "metadata": {},
   "outputs": [
    {
     "data": {
      "text/plain": [
       "106"
      ]
     },
     "execution_count": 19,
     "metadata": {},
     "output_type": "execute_result"
    }
   ],
   "source": [
    "len(rich_club_coefficient)"
   ]
  },
  {
   "cell_type": "code",
   "execution_count": null,
   "metadata": {
    "collapsed": true
   },
   "outputs": [],
   "source": [
    "# Save the degrees as a numpy array\n",
    "deg = np.array(list(rich_club_coefficient.keys()))\n",
    "\n",
    "# Save the rich club coefficients as a numpy array\n",
    "rc = np.array(list(rich_club_coefficient.values()))\n",
    "\n",
    "# num Rich_Club coefficients\n",
    "num_rc = len(rc)\n",
    "\n",
    "n = 10\n",
    "R_list=None"
   ]
  },
  {
   "cell_type": "code",
   "execution_count": null,
   "metadata": {},
   "outputs": [],
   "source": [
    "rc"
   ]
  },
  {
   "cell_type": "code",
   "execution_count": null,
   "metadata": {
    "collapsed": true
   },
   "outputs": [],
   "source": [
    "num_rc = len(rc)"
   ]
  },
  {
   "cell_type": "code",
   "execution_count": null,
   "metadata": {},
   "outputs": [],
   "source": [
    "num_rc"
   ]
  },
  {
   "cell_type": "code",
   "execution_count": null,
   "metadata": {
    "collapsed": true
   },
   "outputs": [],
   "source": [
    "rc_rand = np.ones([len(rc), n])"
   ]
  },
  {
   "cell_type": "code",
   "execution_count": null,
   "metadata": {},
   "outputs": [],
   "source": [
    "rc_rand.shape"
   ]
  },
  {
   "cell_type": "code",
   "execution_count": null,
   "metadata": {},
   "outputs": [],
   "source": [
    "for i in range(n):\n",
    "        # If you haven't already calculated random graphs\n",
    "        # or you haven't given this function as many random\n",
    "        # graphs as it is expecting then calculate a random\n",
    "        # graph here\n",
    "        if not R_list or len(R_list) <= i:\n",
    "            R = random_graph(H)\n",
    "        # Otherwise just use the one you already made\n",
    "        else:\n",
    "            R = R_list[i]\n",
    "            \n",
    "        # Calculate the rich club coefficient\n",
    "        rc_rand_dict = nx.rich_club_coefficient(R, normalized=False)\n",
    "        \n",
    "        # And save the values to the numpy array you created earlier\n",
    "        rc_rand[:, i] = list(rc_rand_dict.values())"
   ]
  },
  {
   "cell_type": "code",
   "execution_count": null,
   "metadata": {
    "collapsed": true
   },
   "outputs": [],
   "source": [
    "#\n",
    "#    Create fucking random Graph\n",
    "#"
   ]
  },
  {
   "cell_type": "code",
   "execution_count": null,
   "metadata": {
    "collapsed": true
   },
   "outputs": [],
   "source": [
    "def random_graph(G, Q=10):\n",
    "    \n",
    "    # Copy the graph\n",
    "    R = G.copy()\n",
    "    \n",
    "    # Calculate the number of edges and set a constant\n",
    "    # as suggested in the nx documentation\n",
    "    E = R.number_of_edges()\n",
    "    \n",
    "    # Start with assuming that the random graph is not connected\n",
    "    # (because it might not be after the first permuatation!)\n",
    "    connected=False\n",
    "    attempt=0\n",
    "    \n",
    "    # Keep making random graphs until they are connected!\n",
    "    while not connected and attempt < 15:\n",
    "        # Now swap some edges in order to preserve the degree distribution\n",
    "        print('Creating random graph - may take a little while!')\n",
    "        nx.double_edge_swap(R,Q*E,max_tries=Q*E*10)\n",
    "\n",
    "        # Check that this graph is connected! If not, start again\n",
    "        connected = nx.is_connected(R)\n",
    "        if not connected:\n",
    "            attempt +=1\n",
    "    \n",
    "    if attempt == 15:\n",
    "        print('Giving up - can not randomise graph')\n",
    "        print('===================================')\n",
    "        R = G.copy()\n",
    "        \n",
    "    return R"
   ]
  },
  {
   "cell_type": "code",
   "execution_count": null,
   "metadata": {},
   "outputs": [],
   "source": [
    "rc_rand.shape"
   ]
  },
  {
   "cell_type": "code",
   "execution_count": null,
   "metadata": {},
   "outputs": [],
   "source": [
    "rc_rand"
   ]
  },
  {
   "cell_type": "code",
   "execution_count": null,
   "metadata": {},
   "outputs": [],
   "source": [
    "rc_rand[0]"
   ]
  },
  {
   "cell_type": "code",
   "execution_count": null,
   "metadata": {},
   "outputs": [],
   "source": [
    "rc_rand[1]"
   ]
  },
  {
   "cell_type": "code",
   "execution_count": null,
   "metadata": {
    "collapsed": true
   },
   "outputs": [],
   "source": [
    "random_coef = np.mean(rc_rand, axis=1)"
   ]
  },
  {
   "cell_type": "code",
   "execution_count": null,
   "metadata": {},
   "outputs": [],
   "source": [
    "len(random_coef)"
   ]
  },
  {
   "cell_type": "code",
   "execution_count": null,
   "metadata": {},
   "outputs": [],
   "source": [
    "len(rc)"
   ]
  },
  {
   "cell_type": "code",
   "execution_count": null,
   "metadata": {},
   "outputs": [],
   "source": [
    "type(random_coef)"
   ]
  },
  {
   "cell_type": "code",
   "execution_count": null,
   "metadata": {},
   "outputs": [],
   "source": [
    "type(rc)"
   ]
  },
  {
   "cell_type": "code",
   "execution_count": null,
   "metadata": {},
   "outputs": [],
   "source": [
    "random_coef"
   ]
  },
  {
   "cell_type": "code",
   "execution_count": null,
   "metadata": {},
   "outputs": [],
   "source": [
    "rc"
   ]
  },
  {
   "cell_type": "markdown",
   "metadata": {},
   "source": [
    "### Input data I have, now let's plot some shit\n",
    "\n",
    "- input - **dictionary**"
   ]
  },
  {
   "cell_type": "code",
   "execution_count": null,
   "metadata": {
    "collapsed": true
   },
   "outputs": [],
   "source": [
    "def plot_rich_club(rich_club_coef, random_values=False):\n",
    "    pass"
   ]
  },
  {
   "cell_type": "code",
   "execution_count": null,
   "metadata": {},
   "outputs": [],
   "source": [
    "rc"
   ]
  },
  {
   "cell_type": "code",
   "execution_count": null,
   "metadata": {},
   "outputs": [],
   "source": [
    "random_coef"
   ]
  },
  {
   "cell_type": "code",
   "execution_count": null,
   "metadata": {},
   "outputs": [],
   "source": [
    "deg"
   ]
  },
  {
   "cell_type": "code",
   "execution_count": null,
   "metadata": {},
   "outputs": [],
   "source": [
    "len(deg)"
   ]
  },
  {
   "cell_type": "code",
   "execution_count": null,
   "metadata": {},
   "outputs": [],
   "source": [
    "max(rc)"
   ]
  },
  {
   "cell_type": "code",
   "execution_count": null,
   "metadata": {},
   "outputs": [],
   "source": [
    "# plot the figure\n",
    "x_max = max(deg)\n",
    "y_max = max(rc) + 0.2\n",
    "\n",
    "fig, ax = plt.subplots(figsize=(10, 6))\n",
    "\n",
    "ax = sns.lineplot(x=deg, y=rc, color=\"#06209c\")\n",
    "ax = sns.lineplot(x=deg, y=random_coef, color=\"#c1b8b1\")\n",
    "\n",
    "# Fix the x and y axis limits\n",
    "ax.set_xlim((0, x_max))\n",
    "ax.set_ylim((0, y_max))\n",
    "\n",
    "# Make sure there aren't too many bins!\n",
    "ax.locator_params(nbins=4)\n",
    "\n",
    "# Set the x and y axis labels\n",
    "ax.set_xlabel(\"Degree\")\n",
    "ax.set_ylabel(\"Rich Club\")\n",
    "\n",
    "# Despine because we all agree it looks better that way\n",
    "sns.despine()\n",
    "\n",
    "plt.tight_layout()\n",
    "\n",
    "# Save the Figure\n",
    "# fig.savefig(\"RuslanAAA\", bbox_inches=0, dpi=100)\n",
    "# plt.close(fig)"
   ]
  },
  {
   "cell_type": "code",
   "execution_count": null,
   "metadata": {
    "collapsed": true
   },
   "outputs": [],
   "source": []
  },
  {
   "cell_type": "code",
   "execution_count": null,
   "metadata": {
    "collapsed": true
   },
   "outputs": [],
   "source": []
  },
  {
   "cell_type": "code",
   "execution_count": null,
   "metadata": {
    "collapsed": true
   },
   "outputs": [],
   "source": [
    "# set seaborn style\n",
    "sns.set(style=\"white\")\n",
    "sns.set_context(\"poster\", font_scale=1)\n",
    "\n",
    "# to diable styles\n",
    "# sns.reset_orig()"
   ]
  },
  {
   "cell_type": "code",
   "execution_count": null,
   "metadata": {
    "collapsed": true
   },
   "outputs": [],
   "source": []
  },
  {
   "cell_type": "code",
   "execution_count": null,
   "metadata": {
    "collapsed": true
   },
   "outputs": [],
   "source": []
  },
  {
   "cell_type": "markdown",
   "metadata": {
    "collapsed": true
   },
   "source": [
    "### Test saving to a file"
   ]
  },
  {
   "cell_type": "code",
   "execution_count": null,
   "metadata": {},
   "outputs": [],
   "source": [
    "import importlib.util\n",
    "spec = importlib.util.spec_from_file_location(\"plot_rich_club\", \"/home/pilot/GSoC/scona/scona/visualisations.py\")\n",
    "foo = importlib.util.module_from_spec(spec)\n",
    "spec.loader.exec_module(foo)"
   ]
  },
  {
   "cell_type": "code",
   "execution_count": null,
   "metadata": {
    "collapsed": true
   },
   "outputs": [],
   "source": []
  },
  {
   "cell_type": "code",
   "execution_count": null,
   "metadata": {
    "collapsed": true
   },
   "outputs": [],
   "source": [
    "from scona.graph_measures import rich_club\n",
    "\n",
    "rich_club_coefficient = rich_club(H)"
   ]
  },
  {
   "cell_type": "code",
   "execution_count": null,
   "metadata": {
    "collapsed": true
   },
   "outputs": [],
   "source": [
    "# make a random rich_club values produced from the random graph\n",
    "\n",
    "from scona.make_graphs import random_graph\n",
    "\n",
    "# create empty numpy array for rich_club values of 10 random graphs \n",
    "rc_rand = np.ones([len(rich_club_coefficient), 10])\n",
    "\n",
    "for i in range(10):\n",
    "    R = random_graph(H)\n",
    "    \n",
    "    # Calculate the rich club coefficient\n",
    "    rc_rand_dict = rich_club(R)\n",
    "\n",
    "    # And save the values to the numpy array you created earlier\n",
    "    rc_rand[:, i] = list(rc_rand_dict.values())\n",
    "\n",
    "# get the average values of 10 random graph's rich club values\n",
    "random_coef = np.mean(rc_rand, axis=1)\n",
    "\n",
    "# make a dict of random rich_club values\n",
    "for key in list(rc_rand_dict.keys()):\n",
    "    rc_rand_dict[key] = random_coef[key]"
   ]
  },
  {
   "cell_type": "code",
   "execution_count": null,
   "metadata": {},
   "outputs": [],
   "source": [
    "foo.plot_rich_club(rich_club_coefficient, rc_rand_dict, figure_name = \"/home/pilot/GSoC/HAHAHAHH/OAOAOAO/pla.jpg\")"
   ]
  },
  {
   "cell_type": "code",
   "execution_count": null,
   "metadata": {
    "collapsed": true
   },
   "outputs": [],
   "source": []
  },
  {
   "cell_type": "markdown",
   "metadata": {
    "collapsed": true
   },
   "source": [
    "-----------------------------------------------------------"
   ]
  },
  {
   "cell_type": "markdown",
   "metadata": {
    "collapsed": true
   },
   "source": [
    "----------------------------------------------------"
   ]
  },
  {
   "cell_type": "code",
   "execution_count": null,
   "metadata": {
    "collapsed": true
   },
   "outputs": [],
   "source": []
  },
  {
   "cell_type": "code",
   "execution_count": null,
   "metadata": {
    "collapsed": true
   },
   "outputs": [],
   "source": []
  },
  {
   "cell_type": "code",
   "execution_count": null,
   "metadata": {
    "collapsed": true
   },
   "outputs": [],
   "source": []
  },
  {
   "cell_type": "code",
   "execution_count": null,
   "metadata": {
    "collapsed": true
   },
   "outputs": [],
   "source": []
  },
  {
   "cell_type": "code",
   "execution_count": null,
   "metadata": {
    "collapsed": true
   },
   "outputs": [],
   "source": []
  },
  {
   "cell_type": "code",
   "execution_count": null,
   "metadata": {
    "collapsed": true
   },
   "outputs": [],
   "source": []
  },
  {
   "cell_type": "code",
   "execution_count": null,
   "metadata": {
    "collapsed": true
   },
   "outputs": [],
   "source": []
  },
  {
   "cell_type": "code",
   "execution_count": null,
   "metadata": {
    "collapsed": true
   },
   "outputs": [],
   "source": []
  },
  {
   "cell_type": "code",
   "execution_count": null,
   "metadata": {
    "collapsed": true
   },
   "outputs": [],
   "source": []
  },
  {
   "cell_type": "code",
   "execution_count": null,
   "metadata": {
    "collapsed": true
   },
   "outputs": [],
   "source": []
  },
  {
   "cell_type": "code",
   "execution_count": null,
   "metadata": {
    "collapsed": true
   },
   "outputs": [],
   "source": []
  },
  {
   "cell_type": "code",
   "execution_count": null,
   "metadata": {
    "collapsed": true
   },
   "outputs": [],
   "source": []
  },
  {
   "cell_type": "code",
   "execution_count": null,
   "metadata": {
    "collapsed": true
   },
   "outputs": [],
   "source": []
  },
  {
   "cell_type": "code",
   "execution_count": null,
   "metadata": {
    "collapsed": true
   },
   "outputs": [],
   "source": []
  },
  {
   "cell_type": "code",
   "execution_count": null,
   "metadata": {
    "collapsed": true
   },
   "outputs": [],
   "source": []
  },
  {
   "cell_type": "code",
   "execution_count": null,
   "metadata": {
    "collapsed": true
   },
   "outputs": [],
   "source": []
  },
  {
   "cell_type": "code",
   "execution_count": null,
   "metadata": {
    "collapsed": true
   },
   "outputs": [],
   "source": []
  },
  {
   "cell_type": "code",
   "execution_count": null,
   "metadata": {
    "collapsed": true
   },
   "outputs": [],
   "source": [
    "\n"
   ]
  },
  {
   "cell_type": "code",
   "execution_count": null,
   "metadata": {
    "collapsed": true
   },
   "outputs": [],
   "source": []
  }
 ],
 "metadata": {
  "anaconda-cloud": {},
  "kernelspec": {
   "display_name": "Python 3",
   "language": "python",
   "name": "python3"
  },
  "language_info": {
   "codemirror_mode": {
    "name": "ipython",
    "version": 3
   },
   "file_extension": ".py",
   "mimetype": "text/x-python",
   "name": "python",
   "nbconvert_exporter": "python",
   "pygments_lexer": "ipython3",
   "version": "3.6.8"
  }
 },
 "nbformat": 4,
 "nbformat_minor": 1
}
